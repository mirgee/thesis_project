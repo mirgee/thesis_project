{
 "cells": [
  {
   "cell_type": "code",
   "execution_count": 1,
   "metadata": {},
   "outputs": [
    {
     "name": "stdout",
     "output_type": "stream",
     "text": [
      "Thu Aug 22 2019 \n",
      "\n",
      "CPython 3.6.8\n",
      "IPython 7.6.0\n",
      "\n",
      "numpy 1.16.4\n",
      "scipy 1.2.1\n",
      "sklearn 0.21.2\n",
      "pandas 0.24.2\n",
      "\n",
      "compiler   : GCC 7.3.0\n",
      "system     : Linux\n",
      "release    : 4.15.0-58-generic\n",
      "machine    : x86_64\n",
      "processor  : x86_64\n",
      "CPU cores  : 4\n",
      "interpreter: 64bit\n"
     ]
    }
   ],
   "source": [
    "%load_ext autoreload\n",
    "%autoreload 2\n",
    "%load_ext watermark\n",
    "%watermark -v -n -m -p numpy,scipy,sklearn,pandas"
   ]
  },
  {
   "cell_type": "code",
   "execution_count": 2,
   "metadata": {},
   "outputs": [
    {
     "name": "stdout",
     "output_type": "stream",
     "text": [
      "Opening raw data file /home/miroslav/Source/thesis_project/data/processed/1a.fif...\n",
      "This filename (/home/miroslav/Source/thesis_project/data/processed/1a.fif) does not conform to MNE naming conventions. All raw files should end with raw.fif, raw_sss.fif, raw_tsss.fif, raw.fif.gz, raw_sss.fif.gz or raw_tsss.fif.gz\n",
      "Isotrak not found\n",
      "    Range : 0 ... 19104 =      0.000 ...    76.416 secs\n",
      "Ready.\n"
     ]
    },
    {
     "name": "stderr",
     "output_type": "stream",
     "text": [
      "/home/miroslav/Source/thesis_project/src/data/utils.py:18: RuntimeWarning: This filename (/home/miroslav/Source/thesis_project/data/processed/1a.fif) does not conform to MNE naming conventions. All raw files should end with raw.fif, raw_sss.fif, raw_tsss.fif, raw.fif.gz, raw_sss.fif.gz or raw_tsss.fif.gz\n",
      "  raw_fif = mne.io.read_raw_fif(file_path)\n"
     ]
    }
   ],
   "source": [
    "%matplotlib inline\n",
    "import sys\n",
    "import pandas as pd\n",
    "import numpy as np\n",
    "import seaborn as sns\n",
    "import os\n",
    "import nolds\n",
    "import data\n",
    "import mne\n",
    "from random import randint\n",
    "\n",
    "from config import *\n",
    "from data.utils import prepare_dfs, prepare_resp_non, prepare_dep_non, get_metapkl\n",
    "from data.data_files import files_builder, DataKind\n",
    "from classification.prediction import predict\n",
    "from classification.scorers import scorer_factory\n",
    "    \n",
    "metapkl = get_metapkl()\n",
    "meta_df = pd.read_excel(os.path.join(RAW_ROOT, META_FILE_NAME), index_col='ID', names=META_COLUMN_NAMES)\n",
    "data = np.transpose(files_builder(DataKind('processed')).single_file('1a.fif').df.values)"
   ]
  },
  {
   "cell_type": "code",
   "execution_count": 3,
   "metadata": {},
   "outputs": [
    {
     "name": "stdout",
     "output_type": "stream",
     "text": [
      "-1    70\n",
      " 1    63\n",
      "Name: resp, dtype: int64\n"
     ]
    }
   ],
   "source": [
    "def ff(row, col, t1, t2=0):\n",
    "    if row[col] <= t1:\n",
    "        return -1\n",
    "    elif row[col] <= t2: \n",
    "        return 0\n",
    "    else:\n",
    "        return 1\n",
    "    \n",
    "metapkl['resp'] = metapkl.apply(lambda row: ff(row, 'change', 1.8), axis=1)\n",
    "metapkl = metapkl.astype({'resp': 'category'})                                           \n",
    "print(metapkl.loc[(slice(None), 'a'), 'resp'].value_counts())"
   ]
  },
  {
   "cell_type": "code",
   "execution_count": 4,
   "metadata": {
    "scrolled": true
   },
   "outputs": [
    {
     "name": "stderr",
     "output_type": "stream",
     "text": [
      "/home/miroslav/anaconda3/envs/thesis/lib/python3.6/site-packages/sklearn/externals/joblib/__init__.py:15: DeprecationWarning: sklearn.externals.joblib is deprecated in 0.21 and will be removed in 0.23. Please import this functionality directly from joblib, which can be installed with: pip install joblib. If this warning is raised when loading pickled models, you may need to re-serialize those models with scikit-learn 0.21+.\n",
      "  warnings.warn(msg, category=DeprecationWarning)\n",
      "/home/miroslav/anaconda3/envs/thesis/lib/python3.6/site-packages/sklearn/model_selection/_split.py:1978: FutureWarning: The default value of cv will change from 3 to 5 in version 0.22. Specify it explicitly to silence this warning.\n",
      "  warnings.warn(CV_WARNING, FutureWarning)\n"
     ]
    },
    {
     "name": "stdout",
     "output_type": "stream",
     "text": [
      "('corr',)\n",
      "RFECV\n",
      "[('P4', 'corr'), ('O2', 'corr'), ('T4', 'corr'), ('Cz', 'corr')]\n",
      "Class distribution:  {-1: 64, 1: 56}\n",
      "Accuracy: 0.62 (+/- 0.07)\n",
      "Precision: 0.65 (+/- 0.07)\n",
      "Recall: 0.62 (+/- 0.07)\n",
      "F1: 0.60 (+/- 0.08)\n",
      "0.62 $\\pm$ 0.07 & 0.65 $\\pm$ 0.07 & 0.62 $\\pm$ 0.07 & 0.60 $\\pm$ 0.08 &  \\\\ \\hline\n",
      "{'C': 1.5, 'gamma': 'auto', 'kernel': 'linear'}\n",
      "\n",
      "\n",
      "\n",
      "('corr',)\n",
      "SelectFromModel\n",
      "[('FP1', 'corr'), ('C4', 'corr'), ('P3', 'corr'), ('P4', 'corr'), ('O2', 'corr'), ('F8', 'corr'), ('T3', 'corr'), ('T4', 'corr'), ('T5', 'corr'), ('Cz', 'corr')]\n",
      "Class distribution:  {-1: 64, 1: 56}\n",
      "Accuracy: 0.62 (+/- 0.09)\n",
      "Precision: 0.67 (+/- 0.09)\n",
      "Recall: 0.62 (+/- 0.09)\n",
      "F1: 0.61 (+/- 0.10)\n",
      "0.62 $\\pm$ 0.09 & 0.67 $\\pm$ 0.09 & 0.62 $\\pm$ 0.09 & 0.61 $\\pm$ 0.10 &  \\\\ \\hline\n",
      "{'C': 0.5, 'gamma': 'auto', 'kernel': 'linear'}\n",
      "\n",
      "\n",
      "\n",
      "('corr',)\n",
      "Genetic\n",
      "[('FP1', 'corr'), ('FP2', 'corr'), ('P3', 'corr'), ('P4', 'corr'), ('O1', 'corr'), ('T3', 'corr'), ('T5', 'corr'), ('T6', 'corr'), ('Cz', 'corr')]\n",
      "Class distribution:  {-1: 64, 1: 56}\n",
      "Accuracy: 0.67 (+/- 0.07)\n",
      "Precision: 0.71 (+/- 0.06)\n",
      "Recall: 0.67 (+/- 0.07)\n",
      "F1: 0.66 (+/- 0.08)\n",
      "0.67 $\\pm$ 0.07 & 0.71 $\\pm$ 0.06 & 0.67 $\\pm$ 0.07 & 0.66 $\\pm$ 0.08 &  \\\\ \\hline\n",
      "{'C': 1.0, 'gamma': 'auto', 'kernel': 'linear'}\n",
      "\n",
      "\n",
      "\n",
      "('lyap',)\n",
      "RFECV\n",
      "[('Pz', 'lyap')]\n"
     ]
    },
    {
     "name": "stderr",
     "output_type": "stream",
     "text": [
      "/home/miroslav/anaconda3/envs/thesis/lib/python3.6/site-packages/sklearn/model_selection/_split.py:1978: FutureWarning: The default value of cv will change from 3 to 5 in version 0.22. Specify it explicitly to silence this warning.\n",
      "  warnings.warn(CV_WARNING, FutureWarning)\n"
     ]
    },
    {
     "ename": "KeyboardInterrupt",
     "evalue": "",
     "output_type": "error",
     "traceback": [
      "\u001b[0;31m---------------------------------------------------------------------------\u001b[0m",
      "\u001b[0;31mKeyboardInterrupt\u001b[0m                         Traceback (most recent call last)",
      "\u001b[0;32m<ipython-input-4-431507867ffd>\u001b[0m in \u001b[0;36m<module>\u001b[0;34m\u001b[0m\n\u001b[1;32m     54\u001b[0m             \u001b[0mprint\u001b[0m\u001b[0;34m(\u001b[0m\u001b[0mselector_name\u001b[0m\u001b[0;34m)\u001b[0m\u001b[0;34m\u001b[0m\u001b[0;34m\u001b[0m\u001b[0m\n\u001b[1;32m     55\u001b[0m             \u001b[0mgs\u001b[0m \u001b[0;34m=\u001b[0m \u001b[0mGridSearchCV\u001b[0m\u001b[0;34m(\u001b[0m\u001b[0mestimator\u001b[0m\u001b[0;34m,\u001b[0m \u001b[0mparams\u001b[0m\u001b[0;34m,\u001b[0m \u001b[0miid\u001b[0m\u001b[0;34m=\u001b[0m\u001b[0;32mFalse\u001b[0m\u001b[0;34m,\u001b[0m \u001b[0mscoring\u001b[0m\u001b[0;34m=\u001b[0m\u001b[0mscorer\u001b[0m\u001b[0;34m,\u001b[0m \u001b[0mcv\u001b[0m\u001b[0;34m=\u001b[0m\u001b[0mgrid_search_cv\u001b[0m\u001b[0;34m)\u001b[0m\u001b[0;34m\u001b[0m\u001b[0;34m\u001b[0m\u001b[0m\n\u001b[0;32m---> 56\u001b[0;31m             \u001b[0mpredict\u001b[0m\u001b[0;34m(\u001b[0m\u001b[0;34m'resp'\u001b[0m\u001b[0;34m,\u001b[0m \u001b[0;34m'a'\u001b[0m\u001b[0;34m,\u001b[0m \u001b[0mcols\u001b[0m\u001b[0;34m,\u001b[0m \u001b[0mestimator\u001b[0m\u001b[0;34m,\u001b[0m \u001b[0mmetapkl\u001b[0m\u001b[0;34m,\u001b[0m \u001b[0mgs\u001b[0m\u001b[0;34m=\u001b[0m\u001b[0mgs\u001b[0m\u001b[0;34m,\u001b[0m \u001b[0mshow_selected\u001b[0m\u001b[0;34m=\u001b[0m\u001b[0;32mTrue\u001b[0m\u001b[0;34m,\u001b[0m \u001b[0mselector\u001b[0m\u001b[0;34m=\u001b[0m\u001b[0mselector\u001b[0m\u001b[0;34m)\u001b[0m\u001b[0;34m\u001b[0m\u001b[0;34m\u001b[0m\u001b[0m\n\u001b[0m\u001b[1;32m     57\u001b[0m             \u001b[0mprint\u001b[0m\u001b[0;34m(\u001b[0m\u001b[0mgs\u001b[0m\u001b[0;34m.\u001b[0m\u001b[0mbest_params_\u001b[0m\u001b[0;34m)\u001b[0m\u001b[0;34m\u001b[0m\u001b[0;34m\u001b[0m\u001b[0m\n\u001b[1;32m     58\u001b[0m             \u001b[0mprint\u001b[0m\u001b[0;34m(\u001b[0m\u001b[0;34m'\\n\\n'\u001b[0m\u001b[0;34m)\u001b[0m\u001b[0;34m\u001b[0m\u001b[0;34m\u001b[0m\u001b[0m\n",
      "\u001b[0;32m~/Source/thesis_project/src/classification/prediction.py\u001b[0m in \u001b[0;36mpredict\u001b[0;34m(lab, ba, cols, estimator, metapkl, gs, evaluate_on_all, channels, selector, print_incorrectly_predicted, show_selected, seed, eval_cv)\u001b[0m\n\u001b[1;32m     33\u001b[0m \u001b[0;34m\u001b[0m\u001b[0m\n\u001b[1;32m     34\u001b[0m     \u001b[0;32mif\u001b[0m \u001b[0mgs\u001b[0m \u001b[0;32mis\u001b[0m \u001b[0;32mnot\u001b[0m \u001b[0;32mNone\u001b[0m\u001b[0;34m:\u001b[0m\u001b[0;34m\u001b[0m\u001b[0;34m\u001b[0m\u001b[0m\n\u001b[0;32m---> 35\u001b[0;31m         \u001b[0mgs\u001b[0m \u001b[0;34m=\u001b[0m \u001b[0mgs\u001b[0m\u001b[0;34m.\u001b[0m\u001b[0mfit\u001b[0m\u001b[0;34m(\u001b[0m\u001b[0mX\u001b[0m\u001b[0;34m,\u001b[0m \u001b[0my\u001b[0m\u001b[0;34m)\u001b[0m\u001b[0;34m\u001b[0m\u001b[0;34m\u001b[0m\u001b[0m\n\u001b[0m\u001b[1;32m     36\u001b[0m         \u001b[0mestimator\u001b[0m \u001b[0;34m=\u001b[0m \u001b[0mgs\u001b[0m\u001b[0;34m.\u001b[0m\u001b[0mbest_estimator_\u001b[0m\u001b[0;34m\u001b[0m\u001b[0;34m\u001b[0m\u001b[0m\n\u001b[1;32m     37\u001b[0m \u001b[0;34m\u001b[0m\u001b[0m\n",
      "\u001b[0;32m~/anaconda3/envs/thesis/lib/python3.6/site-packages/sklearn/model_selection/_search.py\u001b[0m in \u001b[0;36mfit\u001b[0;34m(self, X, y, groups, **fit_params)\u001b[0m\n\u001b[1;32m    685\u001b[0m                 \u001b[0;32mreturn\u001b[0m \u001b[0mresults\u001b[0m\u001b[0;34m\u001b[0m\u001b[0;34m\u001b[0m\u001b[0m\n\u001b[1;32m    686\u001b[0m \u001b[0;34m\u001b[0m\u001b[0m\n\u001b[0;32m--> 687\u001b[0;31m             \u001b[0mself\u001b[0m\u001b[0;34m.\u001b[0m\u001b[0m_run_search\u001b[0m\u001b[0;34m(\u001b[0m\u001b[0mevaluate_candidates\u001b[0m\u001b[0;34m)\u001b[0m\u001b[0;34m\u001b[0m\u001b[0;34m\u001b[0m\u001b[0m\n\u001b[0m\u001b[1;32m    688\u001b[0m \u001b[0;34m\u001b[0m\u001b[0m\n\u001b[1;32m    689\u001b[0m         \u001b[0;31m# For multi-metric evaluation, store the best_index_, best_params_ and\u001b[0m\u001b[0;34m\u001b[0m\u001b[0;34m\u001b[0m\u001b[0;34m\u001b[0m\u001b[0m\n",
      "\u001b[0;32m~/anaconda3/envs/thesis/lib/python3.6/site-packages/sklearn/model_selection/_search.py\u001b[0m in \u001b[0;36m_run_search\u001b[0;34m(self, evaluate_candidates)\u001b[0m\n\u001b[1;32m   1146\u001b[0m     \u001b[0;32mdef\u001b[0m \u001b[0m_run_search\u001b[0m\u001b[0;34m(\u001b[0m\u001b[0mself\u001b[0m\u001b[0;34m,\u001b[0m \u001b[0mevaluate_candidates\u001b[0m\u001b[0;34m)\u001b[0m\u001b[0;34m:\u001b[0m\u001b[0;34m\u001b[0m\u001b[0;34m\u001b[0m\u001b[0m\n\u001b[1;32m   1147\u001b[0m         \u001b[0;34m\"\"\"Search all candidates in param_grid\"\"\"\u001b[0m\u001b[0;34m\u001b[0m\u001b[0;34m\u001b[0m\u001b[0m\n\u001b[0;32m-> 1148\u001b[0;31m         \u001b[0mevaluate_candidates\u001b[0m\u001b[0;34m(\u001b[0m\u001b[0mParameterGrid\u001b[0m\u001b[0;34m(\u001b[0m\u001b[0mself\u001b[0m\u001b[0;34m.\u001b[0m\u001b[0mparam_grid\u001b[0m\u001b[0;34m)\u001b[0m\u001b[0;34m)\u001b[0m\u001b[0;34m\u001b[0m\u001b[0;34m\u001b[0m\u001b[0m\n\u001b[0m\u001b[1;32m   1149\u001b[0m \u001b[0;34m\u001b[0m\u001b[0m\n\u001b[1;32m   1150\u001b[0m \u001b[0;34m\u001b[0m\u001b[0m\n",
      "\u001b[0;32m~/anaconda3/envs/thesis/lib/python3.6/site-packages/sklearn/model_selection/_search.py\u001b[0m in \u001b[0;36mevaluate_candidates\u001b[0;34m(candidate_params)\u001b[0m\n\u001b[1;32m    664\u001b[0m                                \u001b[0;32mfor\u001b[0m \u001b[0mparameters\u001b[0m\u001b[0;34m,\u001b[0m \u001b[0;34m(\u001b[0m\u001b[0mtrain\u001b[0m\u001b[0;34m,\u001b[0m \u001b[0mtest\u001b[0m\u001b[0;34m)\u001b[0m\u001b[0;34m\u001b[0m\u001b[0;34m\u001b[0m\u001b[0m\n\u001b[1;32m    665\u001b[0m                                in product(candidate_params,\n\u001b[0;32m--> 666\u001b[0;31m                                           cv.split(X, y, groups)))\n\u001b[0m\u001b[1;32m    667\u001b[0m \u001b[0;34m\u001b[0m\u001b[0m\n\u001b[1;32m    668\u001b[0m                 \u001b[0;32mif\u001b[0m \u001b[0mlen\u001b[0m\u001b[0;34m(\u001b[0m\u001b[0mout\u001b[0m\u001b[0;34m)\u001b[0m \u001b[0;34m<\u001b[0m \u001b[0;36m1\u001b[0m\u001b[0;34m:\u001b[0m\u001b[0;34m\u001b[0m\u001b[0;34m\u001b[0m\u001b[0m\n",
      "\u001b[0;32m~/anaconda3/envs/thesis/lib/python3.6/site-packages/joblib/parallel.py\u001b[0m in \u001b[0;36m__call__\u001b[0;34m(self, iterable)\u001b[0m\n\u001b[1;32m    922\u001b[0m                 \u001b[0mself\u001b[0m\u001b[0;34m.\u001b[0m\u001b[0m_iterating\u001b[0m \u001b[0;34m=\u001b[0m \u001b[0mself\u001b[0m\u001b[0;34m.\u001b[0m\u001b[0m_original_iterator\u001b[0m \u001b[0;32mis\u001b[0m \u001b[0;32mnot\u001b[0m \u001b[0;32mNone\u001b[0m\u001b[0;34m\u001b[0m\u001b[0;34m\u001b[0m\u001b[0m\n\u001b[1;32m    923\u001b[0m \u001b[0;34m\u001b[0m\u001b[0m\n\u001b[0;32m--> 924\u001b[0;31m             \u001b[0;32mwhile\u001b[0m \u001b[0mself\u001b[0m\u001b[0;34m.\u001b[0m\u001b[0mdispatch_one_batch\u001b[0m\u001b[0;34m(\u001b[0m\u001b[0miterator\u001b[0m\u001b[0;34m)\u001b[0m\u001b[0;34m:\u001b[0m\u001b[0;34m\u001b[0m\u001b[0;34m\u001b[0m\u001b[0m\n\u001b[0m\u001b[1;32m    925\u001b[0m                 \u001b[0;32mpass\u001b[0m\u001b[0;34m\u001b[0m\u001b[0;34m\u001b[0m\u001b[0m\n\u001b[1;32m    926\u001b[0m \u001b[0;34m\u001b[0m\u001b[0m\n",
      "\u001b[0;32m~/anaconda3/envs/thesis/lib/python3.6/site-packages/joblib/parallel.py\u001b[0m in \u001b[0;36mdispatch_one_batch\u001b[0;34m(self, iterator)\u001b[0m\n\u001b[1;32m    757\u001b[0m                 \u001b[0;32mreturn\u001b[0m \u001b[0;32mFalse\u001b[0m\u001b[0;34m\u001b[0m\u001b[0;34m\u001b[0m\u001b[0m\n\u001b[1;32m    758\u001b[0m             \u001b[0;32melse\u001b[0m\u001b[0;34m:\u001b[0m\u001b[0;34m\u001b[0m\u001b[0;34m\u001b[0m\u001b[0m\n\u001b[0;32m--> 759\u001b[0;31m                 \u001b[0mself\u001b[0m\u001b[0;34m.\u001b[0m\u001b[0m_dispatch\u001b[0m\u001b[0;34m(\u001b[0m\u001b[0mtasks\u001b[0m\u001b[0;34m)\u001b[0m\u001b[0;34m\u001b[0m\u001b[0;34m\u001b[0m\u001b[0m\n\u001b[0m\u001b[1;32m    760\u001b[0m                 \u001b[0;32mreturn\u001b[0m \u001b[0;32mTrue\u001b[0m\u001b[0;34m\u001b[0m\u001b[0;34m\u001b[0m\u001b[0m\n\u001b[1;32m    761\u001b[0m \u001b[0;34m\u001b[0m\u001b[0m\n",
      "\u001b[0;32m~/anaconda3/envs/thesis/lib/python3.6/site-packages/joblib/parallel.py\u001b[0m in \u001b[0;36m_dispatch\u001b[0;34m(self, batch)\u001b[0m\n\u001b[1;32m    714\u001b[0m         \u001b[0;32mwith\u001b[0m \u001b[0mself\u001b[0m\u001b[0;34m.\u001b[0m\u001b[0m_lock\u001b[0m\u001b[0;34m:\u001b[0m\u001b[0;34m\u001b[0m\u001b[0;34m\u001b[0m\u001b[0m\n\u001b[1;32m    715\u001b[0m             \u001b[0mjob_idx\u001b[0m \u001b[0;34m=\u001b[0m \u001b[0mlen\u001b[0m\u001b[0;34m(\u001b[0m\u001b[0mself\u001b[0m\u001b[0;34m.\u001b[0m\u001b[0m_jobs\u001b[0m\u001b[0;34m)\u001b[0m\u001b[0;34m\u001b[0m\u001b[0;34m\u001b[0m\u001b[0m\n\u001b[0;32m--> 716\u001b[0;31m             \u001b[0mjob\u001b[0m \u001b[0;34m=\u001b[0m \u001b[0mself\u001b[0m\u001b[0;34m.\u001b[0m\u001b[0m_backend\u001b[0m\u001b[0;34m.\u001b[0m\u001b[0mapply_async\u001b[0m\u001b[0;34m(\u001b[0m\u001b[0mbatch\u001b[0m\u001b[0;34m,\u001b[0m \u001b[0mcallback\u001b[0m\u001b[0;34m=\u001b[0m\u001b[0mcb\u001b[0m\u001b[0;34m)\u001b[0m\u001b[0;34m\u001b[0m\u001b[0;34m\u001b[0m\u001b[0m\n\u001b[0m\u001b[1;32m    717\u001b[0m             \u001b[0;31m# A job can complete so quickly than its callback is\u001b[0m\u001b[0;34m\u001b[0m\u001b[0;34m\u001b[0m\u001b[0;34m\u001b[0m\u001b[0m\n\u001b[1;32m    718\u001b[0m             \u001b[0;31m# called before we get here, causing self._jobs to\u001b[0m\u001b[0;34m\u001b[0m\u001b[0;34m\u001b[0m\u001b[0;34m\u001b[0m\u001b[0m\n",
      "\u001b[0;32m~/anaconda3/envs/thesis/lib/python3.6/site-packages/joblib/_parallel_backends.py\u001b[0m in \u001b[0;36mapply_async\u001b[0;34m(self, func, callback)\u001b[0m\n\u001b[1;32m    180\u001b[0m     \u001b[0;32mdef\u001b[0m \u001b[0mapply_async\u001b[0m\u001b[0;34m(\u001b[0m\u001b[0mself\u001b[0m\u001b[0;34m,\u001b[0m \u001b[0mfunc\u001b[0m\u001b[0;34m,\u001b[0m \u001b[0mcallback\u001b[0m\u001b[0;34m=\u001b[0m\u001b[0;32mNone\u001b[0m\u001b[0;34m)\u001b[0m\u001b[0;34m:\u001b[0m\u001b[0;34m\u001b[0m\u001b[0;34m\u001b[0m\u001b[0m\n\u001b[1;32m    181\u001b[0m         \u001b[0;34m\"\"\"Schedule a func to be run\"\"\"\u001b[0m\u001b[0;34m\u001b[0m\u001b[0;34m\u001b[0m\u001b[0m\n\u001b[0;32m--> 182\u001b[0;31m         \u001b[0mresult\u001b[0m \u001b[0;34m=\u001b[0m \u001b[0mImmediateResult\u001b[0m\u001b[0;34m(\u001b[0m\u001b[0mfunc\u001b[0m\u001b[0;34m)\u001b[0m\u001b[0;34m\u001b[0m\u001b[0;34m\u001b[0m\u001b[0m\n\u001b[0m\u001b[1;32m    183\u001b[0m         \u001b[0;32mif\u001b[0m \u001b[0mcallback\u001b[0m\u001b[0;34m:\u001b[0m\u001b[0;34m\u001b[0m\u001b[0;34m\u001b[0m\u001b[0m\n\u001b[1;32m    184\u001b[0m             \u001b[0mcallback\u001b[0m\u001b[0;34m(\u001b[0m\u001b[0mresult\u001b[0m\u001b[0;34m)\u001b[0m\u001b[0;34m\u001b[0m\u001b[0;34m\u001b[0m\u001b[0m\n",
      "\u001b[0;32m~/anaconda3/envs/thesis/lib/python3.6/site-packages/joblib/_parallel_backends.py\u001b[0m in \u001b[0;36m__init__\u001b[0;34m(self, batch)\u001b[0m\n\u001b[1;32m    547\u001b[0m         \u001b[0;31m# Don't delay the application, to avoid keeping the input\u001b[0m\u001b[0;34m\u001b[0m\u001b[0;34m\u001b[0m\u001b[0;34m\u001b[0m\u001b[0m\n\u001b[1;32m    548\u001b[0m         \u001b[0;31m# arguments in memory\u001b[0m\u001b[0;34m\u001b[0m\u001b[0;34m\u001b[0m\u001b[0;34m\u001b[0m\u001b[0m\n\u001b[0;32m--> 549\u001b[0;31m         \u001b[0mself\u001b[0m\u001b[0;34m.\u001b[0m\u001b[0mresults\u001b[0m \u001b[0;34m=\u001b[0m \u001b[0mbatch\u001b[0m\u001b[0;34m(\u001b[0m\u001b[0;34m)\u001b[0m\u001b[0;34m\u001b[0m\u001b[0;34m\u001b[0m\u001b[0m\n\u001b[0m\u001b[1;32m    550\u001b[0m \u001b[0;34m\u001b[0m\u001b[0m\n\u001b[1;32m    551\u001b[0m     \u001b[0;32mdef\u001b[0m \u001b[0mget\u001b[0m\u001b[0;34m(\u001b[0m\u001b[0mself\u001b[0m\u001b[0;34m)\u001b[0m\u001b[0;34m:\u001b[0m\u001b[0;34m\u001b[0m\u001b[0;34m\u001b[0m\u001b[0m\n",
      "\u001b[0;32m~/anaconda3/envs/thesis/lib/python3.6/site-packages/joblib/parallel.py\u001b[0m in \u001b[0;36m__call__\u001b[0;34m(self)\u001b[0m\n\u001b[1;32m    223\u001b[0m         \u001b[0;32mwith\u001b[0m \u001b[0mparallel_backend\u001b[0m\u001b[0;34m(\u001b[0m\u001b[0mself\u001b[0m\u001b[0;34m.\u001b[0m\u001b[0m_backend\u001b[0m\u001b[0;34m,\u001b[0m \u001b[0mn_jobs\u001b[0m\u001b[0;34m=\u001b[0m\u001b[0mself\u001b[0m\u001b[0;34m.\u001b[0m\u001b[0m_n_jobs\u001b[0m\u001b[0;34m)\u001b[0m\u001b[0;34m:\u001b[0m\u001b[0;34m\u001b[0m\u001b[0;34m\u001b[0m\u001b[0m\n\u001b[1;32m    224\u001b[0m             return [func(*args, **kwargs)\n\u001b[0;32m--> 225\u001b[0;31m                     for func, args, kwargs in self.items]\n\u001b[0m\u001b[1;32m    226\u001b[0m \u001b[0;34m\u001b[0m\u001b[0m\n\u001b[1;32m    227\u001b[0m     \u001b[0;32mdef\u001b[0m \u001b[0m__len__\u001b[0m\u001b[0;34m(\u001b[0m\u001b[0mself\u001b[0m\u001b[0;34m)\u001b[0m\u001b[0;34m:\u001b[0m\u001b[0;34m\u001b[0m\u001b[0;34m\u001b[0m\u001b[0m\n",
      "\u001b[0;32m~/anaconda3/envs/thesis/lib/python3.6/site-packages/joblib/parallel.py\u001b[0m in \u001b[0;36m<listcomp>\u001b[0;34m(.0)\u001b[0m\n\u001b[1;32m    223\u001b[0m         \u001b[0;32mwith\u001b[0m \u001b[0mparallel_backend\u001b[0m\u001b[0;34m(\u001b[0m\u001b[0mself\u001b[0m\u001b[0;34m.\u001b[0m\u001b[0m_backend\u001b[0m\u001b[0;34m,\u001b[0m \u001b[0mn_jobs\u001b[0m\u001b[0;34m=\u001b[0m\u001b[0mself\u001b[0m\u001b[0;34m.\u001b[0m\u001b[0m_n_jobs\u001b[0m\u001b[0;34m)\u001b[0m\u001b[0;34m:\u001b[0m\u001b[0;34m\u001b[0m\u001b[0;34m\u001b[0m\u001b[0m\n\u001b[1;32m    224\u001b[0m             return [func(*args, **kwargs)\n\u001b[0;32m--> 225\u001b[0;31m                     for func, args, kwargs in self.items]\n\u001b[0m\u001b[1;32m    226\u001b[0m \u001b[0;34m\u001b[0m\u001b[0m\n\u001b[1;32m    227\u001b[0m     \u001b[0;32mdef\u001b[0m \u001b[0m__len__\u001b[0m\u001b[0;34m(\u001b[0m\u001b[0mself\u001b[0m\u001b[0;34m)\u001b[0m\u001b[0;34m:\u001b[0m\u001b[0;34m\u001b[0m\u001b[0;34m\u001b[0m\u001b[0m\n",
      "\u001b[0;32m~/anaconda3/envs/thesis/lib/python3.6/site-packages/sklearn/model_selection/_validation.py\u001b[0m in \u001b[0;36m_fit_and_score\u001b[0;34m(estimator, X, y, scorer, train, test, verbose, parameters, fit_params, return_train_score, return_parameters, return_n_test_samples, return_times, return_estimator, error_score)\u001b[0m\n\u001b[1;32m    512\u001b[0m             \u001b[0mestimator\u001b[0m\u001b[0;34m.\u001b[0m\u001b[0mfit\u001b[0m\u001b[0;34m(\u001b[0m\u001b[0mX_train\u001b[0m\u001b[0;34m,\u001b[0m \u001b[0;34m**\u001b[0m\u001b[0mfit_params\u001b[0m\u001b[0;34m)\u001b[0m\u001b[0;34m\u001b[0m\u001b[0;34m\u001b[0m\u001b[0m\n\u001b[1;32m    513\u001b[0m         \u001b[0;32melse\u001b[0m\u001b[0;34m:\u001b[0m\u001b[0;34m\u001b[0m\u001b[0;34m\u001b[0m\u001b[0m\n\u001b[0;32m--> 514\u001b[0;31m             \u001b[0mestimator\u001b[0m\u001b[0;34m.\u001b[0m\u001b[0mfit\u001b[0m\u001b[0;34m(\u001b[0m\u001b[0mX_train\u001b[0m\u001b[0;34m,\u001b[0m \u001b[0my_train\u001b[0m\u001b[0;34m,\u001b[0m \u001b[0;34m**\u001b[0m\u001b[0mfit_params\u001b[0m\u001b[0;34m)\u001b[0m\u001b[0;34m\u001b[0m\u001b[0;34m\u001b[0m\u001b[0m\n\u001b[0m\u001b[1;32m    515\u001b[0m \u001b[0;34m\u001b[0m\u001b[0m\n\u001b[1;32m    516\u001b[0m     \u001b[0;32mexcept\u001b[0m \u001b[0mException\u001b[0m \u001b[0;32mas\u001b[0m \u001b[0me\u001b[0m\u001b[0;34m:\u001b[0m\u001b[0;34m\u001b[0m\u001b[0;34m\u001b[0m\u001b[0m\n",
      "\u001b[0;32m~/anaconda3/envs/thesis/lib/python3.6/site-packages/sklearn/svm/base.py\u001b[0m in \u001b[0;36mfit\u001b[0;34m(self, X, y, sample_weight)\u001b[0m\n\u001b[1;32m    207\u001b[0m \u001b[0;34m\u001b[0m\u001b[0m\n\u001b[1;32m    208\u001b[0m         \u001b[0mseed\u001b[0m \u001b[0;34m=\u001b[0m \u001b[0mrnd\u001b[0m\u001b[0;34m.\u001b[0m\u001b[0mrandint\u001b[0m\u001b[0;34m(\u001b[0m\u001b[0mnp\u001b[0m\u001b[0;34m.\u001b[0m\u001b[0miinfo\u001b[0m\u001b[0;34m(\u001b[0m\u001b[0;34m'i'\u001b[0m\u001b[0;34m)\u001b[0m\u001b[0;34m.\u001b[0m\u001b[0mmax\u001b[0m\u001b[0;34m)\u001b[0m\u001b[0;34m\u001b[0m\u001b[0;34m\u001b[0m\u001b[0m\n\u001b[0;32m--> 209\u001b[0;31m         \u001b[0mfit\u001b[0m\u001b[0;34m(\u001b[0m\u001b[0mX\u001b[0m\u001b[0;34m,\u001b[0m \u001b[0my\u001b[0m\u001b[0;34m,\u001b[0m \u001b[0msample_weight\u001b[0m\u001b[0;34m,\u001b[0m \u001b[0msolver_type\u001b[0m\u001b[0;34m,\u001b[0m \u001b[0mkernel\u001b[0m\u001b[0;34m,\u001b[0m \u001b[0mrandom_seed\u001b[0m\u001b[0;34m=\u001b[0m\u001b[0mseed\u001b[0m\u001b[0;34m)\u001b[0m\u001b[0;34m\u001b[0m\u001b[0;34m\u001b[0m\u001b[0m\n\u001b[0m\u001b[1;32m    210\u001b[0m         \u001b[0;31m# see comment on the other call to np.iinfo in this file\u001b[0m\u001b[0;34m\u001b[0m\u001b[0;34m\u001b[0m\u001b[0;34m\u001b[0m\u001b[0m\n\u001b[1;32m    211\u001b[0m \u001b[0;34m\u001b[0m\u001b[0m\n",
      "\u001b[0;32m~/anaconda3/envs/thesis/lib/python3.6/site-packages/sklearn/svm/base.py\u001b[0m in \u001b[0;36m_dense_fit\u001b[0;34m(self, X, y, sample_weight, solver_type, kernel, random_seed)\u001b[0m\n\u001b[1;32m    266\u001b[0m                 \u001b[0mcache_size\u001b[0m\u001b[0;34m=\u001b[0m\u001b[0mself\u001b[0m\u001b[0;34m.\u001b[0m\u001b[0mcache_size\u001b[0m\u001b[0;34m,\u001b[0m \u001b[0mcoef0\u001b[0m\u001b[0;34m=\u001b[0m\u001b[0mself\u001b[0m\u001b[0;34m.\u001b[0m\u001b[0mcoef0\u001b[0m\u001b[0;34m,\u001b[0m\u001b[0;34m\u001b[0m\u001b[0;34m\u001b[0m\u001b[0m\n\u001b[1;32m    267\u001b[0m                 \u001b[0mgamma\u001b[0m\u001b[0;34m=\u001b[0m\u001b[0mself\u001b[0m\u001b[0;34m.\u001b[0m\u001b[0m_gamma\u001b[0m\u001b[0;34m,\u001b[0m \u001b[0mepsilon\u001b[0m\u001b[0;34m=\u001b[0m\u001b[0mself\u001b[0m\u001b[0;34m.\u001b[0m\u001b[0mepsilon\u001b[0m\u001b[0;34m,\u001b[0m\u001b[0;34m\u001b[0m\u001b[0;34m\u001b[0m\u001b[0m\n\u001b[0;32m--> 268\u001b[0;31m                 max_iter=self.max_iter, random_seed=random_seed)\n\u001b[0m\u001b[1;32m    269\u001b[0m \u001b[0;34m\u001b[0m\u001b[0m\n\u001b[1;32m    270\u001b[0m         \u001b[0mself\u001b[0m\u001b[0;34m.\u001b[0m\u001b[0m_warn_from_fit_status\u001b[0m\u001b[0;34m(\u001b[0m\u001b[0;34m)\u001b[0m\u001b[0;34m\u001b[0m\u001b[0;34m\u001b[0m\u001b[0m\n",
      "\u001b[0;31mKeyboardInterrupt\u001b[0m: "
     ]
    }
   ],
   "source": [
    "from itertools import combinations\n",
    "from sklearn import svm, datasets, metrics\n",
    "from sklearn.feature_selection import (SelectFromModel, RFE, RFECV, SelectKBest, mutual_info_classif, chi2)\n",
    "from sklearn.linear_model import LogisticRegression\n",
    "from sklearn.model_selection import train_test_split, cross_validate, GridSearchCV\n",
    "from sklearn.neighbors import KNeighborsClassifier\n",
    "from genetic_selection import GeneticSelectionCV\n",
    "from sklearn.neural_network import MLPClassifier\n",
    "from sklearn.naive_bayes import GaussianNB\n",
    "\n",
    "estimators = {\n",
    "    svm.SVC(kernel='linear', class_weight='balanced'): {\n",
    "        'C': [0.02, 0.5, 1.0, 1.5, 2, 3, 4, 5, 10, 50],\n",
    "        'kernel': ('linear', 'poly', 'rbf'),\n",
    "        'gamma': ('auto', 'scale'),\n",
    "        # 'decision_function_shape' : ('ovo', 'ovr'),\n",
    "    },\n",
    "    LogisticRegression(class_weight='balanced'): {\n",
    "        'C': [0.02, 0.5, 1.0, 2, 3, 4, 5, 10, 20, 50],\n",
    "        'penalty': ['l2', 'l1'],\n",
    "    },\n",
    "}\n",
    "\n",
    "def get_selectors(estimator):\n",
    "    return {\n",
    "        'RFECV': RFECV(estimator, 5), \n",
    "        'SelectFromModel': SelectFromModel(estimator), \n",
    "        # 'SelectKBest': SelectKBest(chi2, 3),\n",
    "        'Genetic': GeneticSelectionCV(estimator,\n",
    "                                      cv=5,\n",
    "                                      verbose=0,\n",
    "                                      scoring=scorer,\n",
    "                                      n_population=80,\n",
    "                                      crossover_proba=0.8,\n",
    "                                      mutation_proba=0.2,\n",
    "                                      n_generations=80,\n",
    "                                      crossover_independent_proba=0.5,\n",
    "                                      mutation_independent_proba=0.05,\n",
    "                                      tournament_size=5,\n",
    "                                      caching=True,\n",
    "                                      n_jobs=1\n",
    "                                     ),\n",
    "    }\n",
    "\n",
    "scorer = scorer_factory(metrics.roc_auc_score, average='weighted')\n",
    "features = ('corr', 'lyap', 'sampen', 'dfa', 'hurst', 'higu')\n",
    "comb_size = 1\n",
    "grid_search_cv = 5\n",
    "\n",
    "for estimator, params in estimators.items():\n",
    "    for cols in combinations(features, comb_size):\n",
    "        for selector_name, selector in get_selectors(estimator).items():\n",
    "            print(cols)\n",
    "            print(selector_name)\n",
    "            gs = GridSearchCV(estimator, params, iid=False, scoring=scorer, cv=grid_search_cv)\n",
    "            predict('resp', 'a', cols, estimator, metapkl, gs=gs, show_selected=True, selector=selector)\n",
    "            print(gs.best_params_)\n",
    "            print('\\n\\n')"
   ]
  },
  {
   "cell_type": "markdown",
   "metadata": {},
   "source": [
    "# CROSS-VALIDATED"
   ]
  },
  {
   "cell_type": "code",
   "execution_count": 7,
   "metadata": {},
   "outputs": [
    {
     "name": "stdout",
     "output_type": "stream",
     "text": [
      "Class distribution:  {-1: 47, 1: 47}\n",
      "Accuracy: 0.75 (+/- 0.10)\n",
      "Precision: 0.77 (+/- 0.09)\n",
      "Recall: 0.75 (+/- 0.10)\n",
      "F1: 0.75 (+/- 0.10)\n",
      "0.75 $\\pm$ 0.10 & 0.77 $\\pm$ 0.09 & 0.75 $\\pm$ 0.10 & 0.75 $\\pm$ 0.10 &  \\\\ \\hline\n"
     ]
    },
    {
     "name": "stderr",
     "output_type": "stream",
     "text": [
      "/home/kovar/miniconda3/envs/thesis/lib/python3.6/site-packages/pandas/core/reshape/merge.py:544: UserWarning: merging between different levels can give an unintended result (2 levels on the left, 1 on the right)\n",
      "  warnings.warn(msg, UserWarning)\n"
     ]
    }
   ],
   "source": [
    "estimators = [\n",
    "    # LogisticRegression(C=1, penalty='l1', class_weight='balanced'),\n",
    "    svm.SVC(C=1, class_weight='balanced', kernel='linear'),\n",
    "]\n",
    "\n",
    "# 75\n",
    "channels = [('FP2', 'lyap'), ('F3', 'lyap'), ('O1', 'lyap'), ('T4', 'lyap'), ('T6', 'lyap'), \n",
    "            ('F3', 'sampen'), ('C3', 'sampen'), ('T6', 'sampen')]\n",
    "# channels = [('F3', 'lyap'), ('O2', 'lyap'), ('T5', 'lyap'), ('T6', 'lyap'), ('FP2', 'corr'),\n",
    "#             ('F4', 'corr'), ('O2', 'corr')]\n",
    "\n",
    "for estimator in estimators:\n",
    "    est = predict('resp', 'a', None, estimator, channels=channels)"
   ]
  },
  {
   "cell_type": "code",
   "execution_count": 53,
   "metadata": {},
   "outputs": [
    {
     "name": "stdout",
     "output_type": "stream",
     "text": [
      "Class distribution:  {-1: 47, 1: 47}\n",
      "Accuracy: 0.71 (+/- 0.08)\n",
      "Precision: 0.73 (+/- 0.08)\n",
      "Recall: 0.71 (+/- 0.08)\n",
      "F1: 0.70 (+/- 0.09)\n",
      "0.71  $\\pm$ 0.08  & 0.73  $\\pm$ 0.08  & 0.71  $\\pm$ 0.08  & 0.70  $\\pm$ 0.09  &  \\\\ \\hline\n"
     ]
    },
    {
     "name": "stderr",
     "output_type": "stream",
     "text": [
      "/home/kovar/miniconda3/envs/thesis/lib/python3.6/site-packages/pandas/core/reshape/merge.py:544: UserWarning: merging between different levels can give an unintended result (2 levels on the left, 1 on the right)\n",
      "  warnings.warn(msg, UserWarning)\n"
     ]
    }
   ],
   "source": [
    "estimators = [\n",
    "    # LogisticRegression(class_weight='balanced'),\n",
    "    svm.SVC(C=1.5, class_weight='balanced', kernel='linear'),\n",
    "]\n",
    "# 71\n",
    "# channels = [('F3', 'lyap'), ('C4', 'lyap'), ('O1', 'lyap'), ('F7', 'lyap'), ('T3', 'lyap'), ('T6', 'lyap'), ]\n",
    "channels = [('F3', 'lyap'), ('F4', 'lyap'), ('T5', 'lyap'), ('T6', 'lyap')]\n",
    "\n",
    "for estimator in estimators:\n",
    "    est = predict('resp', 'a', None, estimator, channels=channels)"
   ]
  },
  {
   "cell_type": "code",
   "execution_count": 10,
   "metadata": {},
   "outputs": [
    {
     "name": "stdout",
     "output_type": "stream",
     "text": [
      "Class distribution:  {-1: 47, 1: 47}\n",
      "Accuracy: 0.66 (+/- 0.09)\n",
      "Precision: 0.66 (+/- 0.09)\n",
      "Recall: 0.66 (+/- 0.09)\n",
      "F1: 0.65 (+/- 0.10)\n",
      "0.66 $\\pm$ 0.09 & 0.66 $\\pm$ 0.09 & 0.66 $\\pm$ 0.09 & 0.65 $\\pm$ 0.10 &  \\\\ \\hline\n"
     ]
    },
    {
     "name": "stderr",
     "output_type": "stream",
     "text": [
      "/home/kovar/miniconda3/envs/thesis/lib/python3.6/site-packages/pandas/core/reshape/merge.py:544: UserWarning: merging between different levels can give an unintended result (2 levels on the left, 1 on the right)\n",
      "  warnings.warn(msg, UserWarning)\n"
     ]
    }
   ],
   "source": [
    "estimators = [\n",
    "    LogisticRegression(C=1, penalty='l2', class_weight='balanced'),\n",
    "    # svm.SVC(C=1, class_weight='balanced', kernel='linear'),\n",
    "]\n",
    "# 71\n",
    "# channels = [('F3', 'sampen'), ('C4', 'sampen'), ('C3', 'sampen'), ('Fz', 'sampen')]\n",
    "channels = [('FP1', 'sampen'), ('F3', 'sampen'), ('P3', 'sampen'), ('Cz', 'sampen')]\n",
    "\n",
    "for estimator in estimators:\n",
    "    est = predict('resp', 'a', None, estimator, channels=channels)"
   ]
  },
  {
   "cell_type": "code",
   "execution_count": 9,
   "metadata": {},
   "outputs": [
    {
     "name": "stdout",
     "output_type": "stream",
     "text": [
      "Class distribution:  {-1: 47, 1: 47}\n",
      "Accuracy: 0.66 (+/- 0.05)\n",
      "Precision: 0.72 (+/- 0.08)\n",
      "Recall: 0.66 (+/- 0.05)\n",
      "F1: 0.64 (+/- 0.05)\n",
      "0.66 $\\pm$ 0.05 & 0.72 $\\pm$ 0.08 & 0.66 $\\pm$ 0.05 & 0.64 $\\pm$ 0.05 &  \\\\ \\hline\n"
     ]
    },
    {
     "name": "stderr",
     "output_type": "stream",
     "text": [
      "/home/kovar/miniconda3/envs/thesis/lib/python3.6/site-packages/pandas/core/reshape/merge.py:544: UserWarning: merging between different levels can give an unintended result (2 levels on the left, 1 on the right)\n",
      "  warnings.warn(msg, UserWarning)\n"
     ]
    }
   ],
   "source": [
    "estimators = [\n",
    "    LogisticRegression(C=1, penalty='l2', class_weight='balanced'),\n",
    "    # svm.SVC(C=1, class_weight='balanced', kernel='linear'),\n",
    "]\n",
    "\n",
    "channels = [('F3', 'higu'), ('F8', 'higu')]\n",
    "\n",
    "\n",
    "for estimator in estimators:\n",
    "    est = predict('resp', 'a', None, estimator, channels=channels)"
   ]
  },
  {
   "cell_type": "code",
   "execution_count": 12,
   "metadata": {},
   "outputs": [
    {
     "name": "stdout",
     "output_type": "stream",
     "text": [
      "Class distribution:  {-1: 47, 1: 47}\n",
      "Accuracy: 0.63 (+/- 0.09)\n",
      "Precision: 0.64 (+/- 0.10)\n",
      "Recall: 0.63 (+/- 0.09)\n",
      "F1: 0.62 (+/- 0.09)\n",
      "0.63 $\\pm$ 0.09 & 0.64 $\\pm$ 0.10 & 0.63 $\\pm$ 0.09 & 0.62 $\\pm$ 0.09 &  \\\\ \\hline\n"
     ]
    },
    {
     "name": "stderr",
     "output_type": "stream",
     "text": [
      "/home/kovar/miniconda3/envs/thesis/lib/python3.6/site-packages/pandas/core/reshape/merge.py:544: UserWarning: merging between different levels can give an unintended result (2 levels on the left, 1 on the right)\n",
      "  warnings.warn(msg, UserWarning)\n"
     ]
    }
   ],
   "source": [
    "estimators = [\n",
    "    # LogisticRegression(C=1, penalty='l2', class_weight='balanced'),\n",
    "    svm.SVC(C=2, class_weight='balanced', kernel='rbf'),\n",
    "]\n",
    "\n",
    "channels = [('C3', 'hurst'), ('T6', 'hurst')]\n",
    "\n",
    "\n",
    "for estimator in estimators:\n",
    "    est = predict('resp', 'a', None, estimator, channels=channels)"
   ]
  },
  {
   "cell_type": "code",
   "execution_count": 8,
   "metadata": {},
   "outputs": [
    {
     "name": "stdout",
     "output_type": "stream",
     "text": [
      "Class distribution:  {-1: 47, 1: 47}\n",
      "Accuracy: 0.67 (+/- 0.09)\n",
      "Precision: 0.70 (+/- 0.11)\n",
      "Recall: 0.67 (+/- 0.09)\n",
      "F1: 0.65 (+/- 0.10)\n",
      "0.67 $\\pm$ 0.09 & 0.70 $\\pm$ 0.11 & 0.67 $\\pm$ 0.09 & 0.65 $\\pm$ 0.10 &  \\\\ \\hline\n"
     ]
    },
    {
     "name": "stderr",
     "output_type": "stream",
     "text": [
      "/home/kovar/miniconda3/envs/thesis/lib/python3.6/site-packages/pandas/core/reshape/merge.py:544: UserWarning: merging between different levels can give an unintended result (2 levels on the left, 1 on the right)\n",
      "  warnings.warn(msg, UserWarning)\n"
     ]
    }
   ],
   "source": [
    "estimators = [\n",
    "    LogisticRegression(C=1, penalty='l2', class_weight='balanced'),\n",
    "    # svm.SVC(C=2, class_weight='balanced', kernel='rbf'),\n",
    "]\n",
    "\n",
    "channels = [('F3', 'corr'), ('F4', 'corr'), ('O2', 'corr'), ('Pz', 'corr')]\n",
    "\n",
    "\n",
    "for estimator in estimators:\n",
    "    est = predict('resp', 'a', None, estimator, channels=channels)"
   ]
  },
  {
   "cell_type": "code",
   "execution_count": 11,
   "metadata": {},
   "outputs": [
    {
     "name": "stdout",
     "output_type": "stream",
     "text": [
      "Class distribution:  {-1: 47, 1: 47}\n",
      "Accuracy: 0.64 (+/- 0.15)\n",
      "Precision: 0.65 (+/- 0.15)\n",
      "Recall: 0.64 (+/- 0.15)\n",
      "F1: 0.63 (+/- 0.15)\n",
      "0.64 $\\pm$ 0.15 & 0.65 $\\pm$ 0.15 & 0.64 $\\pm$ 0.15 & 0.63 $\\pm$ 0.15 &  \\\\ \\hline\n"
     ]
    },
    {
     "name": "stderr",
     "output_type": "stream",
     "text": [
      "/home/kovar/miniconda3/envs/thesis/lib/python3.6/site-packages/pandas/core/reshape/merge.py:544: UserWarning: merging between different levels can give an unintended result (2 levels on the left, 1 on the right)\n",
      "  warnings.warn(msg, UserWarning)\n"
     ]
    }
   ],
   "source": [
    "estimators = [\n",
    "    # LogisticRegression(C=1, penalty='l2', class_weight='balanced'),\n",
    "    svm.SVC(C=10, class_weight='balanced', kernel='linear'),\n",
    "]\n",
    "\n",
    "channels = [('T3', 'dfa'), ('T4', 'dfa'), ('Cz', 'dfa')]\n",
    "\n",
    "for estimator in estimators:\n",
    "    est = predict('resp', 'a', None, estimator, channels=channels)"
   ]
  },
  {
   "cell_type": "code",
   "execution_count": 40,
   "metadata": {},
   "outputs": [
    {
     "name": "stderr",
     "output_type": "stream",
     "text": [
      "/home/kovar/miniconda3/envs/thesis/lib/python3.6/site-packages/pandas/core/reshape/merge.py:544: UserWarning: merging between different levels can give an unintended result (2 levels on the left, 1 on the right)\n",
      "  warnings.warn(msg, UserWarning)\n"
     ]
    },
    {
     "name": "stdout",
     "output_type": "stream",
     "text": [
      "Class distribution:  {-1: 47, 1: 47}\n",
      "Accuracy: 0.63 (+/- 0.11)\n",
      "Precision: 0.66 (+/- 0.13)\n",
      "Recall: 0.63 (+/- 0.11)\n",
      "F1: 0.61 (+/- 0.11)\n"
     ]
    },
    {
     "ename": "IndexError",
     "evalue": "tuple index out of range",
     "output_type": "error",
     "traceback": [
      "\u001b[0;31m---------------------------------------------------------------------------\u001b[0m",
      "\u001b[0;31mIndexError\u001b[0m                                Traceback (most recent call last)",
      "\u001b[0;32m<ipython-input-40-436595f819a1>\u001b[0m in \u001b[0;36m<module>\u001b[0;34m()\u001b[0m\n\u001b[1;32m     33\u001b[0m                                       n_jobs=-1)\n\u001b[1;32m     34\u001b[0m     \u001b[0mselector\u001b[0m \u001b[0;34m=\u001b[0m \u001b[0;32mNone\u001b[0m\u001b[0;34m\u001b[0m\u001b[0m\n\u001b[0;32m---> 35\u001b[0;31m     \u001b[0mest\u001b[0m \u001b[0;34m=\u001b[0m \u001b[0mpredict\u001b[0m\u001b[0;34m(\u001b[0m\u001b[0;34m'resp'\u001b[0m\u001b[0;34m,\u001b[0m \u001b[0;34m'a'\u001b[0m\u001b[0;34m,\u001b[0m \u001b[0;32mNone\u001b[0m\u001b[0;34m,\u001b[0m \u001b[0mestimator\u001b[0m\u001b[0;34m,\u001b[0m \u001b[0mshow_selected\u001b[0m\u001b[0;34m=\u001b[0m\u001b[0;32mTrue\u001b[0m\u001b[0;34m,\u001b[0m \u001b[0mchannels\u001b[0m\u001b[0;34m=\u001b[0m\u001b[0mchannels\u001b[0m\u001b[0;34m,\u001b[0m \u001b[0mgs\u001b[0m\u001b[0;34m=\u001b[0m\u001b[0mgs\u001b[0m\u001b[0;34m,\u001b[0m \u001b[0mselector\u001b[0m\u001b[0;34m=\u001b[0m\u001b[0mselector\u001b[0m\u001b[0;34m)\u001b[0m\u001b[0;34m\u001b[0m\u001b[0m\n\u001b[0m\u001b[1;32m     36\u001b[0m     \u001b[0mprint\u001b[0m\u001b[0;34m(\u001b[0m\u001b[0mgs\u001b[0m\u001b[0;34m.\u001b[0m\u001b[0mbest_params_\u001b[0m\u001b[0;34m)\u001b[0m\u001b[0;34m\u001b[0m\u001b[0m\n",
      "\u001b[0;32m<ipython-input-39-dd8cc9ab0cdc>\u001b[0m in \u001b[0;36mpredict\u001b[0;34m(lab, ba, cols, estimator, gs, evaluate_on_all, channels, selector, print_incorrectly_predicted, show_selected, seed, eval_cv)\u001b[0m\n\u001b[1;32m     64\u001b[0m             \u001b[0;34m'{: <5.2f} $\\pm$ {:<5.2f} & {: <5.2f} $\\pm$ {: <5.2f} & '\u001b[0m\u001b[0;34m.\u001b[0m\u001b[0mformat\u001b[0m\u001b[0;34m(\u001b[0m\u001b[0mscores\u001b[0m\u001b[0;34m[\u001b[0m\u001b[0;34m'test_'\u001b[0m\u001b[0;34m+\u001b[0m\u001b[0mscoring\u001b[0m\u001b[0;34m[\u001b[0m\u001b[0;36m1\u001b[0m\u001b[0;34m]\u001b[0m\u001b[0;34m]\u001b[0m\u001b[0;34m.\u001b[0m\u001b[0mmean\u001b[0m\u001b[0;34m(\u001b[0m\u001b[0;34m)\u001b[0m\u001b[0;34m,\u001b[0m \u001b[0mscores\u001b[0m\u001b[0;34m[\u001b[0m\u001b[0;34m'test_'\u001b[0m\u001b[0;34m+\u001b[0m\u001b[0mscoring\u001b[0m\u001b[0;34m[\u001b[0m\u001b[0;36m1\u001b[0m\u001b[0;34m]\u001b[0m\u001b[0;34m]\u001b[0m\u001b[0;34m.\u001b[0m\u001b[0mstd\u001b[0m\u001b[0;34m(\u001b[0m\u001b[0;34m)\u001b[0m\u001b[0;34m)\u001b[0m \u001b[0;34m+\u001b[0m\u001b[0;34m\u001b[0m\u001b[0m\n\u001b[1;32m     65\u001b[0m             \u001b[0;34m'{: <5.2f} $\\pm$ {:<5.2f} & {: <5.2f} $\\pm$ {: <5.2f} & '\u001b[0m\u001b[0;34m.\u001b[0m\u001b[0mformat\u001b[0m\u001b[0;34m(\u001b[0m\u001b[0mscores\u001b[0m\u001b[0;34m[\u001b[0m\u001b[0;34m'test_'\u001b[0m\u001b[0;34m+\u001b[0m\u001b[0mscoring\u001b[0m\u001b[0;34m[\u001b[0m\u001b[0;36m2\u001b[0m\u001b[0;34m]\u001b[0m\u001b[0;34m]\u001b[0m\u001b[0;34m.\u001b[0m\u001b[0mmean\u001b[0m\u001b[0;34m(\u001b[0m\u001b[0;34m)\u001b[0m\u001b[0;34m,\u001b[0m \u001b[0mscores\u001b[0m\u001b[0;34m[\u001b[0m\u001b[0;34m'test_'\u001b[0m\u001b[0;34m+\u001b[0m\u001b[0mscoring\u001b[0m\u001b[0;34m[\u001b[0m\u001b[0;36m2\u001b[0m\u001b[0;34m]\u001b[0m\u001b[0;34m]\u001b[0m\u001b[0;34m.\u001b[0m\u001b[0mstd\u001b[0m\u001b[0;34m(\u001b[0m\u001b[0;34m)\u001b[0m\u001b[0;34m)\u001b[0m \u001b[0;34m+\u001b[0m\u001b[0;34m\u001b[0m\u001b[0m\n\u001b[0;32m---> 66\u001b[0;31m             \u001b[0;34m'{: <5.2f} $\\pm$ {:<5.2f} & {: <5.2f} $\\pm$ {: <5.2f} & '\u001b[0m\u001b[0;34m.\u001b[0m\u001b[0mformat\u001b[0m\u001b[0;34m(\u001b[0m\u001b[0mscores\u001b[0m\u001b[0;34m[\u001b[0m\u001b[0;34m'test_'\u001b[0m\u001b[0;34m+\u001b[0m\u001b[0mscoring\u001b[0m\u001b[0;34m[\u001b[0m\u001b[0;36m3\u001b[0m\u001b[0;34m]\u001b[0m\u001b[0;34m]\u001b[0m\u001b[0;34m.\u001b[0m\u001b[0mmean\u001b[0m\u001b[0;34m(\u001b[0m\u001b[0;34m)\u001b[0m\u001b[0;34m,\u001b[0m \u001b[0mscores\u001b[0m\u001b[0;34m[\u001b[0m\u001b[0;34m'test_'\u001b[0m\u001b[0;34m+\u001b[0m\u001b[0mscoring\u001b[0m\u001b[0;34m[\u001b[0m\u001b[0;36m3\u001b[0m\u001b[0;34m]\u001b[0m\u001b[0;34m]\u001b[0m\u001b[0;34m.\u001b[0m\u001b[0mstd\u001b[0m\u001b[0;34m(\u001b[0m\u001b[0;34m)\u001b[0m\u001b[0;34m)\u001b[0m \u001b[0;34m+\u001b[0m\u001b[0;34m\u001b[0m\u001b[0m\n\u001b[0m\u001b[1;32m     67\u001b[0m             \u001b[0;34m' \\\\\\\\ \\hline'\u001b[0m\u001b[0;34m\u001b[0m\u001b[0m\n\u001b[1;32m     68\u001b[0m         )\n",
      "\u001b[0;31mIndexError\u001b[0m: tuple index out of range"
     ]
    }
   ],
   "source": [
    "channels = [('F3', 'lyap'), ('F4', 'lyap'), ('C4', 'lyap'), ('P3', 'lyap'), ('P4', 'lyap'), ('F8', 'lyap'), \n",
    "            ('T4', 'lyap'), ('T5', 'lyap'), ('T6', 'lyap'), ('Fz', 'lyap'),]\n",
    "channels = [('F3', 'sampen'), ('C4', 'sampen'), ('C3', 'sampen'), ('Fz', 'sampen')]\n",
    "channels = [('F3', 'higu'), ('P4', 'higu'), ('C3', 'higu'), ('Fz', 'higu'), ('F8', 'higu')]\n",
    "channels = [('C4', 'hurst'), ('T5', 'hurst')]\n",
    "\n",
    "estimators = {\n",
    "    svm.SVC(kernel='linear', class_weight='balanced'): {\n",
    "        'C': [0.02, 0.5, 1.0, 1.5, 2, 3, 4, 5, 10, 50],\n",
    "        'kernel': ('linear', 'poly', 'rbf'),\n",
    "        # 'decision_function_shape' : ('ovo', 'ovr'),\n",
    "    },\n",
    "    LogisticRegression(class_weight='balanced'): {\n",
    "        'C': [0.02, 0.5, 1.0, 2, 3, 4, 5, 10, 20, 50],\n",
    "        'penalty': ['l2', 'l1'],\n",
    "    },\n",
    "}\n",
    "\n",
    "for estimator, params in estimators.items():\n",
    "    gs = grid_search.GridSearchCV(estimator, params, iid=False, scoring=scorer, cv=5)\n",
    "    selector = GeneticSelectionCV(estimator,\n",
    "                                      cv=5,\n",
    "                                      verbose=0,\n",
    "                                      scoring=scorer,\n",
    "                                      n_population=80,\n",
    "                                      crossover_proba=0.8,\n",
    "                                      mutation_proba=0.2,\n",
    "                                      n_generations=80,\n",
    "                                      crossover_independent_proba=0.5,\n",
    "                                      mutation_independent_proba=0.05,\n",
    "                                      tournament_size=5,\n",
    "                                      caching=True,\n",
    "                                      n_jobs=-1)\n",
    "    selector = None\n",
    "    est = predict('resp', 'a', None, estimator, show_selected=True, channels=channels, gs=gs, selector=selector)\n",
    "    print(gs.best_params_)"
   ]
  },
  {
   "cell_type": "markdown",
   "metadata": {},
   "source": [
    "# RESULTS FOR FIRST AND LAST 15% QUANTILE OF CHANGE (34 / 32)"
   ]
  },
  {
   "cell_type": "markdown",
   "metadata": {},
   "source": [
    "## Lyapunov exponent"
   ]
  },
  {
   "cell_type": "code",
   "execution_count": 18,
   "metadata": {},
   "outputs": [
    {
     "name": "stdout",
     "output_type": "stream",
     "text": [
      "Training distribution:  {-1: 24, 1: 22}\n",
      "Testing distribution:  {-1: 10, 1: 10}\n",
      "0.80 & 0.80 & 0.80 & $\\left( \\begin{smallmatrix} 9 & 1 \\\\ 3 & 7 \\end{smallmatrix} \\right)$ & FP2, F3, F4, C3, P3, P4, F7, F8, T6, Fz, Cz \\\\ \\hline\n",
      "Accuracy: 0.64 (+/- 0.19)\n"
     ]
    },
    {
     "data": {
      "text/plain": [
       "LogisticRegression(C=3.5, class_weight='balanced', dual=False,\n",
       "          fit_intercept=True, intercept_scaling=1, max_iter=100,\n",
       "          multi_class='ovr', n_jobs=1, penalty='l1', random_state=None,\n",
       "          solver='liblinear', tol=0.0001, verbose=0, warm_start=False)"
      ]
     },
     "execution_count": 18,
     "metadata": {},
     "output_type": "execute_result"
    }
   ],
   "source": [
    "estimator = LogisticRegression(C=3.5, penalty='l1', class_weight='balanced')\n",
    "predict('resp', None, ('lyap',), estimator,\n",
    "        channels=('FP2', 'F3', 'F4', 'C3', 'P3', 'P4', 'F7', 'F8', 'T6', 'Fz', 'Cz'))"
   ]
  },
  {
   "cell_type": "markdown",
   "metadata": {},
   "source": [
    "## DFA"
   ]
  },
  {
   "cell_type": "code",
   "execution_count": 17,
   "metadata": {},
   "outputs": [
    {
     "name": "stdout",
     "output_type": "stream",
     "text": [
      "Training distribution:  {-1: 24, 1: 22}\n",
      "Testing distribution:  {-1: 10, 1: 10}\n",
      "0.80 & 0.80 & 0.80 & $\\left( \\begin{smallmatrix} 8 & 2 \\\\ 2 & 8 \\end{smallmatrix} \\right)$ & FP2, F3, O1, T5, T6, Cz \\\\ \\hline\n",
      "Accuracy: 0.67 (+/- 0.14)\n"
     ]
    },
    {
     "data": {
      "text/plain": [
       "LogisticRegression(C=50, class_weight='balanced', dual=False,\n",
       "          fit_intercept=True, intercept_scaling=1, max_iter=100,\n",
       "          multi_class='ovr', n_jobs=1, penalty='l2', random_state=None,\n",
       "          solver='liblinear', tol=0.0001, verbose=0, warm_start=False)"
      ]
     },
     "execution_count": 17,
     "metadata": {},
     "output_type": "execute_result"
    }
   ],
   "source": [
    "estimator = LogisticRegression(C=50, penalty='l2', class_weight='balanced')\n",
    "predict('resp', None, ('dfa',), estimator, channels=('FP2', 'F3', 'O1', 'T5', 'T6', 'Cz'))"
   ]
  },
  {
   "cell_type": "markdown",
   "metadata": {},
   "source": [
    "## Hurst exponent"
   ]
  },
  {
   "cell_type": "code",
   "execution_count": 16,
   "metadata": {},
   "outputs": [
    {
     "name": "stdout",
     "output_type": "stream",
     "text": [
      "Training distribution:  {-1: 24, 1: 22}\n",
      "Testing distribution:  {-1: 10, 1: 10}\n",
      "0.70 & 0.70 & 0.70 & $\\left( \\begin{smallmatrix} 7 & 3 \\\\ 3 & 7 \\end{smallmatrix} \\right)$ & FP2, F3, O1, T5, T6, Cz \\\\ \\hline\n",
      "Accuracy: 0.60 (+/- 0.18)\n"
     ]
    },
    {
     "data": {
      "text/plain": [
       "LogisticRegression(C=3, class_weight='balanced', dual=False,\n",
       "          fit_intercept=True, intercept_scaling=1, max_iter=100,\n",
       "          multi_class='ovr', n_jobs=1, penalty='l2', random_state=None,\n",
       "          solver='liblinear', tol=0.0001, verbose=0, warm_start=False)"
      ]
     },
     "execution_count": 16,
     "metadata": {},
     "output_type": "execute_result"
    }
   ],
   "source": [
    "estimator = LogisticRegression(C=3, penalty='l2', class_weight='balanced')\n",
    "predict('resp', None, ('hurst',), estimator,\n",
    "        channels=('FP2', 'F3', 'O1', 'T5', 'T6', 'Cz'))"
   ]
  },
  {
   "cell_type": "markdown",
   "metadata": {},
   "source": [
    "## Higuchi dimension\n",
    "Results around 55%."
   ]
  },
  {
   "cell_type": "markdown",
   "metadata": {},
   "source": [
    "## Correlation dimension"
   ]
  },
  {
   "cell_type": "code",
   "execution_count": 15,
   "metadata": {},
   "outputs": [
    {
     "name": "stdout",
     "output_type": "stream",
     "text": [
      "Training distribution:  {-1: 24, 1: 22}\n",
      "Testing distribution:  {-1: 10, 1: 10}\n",
      "1.00 & 1.00 & 1.00 & $\\left( \\begin{smallmatrix} 10 & 0 \\\\ 0 & 10 \\end{smallmatrix} \\right)$ & F4, C4, O1, F7, F8, T5, T6 \\\\ \\hline\n",
      "Accuracy: 0.65 (+/- 0.21)\n"
     ]
    },
    {
     "data": {
      "text/plain": [
       "SVC(C=2, cache_size=200, class_weight='balanced', coef0=0.0,\n",
       "  decision_function_shape='ovo', degree=3, gamma='auto', kernel='rbf',\n",
       "  max_iter=-1, probability=False, random_state=None, shrinking=True,\n",
       "  tol=0.001, verbose=False)"
      ]
     },
     "execution_count": 15,
     "metadata": {},
     "output_type": "execute_result"
    }
   ],
   "source": [
    "estimator = svm.SVC(C=2, kernel='rbf', class_weight='balanced', decision_function_shape='ovo')\n",
    "predict('resp', None, ('corr'), estimator, \n",
    "                   channels=('F4', 'C4', 'O1', 'F7', 'F8', 'T5', 'T6'))"
   ]
  },
  {
   "cell_type": "markdown",
   "metadata": {},
   "source": [
    "# RESULTS FOR FIRST AND LAST TERCILE OF CHANGE (74 / 66)"
   ]
  },
  {
   "cell_type": "markdown",
   "metadata": {},
   "source": [
    "## Lyapunov exponent"
   ]
  },
  {
   "cell_type": "code",
   "execution_count": 178,
   "metadata": {},
   "outputs": [
    {
     "name": "stdout",
     "output_type": "stream",
     "text": [
      "Training distribution:  {-1: 51, 1: 47}\n",
      "Testing distribution:  {-1: 23, 1: 19}\n",
      "0.76 & 0.76 & 0.77 & $\\left( \\begin{smallmatrix} 16 & 7 \\\\ 3 & 16 \\end{smallmatrix} \\right)$ & F3, F4, O1, O2, T6, Fz \\\\ \\hline\n"
     ]
    },
    {
     "data": {
      "text/plain": [
       "SVC(C=1, cache_size=200, class_weight='balanced', coef0=0.0,\n",
       "  decision_function_shape='ovo', degree=3, gamma='auto', kernel='rbf',\n",
       "  max_iter=-1, probability=False, random_state=None, shrinking=True,\n",
       "  tol=0.001, verbose=False)"
      ]
     },
     "execution_count": 178,
     "metadata": {},
     "output_type": "execute_result"
    }
   ],
   "source": [
    "estimator = svm.SVC(C=1, kernel='rbf', class_weight='balanced', decision_function_shape='ovo')\n",
    "predict('resp', None, ('lyap'), estimator, channels=('F3', 'F4', 'O1', 'O2', 'T6', 'Fz'))"
   ]
  },
  {
   "cell_type": "markdown",
   "metadata": {},
   "source": [
    "## DFA"
   ]
  },
  {
   "cell_type": "code",
   "execution_count": 177,
   "metadata": {
    "scrolled": false
   },
   "outputs": [
    {
     "name": "stdout",
     "output_type": "stream",
     "text": [
      "Training distribution:  {-1: 51, 1: 47}\n",
      "Testing distribution:  {-1: 23, 1: 19}\n",
      "0.64 & 0.64 & 0.64 & $\\left( \\begin{smallmatrix} 15 & 8 \\\\ 7 & 12 \\end{smallmatrix} \\right)$ & C3, P4, F7, T6 \\\\ \\hline\n"
     ]
    },
    {
     "data": {
      "text/plain": [
       "{'C': 1.0, 'penalty': 'l2'}"
      ]
     },
     "execution_count": 177,
     "metadata": {},
     "output_type": "execute_result"
    }
   ],
   "source": [
    "estimator = LogisticRegression(class_weight='balanced')\n",
    "params = {'C': [0.5, 1.0, 1.5, 2, 2.5, 3, 3.5],\n",
    "        'penalty': ['l2', 'l1'],}\n",
    "estimator = grid_search.GridSearchCV(estimator, params, iid=False, scoring=scorer)\n",
    "predict('resp', None, ('dfa',), estimator, channels=('C3', 'P4', 'F7', 'T6'))\n",
    "estimator.best_params_"
   ]
  },
  {
   "cell_type": "markdown",
   "metadata": {},
   "source": [
    "### Alpha / Theta envelope\n",
    "All estimators fail (50/50). Very similar values between groupds and small variance. There is still chance for depression score, however.\n",
    "\n",
    "Same for sample entropy."
   ]
  },
  {
   "cell_type": "markdown",
   "metadata": {},
   "source": [
    "## Hurst exponent"
   ]
  },
  {
   "cell_type": "code",
   "execution_count": 174,
   "metadata": {},
   "outputs": [
    {
     "name": "stdout",
     "output_type": "stream",
     "text": [
      "Training distribution:  {-1: 51, 1: 47}\n",
      "Testing distribution:  {-1: 23, 1: 19}\n",
      "0.71 & 0.71 & 0.73 & $\\left( \\begin{smallmatrix} 14 & 9 \\\\ 3 & 16 \\end{smallmatrix} \\right)$ & P3, F7, T4, T6, Cz \\\\ \\hline\n"
     ]
    },
    {
     "data": {
      "text/plain": [
       "LogisticRegression(C=3, class_weight='balanced', dual=False,\n",
       "          fit_intercept=True, intercept_scaling=1, max_iter=100,\n",
       "          multi_class='ovr', n_jobs=1, penalty='l2', random_state=None,\n",
       "          solver='liblinear', tol=0.0001, verbose=0, warm_start=False)"
      ]
     },
     "execution_count": 174,
     "metadata": {},
     "output_type": "execute_result"
    }
   ],
   "source": [
    "estimator = LogisticRegression(C=3, penalty='l2', class_weight='balanced')\n",
    "predict('resp', None, ('hurst',), estimator, channels=('P3', 'F7', 'T4', 'T6', 'Cz'))"
   ]
  },
  {
   "cell_type": "markdown",
   "metadata": {},
   "source": [
    "## Higuchi dimension"
   ]
  },
  {
   "cell_type": "code",
   "execution_count": 176,
   "metadata": {},
   "outputs": [
    {
     "name": "stdout",
     "output_type": "stream",
     "text": [
      "Training distribution:  {-1: 51, 1: 47}\n",
      "Testing distribution:  {-1: 23, 1: 19}\n",
      "0.69 & 0.69 & 0.70 & $\\left( \\begin{smallmatrix} 13 & 10 \\\\ 3 & 16 \\end{smallmatrix} \\right)$ & FP2 \\\\ \\hline\n"
     ]
    },
    {
     "data": {
      "text/plain": [
       "LogisticRegression(C=3.5, class_weight='balanced', dual=False,\n",
       "          fit_intercept=True, intercept_scaling=1, max_iter=100,\n",
       "          multi_class='ovr', n_jobs=1, penalty='l1', random_state=None,\n",
       "          solver='liblinear', tol=0.0001, verbose=0, warm_start=False)"
      ]
     },
     "execution_count": 176,
     "metadata": {},
     "output_type": "execute_result"
    }
   ],
   "source": [
    "estimator = LogisticRegression(C=3.5, penalty='l1', class_weight='balanced')\n",
    "predict('resp', None, ('higu',), estimator, channels=('FP2',))"
   ]
  },
  {
   "cell_type": "markdown",
   "metadata": {},
   "source": [
    "## Correlation dimension"
   ]
  },
  {
   "cell_type": "code",
   "execution_count": 175,
   "metadata": {},
   "outputs": [
    {
     "name": "stdout",
     "output_type": "stream",
     "text": [
      "Training distribution:  {-1: 51, 1: 47}\n",
      "Testing distribution:  {-1: 23, 1: 19}\n",
      "0.69 & 0.69 & 0.70 & $\\left( \\begin{smallmatrix} 14 & 9 \\\\ 4 & 15 \\end{smallmatrix} \\right)$ & F4, C4, T5 \\\\ \\hline\n"
     ]
    }
   ],
   "source": [
    "estimator = LogisticRegression(C=3.5, penalty='l1', class_weight='balanced')\n",
    "estimator = predict('resp', None, ('corr',), estimator, channels=('F4', 'C4', 'T5'))"
   ]
  },
  {
   "cell_type": "code",
   "execution_count": 166,
   "metadata": {},
   "outputs": [
    {
     "name": "stdout",
     "output_type": "stream",
     "text": [
      "Training distribution:  {-1: 51, 1: 47}\n",
      "Testing distribution:  {-1: 23, 1: 19}\n",
      "Accuracy score: 0.67\n",
      "Confusion matrix:\n",
      " [[13 10]\n",
      " [ 4 15]]\n",
      "Precision score:  0.6901960784313724\n",
      "Recall score:  0.6666666666666666\n",
      "f1 score:  0.6643939393939394\n",
      "ROC AUC score:  0.6773455377574371\n"
     ]
    },
    {
     "data": {
      "text/plain": [
       "SVC(C=2, cache_size=200, class_weight='balanced', coef0=0.0,\n",
       "  decision_function_shape='ovo', degree=3, gamma='auto', kernel='rbf',\n",
       "  max_iter=-1, probability=False, random_state=None, shrinking=True,\n",
       "  tol=0.001, verbose=False)"
      ]
     },
     "execution_count": 166,
     "metadata": {},
     "output_type": "execute_result"
    }
   ],
   "source": [
    "estimator = svm.SVC(C=2, kernel='rbf', class_weight='balanced', decision_function_shape='ovo')\n",
    "predict('resp', None, ('corr'), estimator, channels=('F4', 'C4', 'O1', 'F7', 'F8', 'T5'))"
   ]
  },
  {
   "cell_type": "markdown",
   "metadata": {},
   "source": [
    "# Manual selection"
   ]
  },
  {
   "cell_type": "markdown",
   "metadata": {},
   "source": [
    "## LLE"
   ]
  },
  {
   "cell_type": "code",
   "execution_count": 36,
   "metadata": {
    "scrolled": false
   },
   "outputs": [
    {
     "name": "stdout",
     "output_type": "stream",
     "text": [
      "Seed: 5870\n",
      "Training distribution:  {-1: 29, 1: 27}\n",
      "Testing distribution:  {-1: 11, 1: 14}\n",
      "Accuracy score: 0.68\n",
      "Confusion matrix:\n",
      " [[9 2]\n",
      " [6 8]]\n",
      "Precision score:  0.7120000000000001\n",
      "Recall score:  0.68\n",
      "f1 score:  0.6779487179487179\n",
      "ROC AUC score:  0.6948051948051948\n",
      "Training distribution:  {-1: 29, 1: 27}\n",
      "Testing distribution:  {-1: 11, 1: 14}\n",
      "Accuracy score: 0.72\n",
      "Confusion matrix:\n",
      " [[9 2]\n",
      " [5 9]]\n",
      "Precision score:  0.741038961038961\n",
      "Recall score:  0.72\n",
      "f1 score:  0.7200000000000002\n",
      "ROC AUC score:  0.7305194805194805\n"
     ]
    }
   ],
   "source": [
    "from random import randint\n",
    "estimators = {\n",
    "    svm.SVC(kernel='linear', class_weight='balanced'): {\n",
    "        'C': [0.02, 0.5, 1.0, 1.5, 2, 3, 4, 5, 10, 50],\n",
    "        'kernel': ('linear', 'poly', 'rbf'),\n",
    "    },\n",
    "    LogisticRegression(class_weight='balanced'): {\n",
    "        'C': [0.02, 0.5, 1.0, 2, 3, 4, 5, 10, 20, 50],\n",
    "        'penalty': ['l2', 'l1'],\n",
    "    },\n",
    "}\n",
    "seed = randint(0, 100000)\n",
    "print('Seed: %s' % seed)\n",
    "channels = ['Fz']\n",
    "for estimator, params in estimators.items():\n",
    "    est = grid_search.GridSearchCV(estimator, params, iid=False, scoring=scorer, cv=4)\n",
    "    est = predict('resp', None, ('lyap',), est, show_selected=True, channels=channels, seed=seed)"
   ]
  },
  {
   "cell_type": "code",
   "execution_count": 38,
   "metadata": {},
   "outputs": [
    {
     "name": "stdout",
     "output_type": "stream",
     "text": [
      "Seed: 91461\n",
      "Training distribution:  {-1: 25, 1: 31}\n",
      "Testing distribution:  {-1: 15, 1: 10}\n",
      "Accuracy score: 0.72\n",
      "Confusion matrix:\n",
      " [[9 6]\n",
      " [1 9]]\n",
      "Precision score:  0.78\n",
      "Recall score:  0.72\n",
      "f1 score:  0.72\n",
      "ROC AUC score:  0.75\n",
      "Training distribution:  {-1: 25, 1: 31}\n",
      "Testing distribution:  {-1: 15, 1: 10}\n",
      "Accuracy score: 0.56\n",
      "Confusion matrix:\n",
      " [[13  2]\n",
      " [ 9  1]]\n",
      "Precision score:  0.4878787878787878\n",
      "Recall score:  0.56\n",
      "f1 score:  0.48316008316008324\n",
      "ROC AUC score:  0.4833333333333334\n"
     ]
    }
   ],
   "source": [
    "seed = randint(0, 100000)\n",
    "print('Seed: %s' % seed)\n",
    "channels = ['P3']\n",
    "for estimator, params in estimators.items():\n",
    "    est = grid_search.GridSearchCV(estimator, params, iid=False, scoring=scorer, cv=4)\n",
    "    est = predict('resp', None, ('lyap',), est, show_selected=True, channels=channels, seed=seed)"
   ]
  },
  {
   "cell_type": "markdown",
   "metadata": {},
   "source": [
    "## Higuchi fractal dimension"
   ]
  },
  {
   "cell_type": "code",
   "execution_count": 49,
   "metadata": {},
   "outputs": [
    {
     "name": "stdout",
     "output_type": "stream",
     "text": [
      "Seed: 95528\n",
      "Training distribution:  {-1: 25, 1: 31}\n",
      "Testing distribution:  {-1: 15, 1: 10}\n",
      "Accuracy score: 0.88\n",
      "Confusion matrix:\n",
      " [[12  3]\n",
      " [ 0 10]]\n",
      "Precision score:  0.9076923076923077\n",
      "Recall score:  0.88\n",
      "f1 score:  0.8811594202898552\n",
      "ROC AUC score:  0.9\n"
     ]
    }
   ],
   "source": [
    "estimators = {\n",
    "    # svm.SVC(kernel='linear', class_weight='balanced'): {\n",
    "    #     'C': [0.02, 0.5, 1.0, 1.5, 2, 3, 4, 5, 10, 50],\n",
    "    #     'kernel': ('linear', 'poly', 'rbf'),\n",
    "    # },\n",
    "    LogisticRegression(class_weight='balanced'): {\n",
    "        'C': [0.02, 0.5, 1.0, 2, 3, 4, 5, 10, 20, 50],\n",
    "        'penalty': ['l2', 'l1'],\n",
    "    },\n",
    "}\n",
    "# 71875\n",
    "seed = randint(0, 100000)\n",
    "print('Seed: %s' % seed)\n",
    "channels = ['FP2', 'Cz']\n",
    "for estimator, params in estimators.items():\n",
    "    est = grid_search.GridSearchCV(estimator, params, iid=False, scoring=scorer, cv=4)\n",
    "    est = predict('resp', None, ('higu',), est, show_selected=True, channels=channels, seed=seed)"
   ]
  },
  {
   "cell_type": "code",
   "execution_count": null,
   "metadata": {},
   "outputs": [],
   "source": []
  }
 ],
 "metadata": {
  "kernelspec": {
   "display_name": "Python 3",
   "language": "python",
   "name": "python3"
  },
  "language_info": {
   "codemirror_mode": {
    "name": "ipython",
    "version": 3
   },
   "file_extension": ".py",
   "mimetype": "text/x-python",
   "name": "python",
   "nbconvert_exporter": "python",
   "pygments_lexer": "ipython3",
   "version": "3.6.8"
  },
  "toc": {
   "base_numbering": 1,
   "nav_menu": {},
   "number_sections": true,
   "sideBar": true,
   "skip_h1_title": false,
   "title_cell": "Table of Contents",
   "title_sidebar": "Contents",
   "toc_cell": false,
   "toc_position": {},
   "toc_section_display": true,
   "toc_window_display": true
  }
 },
 "nbformat": 4,
 "nbformat_minor": 2
}

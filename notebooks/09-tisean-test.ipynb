{
 "cells": [
  {
   "cell_type": "code",
   "execution_count": 1,
   "metadata": {
    "scrolled": true
   },
   "outputs": [
    {
     "name": "stdout",
     "output_type": "stream",
     "text": [
      "Sat Dec 15 2018 \n",
      "\n",
      "CPython 3.6.6\n",
      "IPython 6.5.0\n",
      "\n",
      "numpy 1.15.1\n",
      "scipy 1.1.0\n",
      "sklearn 0.19.1\n",
      "pandas 0.23.4\n",
      "\n",
      "compiler   : GCC 4.8.2 20140120 (Red Hat 4.8.2-15)\n",
      "system     : Linux\n",
      "release    : 4.9.0-7-amd64\n",
      "machine    : x86_64\n",
      "processor  : \n",
      "CPU cores  : 12\n",
      "interpreter: 64bit\n"
     ]
    }
   ],
   "source": [
    "%load_ext autoreload\n",
    "%autoreload 2\n",
    "%load_ext watermark\n",
    "%watermark -v -n -m -p numpy,scipy,sklearn,pandas"
   ]
  },
  {
   "cell_type": "code",
   "execution_count": 2,
   "metadata": {},
   "outputs": [
    {
     "name": "stdout",
     "output_type": "stream",
     "text": [
      "/home/kovar/thesis_project\n",
      "/home/kovar/thesis_project/data\n",
      "/home/kovar/thesis_project/data/processed\n",
      "Opening raw data file /home/kovar/thesis_project/data/processed/1a.fif...\n",
      "This filename (/home/kovar/thesis_project/data/processed/1a.fif) does not conform to MNE naming conventions. All raw files should end with raw.fif, raw_sss.fif, raw_tsss.fif, raw.fif.gz, raw_sss.fif.gz or raw_tsss.fif.gz\n",
      "Isotrak not found\n",
      "    Range : 0 ... 19104 =      0.000 ...    76.416 secs\n",
      "Ready.\n"
     ]
    },
    {
     "name": "stderr",
     "output_type": "stream",
     "text": [
      "<ipython-input-2-feebbbdfcce0>:29: RuntimeWarning: This filename (/home/kovar/thesis_project/data/processed/1a.fif) does not conform to MNE naming conventions. All raw files should end with raw.fif, raw_sss.fif, raw_tsss.fif, raw.fif.gz, raw_sss.fif.gz or raw_tsss.fif.gz\n",
      "  raw_fif = mne.io.read_raw_fif(os.path.join(PROCESSED_ROOT, '1a.fif'))\n"
     ]
    }
   ],
   "source": [
    "%matplotlib inline\n",
    "import pandas as pd\n",
    "import numpy as np\n",
    "import seaborn as sns\n",
    "import matplotlib.pyplot as plt\n",
    "import os\n",
    "import nolds\n",
    "import data\n",
    "import mne\n",
    "\n",
    "PROJ_ROOT = os.path.abspath(os.path.join(os.pardir))\n",
    "DATA_ROOT = os.path.abspath(os.path.join(PROJ_ROOT, 'data'))\n",
    "PROCESSED_ROOT = os.path.abspath(os.path.join(DATA_ROOT, 'processed'))\n",
    "RAW_ROOT = os.path.abspath(os.path.join(DATA_ROOT, 'raw'))\n",
    "LABELED_ROOT = os.path.abspath(os.path.join(DATA_ROOT, 'labeled'))\n",
    "DURATIONS_ROOT = os.path.abspath(os.path.join(DATA_ROOT, 'durations'))\n",
    "print(PROJ_ROOT)\n",
    "print(DATA_ROOT)\n",
    "print(PROCESSED_ROOT)\n",
    "import sys\n",
    "sys.path.append(os.path.join(PROJ_ROOT, 'src'))\n",
    "CHANNEL_NAMES = ['FP1', 'FP2', 'F3', 'F4', 'C3', 'C4', 'P3', 'P4', 'O1', 'O2',\n",
    "                 'F7', 'F8', 'T3', 'T4', 'T5', 'T6', 'Fz', 'Cz', 'Pz']\n",
    "META_COLUMN_NAMES = ['freq', 'RESP_4W', 'RESP_FIN', 'REMISE_FIN', 'AGE', 'SEX', 'M_1',\n",
    "       'M_4', 'M_F', 'délka léčby', 'lék 1', 'lék 2', 'lék 3', 'lék 4']\n",
    "META_FILE_NAME = 'DEP-POOL_Final_144.xlsx'\n",
    "meta_df = pd.read_excel(os.path.join(RAW_ROOT, META_FILE_NAME), index_col='ID', names=META_COLUMN_NAMES)\n",
    "\n",
    "raw_fif = mne.io.read_raw_fif(os.path.join(PROCESSED_ROOT, '1a.fif'))\n",
    "t = pd.DataFrame(raw_fif.get_data())\n",
    "data = pd.DataFrame(np.transpose(t.values), columns=CHANNEL_NAMES)\n",
    "data = np.transpose(data.values)"
   ]
  },
  {
   "cell_type": "code",
   "execution_count": 3,
   "metadata": {
    "scrolled": true
   },
   "outputs": [
    {
     "name": "stdout",
     "output_type": "stream",
     "text": [
      "Additional non-data files were created\n",
      "\tNonsilent mode chosen, displaying additional content:\n",
      "\n",
      "File outFile.d2 contains:\n",
      "\n",
      "File outFile.c2 contains:\n",
      "\n",
      "File outFile.h2 contains:\n",
      "\n",
      "File outFile.stat contains:\n",
      "\n"
     ]
    },
    {
     "ename": "KeyboardInterrupt",
     "evalue": "",
     "output_type": "error",
     "traceback": [
      "\u001b[0;31m---------------------------------------------------------------------------\u001b[0m",
      "\u001b[0;31mKeyboardInterrupt\u001b[0m                         Traceback (most recent call last)",
      "\u001b[0;32m<ipython-input-3-ae7b037b5ef3>\u001b[0m in \u001b[0;36m<module>\u001b[0;34m()\u001b[0m\n\u001b[1;32m      5\u001b[0m \u001b[0;34m\u001b[0m\u001b[0m\n\u001b[1;32m      6\u001b[0m \u001b[0;31m# Multiple output command example (d2)\u001b[0m\u001b[0;34m\u001b[0m\u001b[0;34m\u001b[0m\u001b[0m\n\u001b[0;32m----> 7\u001b[0;31m \u001b[0md2_out\u001b[0m\u001b[0;34m,\u001b[0m \u001b[0mmsg\u001b[0m \u001b[0;34m=\u001b[0m \u001b[0mtiseanio\u001b[0m\u001b[0;34m(\u001b[0m\u001b[0;34m\"d2\"\u001b[0m\u001b[0;34m,\u001b[0m \u001b[0;34m'-N'\u001b[0m\u001b[0;34m,\u001b[0m \u001b[0;34m'0'\u001b[0m\u001b[0;34m,\u001b[0m\u001b[0;34m'-c'\u001b[0m\u001b[0;34m,\u001b[0m \u001b[0;34m\"1\"\u001b[0m\u001b[0;34m,\u001b[0m \u001b[0mdata\u001b[0m\u001b[0;34m=\u001b[0m\u001b[0mdata\u001b[0m\u001b[0;34m[\u001b[0m\u001b[0;36m0\u001b[0m\u001b[0;34m]\u001b[0m\u001b[0;34m)\u001b[0m\u001b[0;34m\u001b[0m\u001b[0m\n\u001b[0m\u001b[1;32m      8\u001b[0m \u001b[0;34m\u001b[0m\u001b[0m\n\u001b[1;32m      9\u001b[0m \u001b[0;31m# plot output c2\u001b[0m\u001b[0;34m\u001b[0m\u001b[0;34m\u001b[0m\u001b[0m\n",
      "\u001b[0;32m~/miniconda3/envs/thesis/lib/python3.6/site-packages/pytisean/pytisean.py\u001b[0m in \u001b[0;36mtiseanio\u001b[0;34m(command, data, silent, legacy, *args)\u001b[0m\n\u001b[1;32m    141\u001b[0m \u001b[0;34m\u001b[0m\u001b[0m\n\u001b[1;32m    142\u001b[0m         \u001b[0;31m# Communicate with the subprocess\u001b[0m\u001b[0;34m\u001b[0m\u001b[0;34m\u001b[0m\u001b[0m\n\u001b[0;32m--> 143\u001b[0;31m         \u001b[0;34m(\u001b[0m\u001b[0m_\u001b[0m\u001b[0;34m,\u001b[0m \u001b[0merr_bytes\u001b[0m\u001b[0;34m)\u001b[0m \u001b[0;34m=\u001b[0m \u001b[0msubp\u001b[0m\u001b[0;34m.\u001b[0m\u001b[0mcommunicate\u001b[0m\u001b[0;34m(\u001b[0m\u001b[0;34m)\u001b[0m\u001b[0;34m\u001b[0m\u001b[0m\n\u001b[0m\u001b[1;32m    144\u001b[0m         \u001b[0;31m# Read the temporary 'out' file\u001b[0m\u001b[0;34m\u001b[0m\u001b[0;34m\u001b[0m\u001b[0m\n\u001b[1;32m    145\u001b[0m         \u001b[0mres\u001b[0m \u001b[0;34m=\u001b[0m \u001b[0m_output_parser_remover\u001b[0m\u001b[0;34m(\u001b[0m\u001b[0mcommand\u001b[0m\u001b[0;34m,\u001b[0m \u001b[0mfullname_out\u001b[0m\u001b[0;34m,\u001b[0m \u001b[0mlegacy\u001b[0m\u001b[0;34m)\u001b[0m\u001b[0;34m\u001b[0m\u001b[0m\n",
      "\u001b[0;32m~/miniconda3/envs/thesis/lib/python3.6/subprocess.py\u001b[0m in \u001b[0;36mcommunicate\u001b[0;34m(self, input, timeout)\u001b[0m\n\u001b[1;32m    841\u001b[0m \u001b[0;34m\u001b[0m\u001b[0m\n\u001b[1;32m    842\u001b[0m             \u001b[0;32mtry\u001b[0m\u001b[0;34m:\u001b[0m\u001b[0;34m\u001b[0m\u001b[0m\n\u001b[0;32m--> 843\u001b[0;31m                 \u001b[0mstdout\u001b[0m\u001b[0;34m,\u001b[0m \u001b[0mstderr\u001b[0m \u001b[0;34m=\u001b[0m \u001b[0mself\u001b[0m\u001b[0;34m.\u001b[0m\u001b[0m_communicate\u001b[0m\u001b[0;34m(\u001b[0m\u001b[0minput\u001b[0m\u001b[0;34m,\u001b[0m \u001b[0mendtime\u001b[0m\u001b[0;34m,\u001b[0m \u001b[0mtimeout\u001b[0m\u001b[0;34m)\u001b[0m\u001b[0;34m\u001b[0m\u001b[0m\n\u001b[0m\u001b[1;32m    844\u001b[0m             \u001b[0;32mfinally\u001b[0m\u001b[0;34m:\u001b[0m\u001b[0;34m\u001b[0m\u001b[0m\n\u001b[1;32m    845\u001b[0m                 \u001b[0mself\u001b[0m\u001b[0;34m.\u001b[0m\u001b[0m_communication_started\u001b[0m \u001b[0;34m=\u001b[0m \u001b[0;32mTrue\u001b[0m\u001b[0;34m\u001b[0m\u001b[0m\n",
      "\u001b[0;32m~/miniconda3/envs/thesis/lib/python3.6/subprocess.py\u001b[0m in \u001b[0;36m_communicate\u001b[0;34m(self, input, endtime, orig_timeout)\u001b[0m\n\u001b[1;32m   1512\u001b[0m                         \u001b[0;32mraise\u001b[0m \u001b[0mTimeoutExpired\u001b[0m\u001b[0;34m(\u001b[0m\u001b[0mself\u001b[0m\u001b[0;34m.\u001b[0m\u001b[0margs\u001b[0m\u001b[0;34m,\u001b[0m \u001b[0morig_timeout\u001b[0m\u001b[0;34m)\u001b[0m\u001b[0;34m\u001b[0m\u001b[0m\n\u001b[1;32m   1513\u001b[0m \u001b[0;34m\u001b[0m\u001b[0m\n\u001b[0;32m-> 1514\u001b[0;31m                     \u001b[0mready\u001b[0m \u001b[0;34m=\u001b[0m \u001b[0mselector\u001b[0m\u001b[0;34m.\u001b[0m\u001b[0mselect\u001b[0m\u001b[0;34m(\u001b[0m\u001b[0mtimeout\u001b[0m\u001b[0;34m)\u001b[0m\u001b[0;34m\u001b[0m\u001b[0m\n\u001b[0m\u001b[1;32m   1515\u001b[0m                     \u001b[0mself\u001b[0m\u001b[0;34m.\u001b[0m\u001b[0m_check_timeout\u001b[0m\u001b[0;34m(\u001b[0m\u001b[0mendtime\u001b[0m\u001b[0;34m,\u001b[0m \u001b[0morig_timeout\u001b[0m\u001b[0;34m)\u001b[0m\u001b[0;34m\u001b[0m\u001b[0m\n\u001b[1;32m   1516\u001b[0m \u001b[0;34m\u001b[0m\u001b[0m\n",
      "\u001b[0;32m~/miniconda3/envs/thesis/lib/python3.6/selectors.py\u001b[0m in \u001b[0;36mselect\u001b[0;34m(self, timeout)\u001b[0m\n\u001b[1;32m    374\u001b[0m             \u001b[0mready\u001b[0m \u001b[0;34m=\u001b[0m \u001b[0;34m[\u001b[0m\u001b[0;34m]\u001b[0m\u001b[0;34m\u001b[0m\u001b[0m\n\u001b[1;32m    375\u001b[0m             \u001b[0;32mtry\u001b[0m\u001b[0;34m:\u001b[0m\u001b[0;34m\u001b[0m\u001b[0m\n\u001b[0;32m--> 376\u001b[0;31m                 \u001b[0mfd_event_list\u001b[0m \u001b[0;34m=\u001b[0m \u001b[0mself\u001b[0m\u001b[0;34m.\u001b[0m\u001b[0m_poll\u001b[0m\u001b[0;34m.\u001b[0m\u001b[0mpoll\u001b[0m\u001b[0;34m(\u001b[0m\u001b[0mtimeout\u001b[0m\u001b[0;34m)\u001b[0m\u001b[0;34m\u001b[0m\u001b[0m\n\u001b[0m\u001b[1;32m    377\u001b[0m             \u001b[0;32mexcept\u001b[0m \u001b[0mInterruptedError\u001b[0m\u001b[0;34m:\u001b[0m\u001b[0;34m\u001b[0m\u001b[0m\n\u001b[1;32m    378\u001b[0m                 \u001b[0;32mreturn\u001b[0m \u001b[0mready\u001b[0m\u001b[0;34m\u001b[0m\u001b[0m\n",
      "\u001b[0;31mKeyboardInterrupt\u001b[0m: "
     ]
    }
   ],
   "source": [
    "from pytisean import tiseano, tiseanio\n",
    "\n",
    "# generate Lorenz\n",
    "# stdout, msg = tiseano(\"lorenz\", \"-l\", \"2000\")\n",
    "\n",
    "# Multiple output command example (d2)\n",
    "d2_out, msg = tiseanio(\"d2\", '-N', '0','-c', \"1\", data=data[0])\n",
    "\n",
    "# plot output c2\n",
    "plt.scatter(d2_out[\"c2\"][:,0], d2_out[\"c2\"][:,1],s=0.1)\n",
    "plt.yscale('log')\n",
    "plt.ylim([1e-7,1])\n",
    "plt.xscale('log')\n",
    "plt.xlabel(\"length scale\")\n",
    "plt.ylabel(\"correlation sum\")\n",
    "plt.show()\n",
    "# plot output d2\n",
    "plt.scatter(d2_out[\"d2\"][:,0], d2_out[\"d2\"][:,1],s=0.1)\n",
    "#plt.yscale('log')\n",
    "plt.xscale('log')\n",
    "plt.xlabel(\"length scale\")\n",
    "plt.ylabel(\"correlation dimension\")\n",
    "plt.show()\n",
    "# plot output h2\n",
    "plt.scatter(d2_out[\"h2\"][:,0], d2_out[\"h2\"][:,1],s=0.1)\n",
    "#plt.yscale('log')\n",
    "plt.xscale('log')\n",
    "plt.xlabel(\"length scale\")\n",
    "plt.ylabel(\"correlation entropy\")\n",
    "plt.show()"
   ]
  },
  {
   "cell_type": "code",
   "execution_count": 20,
   "metadata": {},
   "outputs": [
    {
     "name": "stdout",
     "output_type": "stream",
     "text": [
      "\n",
      "TISEAN 3.0.0 (C) R. Hegger, H. Kantz, T. Schreiber (1998-2007)\n",
      "\n",
      "lyap_k: Estimates the maximal Lyapunov exponent using the Kantz\n",
      "\talgorithm\n",
      "\n",
      "Using /tmp/pytisean_temp_2018-12-15-17-40-57_azzw7a1x/inFile as datafile, reading column 1\n",
      "Use 15000 lines.\n",
      "Opened /tmp/pytisean_temp_2018-12-15-17-40-57_azzw7a1x/outFile for writing\n",
      "epsilon= 4.209901e-02\n",
      "epsilon= 7.486380e-02\n",
      "epsilon= 1.331287e-01\n",
      "epsilon= 2.367401e-01\n",
      "epsilon= 4.209901e-01\n",
      "\n"
     ]
    }
   ],
   "source": [
    "from pytisean import tiseano, tiseanio\n",
    "\n",
    "lle_out, msg = tiseanio(\"lyap_k\", '-l', '15000','-d', \"4\", '-m', '5', '-M', '15', '-t', '0', data=data[0])"
   ]
  },
  {
   "cell_type": "code",
   "execution_count": 22,
   "metadata": {},
   "outputs": [
    {
     "data": {
      "text/plain": [
       "array([-4.828083, -3.141317, -2.724874, -2.773738, -3.137188, -2.61782 ,\n",
       "       -2.384836, -2.385223, -2.537068, -2.335955, -2.189719, -2.174987,\n",
       "       -2.239728, -2.187107, -2.084667, -2.066142, -2.097068, -2.061513,\n",
       "       -1.969978, -1.933758, -1.96002 , -1.972128, -1.927116, -1.911522,\n",
       "       -1.942185, -1.940855, -1.919121, -1.928235, -1.964683, -1.921438,\n",
       "       -1.895567, -1.924838, -1.973248, -1.917308, -1.871897, -1.889738,\n",
       "       -1.935268, -1.913449, -1.872073, -1.888062, -1.923717, -1.884276,\n",
       "       -1.877675, -1.889074, -1.948381, -1.856309, -1.843598, -1.866909,\n",
       "       -1.936814, -1.870207, -1.854874])"
      ]
     },
     "execution_count": 22,
     "metadata": {},
     "output_type": "execute_result"
    }
   ],
   "source": [
    "lle_out[lle_out[:,2] == max(lle_out[:,2])][:,1]"
   ]
  },
  {
   "cell_type": "code",
   "execution_count": 23,
   "metadata": {},
   "outputs": [
    {
     "data": {
      "text/plain": [
       "array([[  0.      ,  -5.441722,  12.      ],\n",
       "       [  1.      ,  -3.534629,  12.      ],\n",
       "       [  2.      ,  -3.122168,  12.      ],\n",
       "       [  3.      ,  -3.214397,  12.      ],\n",
       "       [  4.      ,  -3.602552,  12.      ],\n",
       "       [  5.      ,  -2.826527,  12.      ],\n",
       "       [  6.      ,  -2.542178,  12.      ],\n",
       "       [  7.      ,  -2.5211  ,  12.      ],\n",
       "       [  8.      ,  -2.819825,  12.      ],\n",
       "       [  9.      ,  -2.546   ,  12.      ],\n",
       "       [ 10.      ,  -2.364702,  12.      ],\n",
       "       [ 11.      ,  -2.289174,  12.      ],\n",
       "       [ 12.      ,  -2.325669,  12.      ],\n",
       "       [ 13.      ,  -2.340213,  12.      ],\n",
       "       [ 14.      ,  -2.208742,  12.      ],\n",
       "       [ 15.      ,  -2.093507,  12.      ],\n",
       "       [ 16.      ,  -2.097143,  12.      ],\n",
       "       [ 17.      ,  -2.189054,  12.      ],\n",
       "       [ 18.      ,  -2.18135 ,  12.      ],\n",
       "       [ 19.      ,  -2.050719,  12.      ],\n",
       "       [ 20.      ,  -2.023792,  12.      ],\n",
       "       [ 21.      ,  -2.124696,  12.      ],\n",
       "       [ 22.      ,  -2.099718,  12.      ],\n",
       "       [ 23.      ,  -1.880105,  12.      ],\n",
       "       [ 24.      ,  -1.83037 ,  12.      ],\n",
       "       [ 25.      ,  -1.972869,  12.      ],\n",
       "       [ 26.      ,  -1.959266,  12.      ],\n",
       "       [ 27.      ,  -1.791096,  12.      ],\n",
       "       [ 28.      ,  -1.797677,  12.      ],\n",
       "       [ 29.      ,  -1.933706,  12.      ],\n",
       "       [ 30.      ,  -1.839567,  12.      ],\n",
       "       [ 31.      ,  -1.746551,  12.      ],\n",
       "       [ 32.      ,  -1.83982 ,  12.      ],\n",
       "       [ 33.      ,  -1.920065,  12.      ],\n",
       "       [ 34.      ,  -1.814746,  12.      ],\n",
       "       [ 35.      ,  -1.782745,  12.      ],\n",
       "       [ 36.      ,  -1.902185,  12.      ],\n",
       "       [ 37.      ,  -1.910689,  12.      ],\n",
       "       [ 38.      ,  -1.782579,  12.      ],\n",
       "       [ 39.      ,  -1.762971,  12.      ],\n",
       "       [ 40.      ,  -1.954977,  12.      ],\n",
       "       [ 41.      ,  -1.887656,  12.      ],\n",
       "       [ 42.      ,  -1.811062,  12.      ],\n",
       "       [ 43.      ,  -1.909673,  12.      ],\n",
       "       [ 44.      ,  -2.223991,  12.      ],\n",
       "       [ 45.      ,  -2.056172,  12.      ],\n",
       "       [ 46.      ,  -2.007991,  12.      ],\n",
       "       [ 47.      ,  -2.003757,  12.      ],\n",
       "       [ 48.      ,  -2.289917,  12.      ],\n",
       "       [ 49.      ,  -2.077316,  12.      ],\n",
       "       [ 50.      ,  -2.010818,  12.      ],\n",
       "       [  0.      ,  -5.563737,   2.      ],\n",
       "       [  1.      ,  -3.788437,   2.      ],\n",
       "       [  2.      ,  -3.36106 ,   2.      ],\n",
       "       [  3.      ,  -3.636741,   2.      ],\n",
       "       [  4.      ,  -5.139246,   2.      ],\n",
       "       [  5.      ,  -3.553372,   2.      ],\n",
       "       [  6.      ,  -3.080512,   2.      ],\n",
       "       [  7.      ,  -3.082549,   2.      ],\n",
       "       [  8.      ,  -3.330939,   2.      ],\n",
       "       [  9.      ,  -3.324431,   2.      ],\n",
       "       [ 10.      ,  -3.087528,   2.      ],\n",
       "       [ 11.      ,  -3.012563,   2.      ],\n",
       "       [ 12.      ,  -3.065364,   2.      ],\n",
       "       [ 13.      ,  -3.110656,   2.      ],\n",
       "       [ 14.      ,  -3.099184,   2.      ],\n",
       "       [ 15.      ,  -3.043454,   2.      ],\n",
       "       [ 16.      ,  -3.028334,   2.      ],\n",
       "       [ 17.      ,  -3.160947,   2.      ],\n",
       "       [ 18.      ,  -3.188741,   2.      ],\n",
       "       [ 19.      ,  -2.911814,   2.      ],\n",
       "       [ 20.      ,  -2.847804,   2.      ],\n",
       "       [ 21.      ,  -3.170518,   2.      ],\n",
       "       [ 22.      ,  -3.202781,   2.      ],\n",
       "       [ 23.      ,  -2.783881,   2.      ],\n",
       "       [ 24.      ,  -2.79574 ,   2.      ],\n",
       "       [ 25.      ,  -3.141391,   2.      ],\n",
       "       [ 26.      ,  -2.86251 ,   2.      ],\n",
       "       [ 27.      ,  -2.598068,   2.      ],\n",
       "       [ 28.      ,  -2.776763,   2.      ],\n",
       "       [ 29.      ,  -3.084191,   2.      ],\n",
       "       [ 30.      ,  -2.784715,   2.      ],\n",
       "       [ 31.      ,  -2.687767,   2.      ],\n",
       "       [ 32.      ,  -2.955576,   2.      ],\n",
       "       [ 33.      ,  -2.988719,   2.      ],\n",
       "       [ 34.      ,  -2.693115,   2.      ],\n",
       "       [ 35.      ,  -2.718882,   2.      ],\n",
       "       [ 36.      ,  -3.148616,   2.      ],\n",
       "       [ 37.      ,  -3.154713,   2.      ],\n",
       "       [ 38.      ,  -2.700286,   2.      ],\n",
       "       [ 39.      ,  -2.692097,   2.      ],\n",
       "       [ 40.      ,  -3.188335,   2.      ],\n",
       "       [ 41.      ,  -3.077346,   2.      ],\n",
       "       [ 42.      ,  -2.595104,   2.      ],\n",
       "       [ 43.      ,  -2.69123 ,   2.      ],\n",
       "       [ 44.      ,  -3.589598,   2.      ],\n",
       "       [ 45.      ,  -3.06337 ,   2.      ],\n",
       "       [ 46.      ,  -2.583567,   2.      ],\n",
       "       [ 47.      ,  -2.805685,   2.      ],\n",
       "       [ 48.      ,  -3.833746,   2.      ],\n",
       "       [ 49.      ,  -3.081   ,   2.      ],\n",
       "       [ 50.      ,  -2.759071,   2.      ],\n",
       "       [  0.      ,  -4.828083, 123.      ],\n",
       "       [  1.      ,  -3.141317, 123.      ],\n",
       "       [  2.      ,  -2.724874, 123.      ],\n",
       "       [  3.      ,  -2.773738, 123.      ],\n",
       "       [  4.      ,  -3.137188, 123.      ],\n",
       "       [  5.      ,  -2.61782 , 123.      ],\n",
       "       [  6.      ,  -2.384836, 123.      ],\n",
       "       [  7.      ,  -2.385223, 123.      ],\n",
       "       [  8.      ,  -2.537068, 123.      ],\n",
       "       [  9.      ,  -2.335955, 123.      ],\n",
       "       [ 10.      ,  -2.189719, 123.      ],\n",
       "       [ 11.      ,  -2.174987, 123.      ],\n",
       "       [ 12.      ,  -2.239728, 123.      ],\n",
       "       [ 13.      ,  -2.187107, 123.      ],\n",
       "       [ 14.      ,  -2.084667, 123.      ],\n",
       "       [ 15.      ,  -2.066142, 123.      ],\n",
       "       [ 16.      ,  -2.097068, 123.      ],\n",
       "       [ 17.      ,  -2.061513, 123.      ],\n",
       "       [ 18.      ,  -1.969978, 123.      ],\n",
       "       [ 19.      ,  -1.933758, 123.      ],\n",
       "       [ 20.      ,  -1.96002 , 123.      ],\n",
       "       [ 21.      ,  -1.972128, 123.      ],\n",
       "       [ 22.      ,  -1.927116, 123.      ],\n",
       "       [ 23.      ,  -1.911522, 123.      ],\n",
       "       [ 24.      ,  -1.942185, 123.      ],\n",
       "       [ 25.      ,  -1.940855, 123.      ],\n",
       "       [ 26.      ,  -1.919121, 123.      ],\n",
       "       [ 27.      ,  -1.928235, 123.      ],\n",
       "       [ 28.      ,  -1.964683, 123.      ],\n",
       "       [ 29.      ,  -1.921438, 123.      ],\n",
       "       [ 30.      ,  -1.895567, 123.      ],\n",
       "       [ 31.      ,  -1.924838, 123.      ],\n",
       "       [ 32.      ,  -1.973248, 123.      ],\n",
       "       [ 33.      ,  -1.917308, 123.      ],\n",
       "       [ 34.      ,  -1.871897, 123.      ],\n",
       "       [ 35.      ,  -1.889738, 123.      ],\n",
       "       [ 36.      ,  -1.935268, 123.      ],\n",
       "       [ 37.      ,  -1.913449, 123.      ],\n",
       "       [ 38.      ,  -1.872073, 123.      ],\n",
       "       [ 39.      ,  -1.888062, 123.      ],\n",
       "       [ 40.      ,  -1.923717, 123.      ],\n",
       "       [ 41.      ,  -1.884276, 123.      ],\n",
       "       [ 42.      ,  -1.877675, 123.      ],\n",
       "       [ 43.      ,  -1.889074, 123.      ],\n",
       "       [ 44.      ,  -1.948381, 123.      ],\n",
       "       [ 45.      ,  -1.856309, 123.      ],\n",
       "       [ 46.      ,  -1.843598, 123.      ],\n",
       "       [ 47.      ,  -1.866909, 123.      ],\n",
       "       [ 48.      ,  -1.936814, 123.      ],\n",
       "       [ 49.      ,  -1.870207, 123.      ],\n",
       "       [ 50.      ,  -1.854874, 123.      ],\n",
       "       [  0.      ,  -4.825757,  17.      ],\n",
       "       [  1.      ,  -3.264647,  17.      ],\n",
       "       [  2.      ,  -2.909502,  17.      ],\n",
       "       [  3.      ,  -3.153369,  17.      ],\n",
       "       [  4.      ,  -4.013498,  17.      ],\n",
       "       [  5.      ,  -3.104152,  17.      ],\n",
       "       [  6.      ,  -2.727285,  17.      ],\n",
       "       [  7.      ,  -2.706459,  17.      ],\n",
       "       [  8.      ,  -2.900453,  17.      ],\n",
       "       [  9.      ,  -2.816091,  17.      ],\n",
       "       [ 10.      ,  -2.618332,  17.      ],\n",
       "       [ 11.      ,  -2.58302 ,  17.      ],\n",
       "       [ 12.      ,  -2.63016 ,  17.      ],\n",
       "       [ 13.      ,  -2.611601,  17.      ],\n",
       "       [ 14.      ,  -2.498816,  17.      ],\n",
       "       [ 15.      ,  -2.408846,  17.      ],\n",
       "       [ 16.      ,  -2.409367,  17.      ],\n",
       "       [ 17.      ,  -2.486179,  17.      ],\n",
       "       [ 18.      ,  -2.467737,  17.      ],\n",
       "       [ 19.      ,  -2.33311 ,  17.      ],\n",
       "       [ 20.      ,  -2.335261,  17.      ],\n",
       "       [ 21.      ,  -2.472111,  17.      ],\n",
       "       [ 22.      ,  -2.415174,  17.      ],\n",
       "       [ 23.      ,  -2.263765,  17.      ],\n",
       "       [ 24.      ,  -2.280695,  17.      ],\n",
       "       [ 25.      ,  -2.432619,  17.      ],\n",
       "       [ 26.      ,  -2.335027,  17.      ],\n",
       "       [ 27.      ,  -2.217872,  17.      ],\n",
       "       [ 28.      ,  -2.27826 ,  17.      ],\n",
       "       [ 29.      ,  -2.423492,  17.      ],\n",
       "       [ 30.      ,  -2.372139,  17.      ],\n",
       "       [ 31.      ,  -2.313508,  17.      ],\n",
       "       [ 32.      ,  -2.388072,  17.      ],\n",
       "       [ 33.      ,  -2.416519,  17.      ],\n",
       "       [ 34.      ,  -2.319565,  17.      ],\n",
       "       [ 35.      ,  -2.32355 ,  17.      ],\n",
       "       [ 36.      ,  -2.492439,  17.      ],\n",
       "       [ 37.      ,  -2.478674,  17.      ],\n",
       "       [ 38.      ,  -2.3239  ,  17.      ],\n",
       "       [ 39.      ,  -2.42426 ,  17.      ],\n",
       "       [ 40.      ,  -2.646262,  17.      ],\n",
       "       [ 41.      ,  -2.451405,  17.      ],\n",
       "       [ 42.      ,  -2.239461,  17.      ],\n",
       "       [ 43.      ,  -2.381265,  17.      ],\n",
       "       [ 44.      ,  -2.71273 ,  17.      ],\n",
       "       [ 45.      ,  -2.383434,  17.      ],\n",
       "       [ 46.      ,  -2.20594 ,  17.      ],\n",
       "       [ 47.      ,  -2.381557,  17.      ],\n",
       "       [ 48.      ,  -2.691259,  17.      ],\n",
       "       [ 49.      ,  -2.404107,  17.      ],\n",
       "       [ 50.      ,  -2.290786,  17.      ],\n",
       "       [  0.      ,  -4.878053,   4.      ],\n",
       "       [  1.      ,  -3.386122,   4.      ],\n",
       "       [  2.      ,  -2.954394,   4.      ],\n",
       "       [  3.      ,  -3.041453,   4.      ],\n",
       "       [  4.      ,  -3.549994,   4.      ],\n",
       "       [  5.      ,  -3.274295,   4.      ],\n",
       "       [  6.      ,  -2.925446,   4.      ],\n",
       "       [  7.      ,  -2.923011,   4.      ],\n",
       "       [  8.      ,  -3.194955,   4.      ],\n",
       "       [  9.      ,  -3.136167,   4.      ],\n",
       "       [ 10.      ,  -2.910279,   4.      ],\n",
       "       [ 11.      ,  -2.879865,   4.      ],\n",
       "       [ 12.      ,  -2.993991,   4.      ],\n",
       "       [ 13.      ,  -3.005215,   4.      ],\n",
       "       [ 14.      ,  -2.876282,   4.      ],\n",
       "       [ 15.      ,  -2.784851,   4.      ],\n",
       "       [ 16.      ,  -2.867008,   4.      ],\n",
       "       [ 17.      ,  -3.009269,   4.      ],\n",
       "       [ 18.      ,  -2.917324,   4.      ],\n",
       "       [ 19.      ,  -2.733081,   4.      ],\n",
       "       [ 20.      ,  -2.823047,   4.      ],\n",
       "       [ 21.      ,  -3.007901,   4.      ],\n",
       "       [ 22.      ,  -2.79223 ,   4.      ],\n",
       "       [ 23.      ,  -2.646382,   4.      ],\n",
       "       [ 24.      ,  -2.811685,   4.      ],\n",
       "       [ 25.      ,  -2.995229,   4.      ],\n",
       "       [ 26.      ,  -2.756254,   4.      ],\n",
       "       [ 27.      ,  -2.647131,   4.      ],\n",
       "       [ 28.      ,  -2.806935,   4.      ],\n",
       "       [ 29.      ,  -2.98308 ,   4.      ],\n",
       "       [ 30.      ,  -2.882463,   4.      ],\n",
       "       [ 31.      ,  -2.800946,   4.      ],\n",
       "       [ 32.      ,  -2.927419,   4.      ],\n",
       "       [ 33.      ,  -3.018213,   4.      ],\n",
       "       [ 34.      ,  -2.930965,   4.      ],\n",
       "       [ 35.      ,  -2.901616,   4.      ],\n",
       "       [ 36.      ,  -3.058312,   4.      ],\n",
       "       [ 37.      ,  -2.981714,   4.      ],\n",
       "       [ 38.      ,  -2.780969,   4.      ],\n",
       "       [ 39.      ,  -2.943373,   4.      ],\n",
       "       [ 40.      ,  -3.205285,   4.      ],\n",
       "       [ 41.      ,  -2.968012,   4.      ],\n",
       "       [ 42.      ,  -2.721667,   4.      ],\n",
       "       [ 43.      ,  -2.976259,   4.      ],\n",
       "       [ 44.      ,  -3.468715,   4.      ],\n",
       "       [ 45.      ,  -2.993811,   4.      ],\n",
       "       [ 46.      ,  -2.752396,   4.      ],\n",
       "       [ 47.      ,  -3.034723,   4.      ],\n",
       "       [ 48.      ,  -3.237571,   4.      ],\n",
       "       [ 49.      ,  -2.901153,   4.      ],\n",
       "       [ 50.      ,  -2.791863,   4.      ]])"
      ]
     },
     "execution_count": 23,
     "metadata": {},
     "output_type": "execute_result"
    }
   ],
   "source": [
    "lle_out"
   ]
  },
  {
   "cell_type": "code",
   "execution_count": 27,
   "metadata": {},
   "outputs": [
    {
     "data": {
      "image/png": "[encoded data removed]",
      "text/plain": [
       "<Figure size 432x288 with 1 Axes>"
      ]
     },
     "metadata": {
      "needs_background": "light"
     },
     "output_type": "display_data"
    }
   ],
   "source": [
    "plt.plot(lle_out[lle_out[:,2] == max(lle_out[:,2])][:,1])\n",
    "# plt.yscale('log')\n",
    "# plt.ylim([1e-7,1])\n",
    "plt.xlabel(\"Time iteration\")\n",
    "plt.ylabel(\"Log divergence\")\n",
    "plt.show()"
   ]
  },
  {
   "cell_type": "code",
   "execution_count": 32,
   "metadata": {},
   "outputs": [
    {
     "data": {
      "image/png": "[encoded data removed]",
      "text/plain": [
       "<Figure size 1152x1152 with 15 Axes>"
      ]
     },
     "metadata": {
      "needs_background": "light"
     },
     "output_type": "display_data"
    },
    {
     "data": {
      "text/plain": [
       "array([ 11.746955  ,   8.461632  ,   5.7738    ,   3.9445784 ,\n",
       "         2.405506  ,   1.3574523 ,   0.15308036,  -1.0068604 ,\n",
       "        -2.225425  ,  -3.669051  ,  -5.5188046 ,  -8.28475   ,\n",
       "       -12.134834  , -18.702349  , -35.71935   ], dtype=float32)"
      ]
     },
     "execution_count": 32,
     "metadata": {},
     "output_type": "execute_result"
    }
   ],
   "source": [
    "from nolds import lyap_e\n",
    "lle_res = lyap_e(data[0][:15000], emb_dim=15, matrix_dim=15, min_nb=None, min_tsep=50, tau=4, debug_plot=True)\n",
    "lle_res / 0.004"
   ]
  },
  {
   "cell_type": "code",
   "execution_count": null,
   "metadata": {},
   "outputs": [],
   "source": []
  }
 ],
 "metadata": {
  "kernelspec": {
   "display_name": "Python 3",
   "language": "python",
   "name": "python3"
  },
  "language_info": {
   "codemirror_mode": {
    "name": "ipython",
    "version": 3
   },
   "file_extension": ".py",
   "mimetype": "text/x-python",
   "name": "python",
   "nbconvert_exporter": "python",
   "pygments_lexer": "ipython3",
   "version": "3.6.6"
  }
 },
 "nbformat": 4,
 "nbformat_minor": 2
}

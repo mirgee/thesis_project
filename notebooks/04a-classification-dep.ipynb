{
 "cells": [
  {
   "cell_type": "code",
   "execution_count": 1,
   "metadata": {
    "scrolled": true
   },
   "outputs": [
    {
     "name": "stdout",
     "output_type": "stream",
     "text": [
      "Thu Aug 22 2019 \n",
      "\n",
      "CPython 3.6.8\n",
      "IPython 7.6.0\n",
      "\n",
      "numpy 1.16.4\n",
      "scipy 1.2.1\n",
      "sklearn 0.21.2\n",
      "pandas 0.24.2\n",
      "\n",
      "compiler   : GCC 7.3.0\n",
      "system     : Linux\n",
      "release    : 4.15.0-58-generic\n",
      "machine    : x86_64\n",
      "processor  : x86_64\n",
      "CPU cores  : 4\n",
      "interpreter: 64bit\n"
     ]
    }
   ],
   "source": [
    "%load_ext autoreload\n",
    "%autoreload 2\n",
    "%load_ext watermark\n",
    "%watermark -v -n -m -p numpy,scipy,sklearn,pandas"
   ]
  },
  {
   "cell_type": "code",
   "execution_count": 2,
   "metadata": {},
   "outputs": [
    {
     "name": "stdout",
     "output_type": "stream",
     "text": [
      "Opening raw data file /home/miroslav/Source/thesis_project/data/processed/1a.fif...\n",
      "This filename (/home/miroslav/Source/thesis_project/data/processed/1a.fif) does not conform to MNE naming conventions. All raw files should end with raw.fif, raw_sss.fif, raw_tsss.fif, raw.fif.gz, raw_sss.fif.gz or raw_tsss.fif.gz\n",
      "Isotrak not found\n",
      "    Range : 0 ... 19104 =      0.000 ...    76.416 secs\n",
      "Ready.\n"
     ]
    },
    {
     "name": "stderr",
     "output_type": "stream",
     "text": [
      "/home/miroslav/Source/thesis_project/src/data/utils.py:18: RuntimeWarning: This filename (/home/miroslav/Source/thesis_project/data/processed/1a.fif) does not conform to MNE naming conventions. All raw files should end with raw.fif, raw_sss.fif, raw_tsss.fif, raw.fif.gz, raw_sss.fif.gz or raw_tsss.fif.gz\n",
      "  raw_fif = mne.io.read_raw_fif(file_path)\n"
     ]
    }
   ],
   "source": [
    "%matplotlib inline\n",
    "import sys\n",
    "import pandas as pd\n",
    "import numpy as np\n",
    "import seaborn as sns\n",
    "import os\n",
    "import nolds\n",
    "import data\n",
    "import mne\n",
    "from random import randint\n",
    "\n",
    "from config import *\n",
    "from data.utils import prepare_dfs, prepare_resp_non, prepare_dep_non, get_metapkl\n",
    "from data.data_files import files_builder, DataKind\n",
    "from classification.prediction import predict\n",
    "from classification.scorers import scorer_factory\n",
    "    \n",
    "metapkl = get_metapkl()\n",
    "meta_df = pd.read_excel(os.path.join(RAW_ROOT, META_FILE_NAME), index_col='ID', names=META_COLUMN_NAMES)\n",
    "data = np.transpose(files_builder(DataKind('processed')).single_file('1a.fif').df.values)"
   ]
  },
  {
   "cell_type": "code",
   "execution_count": 3,
   "metadata": {},
   "outputs": [
    {
     "name": "stdout",
     "output_type": "stream",
     "text": [
      " 0    148\n",
      "-1     62\n",
      " 1     56\n",
      "Name: dep, dtype: int64\n",
      "-1    142\n",
      " 1    124\n",
      "Name: dep_bef, dtype: int64\n",
      " 0    126\n",
      "-1    124\n",
      " 1     16\n",
      "Name: dep_aft, dtype: int64\n"
     ]
    }
   ],
   "source": [
    "def f(row, col, t1, t2=0):\n",
    "    if row[col] <= t1:\n",
    "        return -1\n",
    "    if row[col] <= t2:\n",
    "        return 0\n",
    "    else:\n",
    "        return 1\n",
    "    \n",
    "metapkl['dep'] = metapkl.apply(lambda row: f(row, 'sc', 16, 28), axis=1)\n",
    "metapkl['dep_bef'] = metapkl.apply(lambda row: f(row, 'sc_bef', 27), axis=1)\n",
    "metapkl['dep_aft'] = metapkl.apply(lambda row: f(row, 'sc_aft', 16, 28), axis=1)\n",
    "metapkl = metapkl.astype({'dep': 'category', 'dep_bef': 'category', 'dep_aft': 'category'})                                           \n",
    "print(metapkl['dep'].value_counts())\n",
    "print(metapkl['dep_bef'].value_counts())\n",
    "print(metapkl['dep_aft'].value_counts())"
   ]
  },
  {
   "cell_type": "code",
   "execution_count": 4,
   "metadata": {
    "scrolled": true
   },
   "outputs": [
    {
     "name": "stderr",
     "output_type": "stream",
     "text": [
      "/home/miroslav/anaconda3/envs/thesis/lib/python3.6/site-packages/sklearn/externals/joblib/__init__.py:15: DeprecationWarning: sklearn.externals.joblib is deprecated in 0.21 and will be removed in 0.23. Please import this functionality directly from joblib, which can be installed with: pip install joblib. If this warning is raised when loading pickled models, you may need to re-serialize those models with scikit-learn 0.21+.\n",
      "  warnings.warn(msg, category=DeprecationWarning)\n",
      "/home/miroslav/anaconda3/envs/thesis/lib/python3.6/site-packages/sklearn/model_selection/_split.py:1978: FutureWarning: The default value of cv will change from 3 to 5 in version 0.22. Specify it explicitly to silence this warning.\n",
      "  warnings.warn(CV_WARNING, FutureWarning)\n"
     ]
    },
    {
     "name": "stdout",
     "output_type": "stream",
     "text": [
      "('corr',)\n",
      "RFECV\n",
      "[('FP1', 'corr'), ('FP2', 'corr'), ('F3', 'corr'), ('F4', 'corr'), ('C3', 'corr'), ('C4', 'corr'), ('P3', 'corr'), ('P4', 'corr'), ('O1', 'corr'), ('O2', 'corr'), ('F7', 'corr'), ('F8', 'corr'), ('T3', 'corr'), ('T4', 'corr'), ('T5', 'corr'), ('T6', 'corr'), ('Fz', 'corr'), ('Cz', 'corr'), ('Pz', 'corr')]\n",
      "Class distribution:  {-1: 65, 1: 55}\n",
      "Accuracy: 0.62 (+/- 0.07)\n",
      "Precision: 0.62 (+/- 0.08)\n",
      "Recall: 0.62 (+/- 0.07)\n",
      "F1: 0.61 (+/- 0.07)\n",
      "0.62 $\\pm$ 0.07 & 0.62 $\\pm$ 0.08 & 0.62 $\\pm$ 0.07 & 0.61 $\\pm$ 0.07 &  \\\\ \\hline\n",
      "{'C': 1.0, 'gamma': 'auto', 'kernel': 'linear'}\n",
      "\n",
      "\n",
      "\n",
      "('corr',)\n",
      "SelectFromModel\n",
      "[('FP1', 'corr'), ('F3', 'corr'), ('F4', 'corr'), ('C4', 'corr'), ('T3', 'corr'), ('T4', 'corr'), ('T5', 'corr'), ('Fz', 'corr'), ('Pz', 'corr')]\n",
      "Class distribution:  {-1: 65, 1: 55}\n",
      "Accuracy: 0.66 (+/- 0.07)\n",
      "Precision: 0.67 (+/- 0.08)\n",
      "Recall: 0.66 (+/- 0.07)\n",
      "F1: 0.63 (+/- 0.09)\n",
      "0.66 $\\pm$ 0.07 & 0.67 $\\pm$ 0.08 & 0.66 $\\pm$ 0.07 & 0.63 $\\pm$ 0.09 &  \\\\ \\hline\n",
      "{'C': 10, 'gamma': 'auto', 'kernel': 'linear'}\n",
      "\n",
      "\n",
      "\n",
      "('corr',)\n",
      "Genetic\n",
      "[('FP1', 'corr'), ('F3', 'corr'), ('P4', 'corr'), ('O1', 'corr'), ('F7', 'corr'), ('T3', 'corr'), ('T5', 'corr'), ('Fz', 'corr'), ('Cz', 'corr'), ('Pz', 'corr')]\n",
      "Class distribution:  {-1: 65, 1: 55}\n",
      "Accuracy: 0.70 (+/- 0.12)\n",
      "Precision: 0.70 (+/- 0.12)\n",
      "Recall: 0.70 (+/- 0.12)\n",
      "F1: 0.69 (+/- 0.13)\n",
      "0.70 $\\pm$ 0.12 & 0.70 $\\pm$ 0.12 & 0.70 $\\pm$ 0.12 & 0.69 $\\pm$ 0.13 &  \\\\ \\hline\n",
      "{'C': 1.0, 'gamma': 'auto', 'kernel': 'linear'}\n",
      "\n",
      "\n",
      "\n",
      "('lyap',)\n",
      "RFECV\n"
     ]
    },
    {
     "name": "stderr",
     "output_type": "stream",
     "text": [
      "/home/miroslav/anaconda3/envs/thesis/lib/python3.6/site-packages/sklearn/model_selection/_split.py:1978: FutureWarning: The default value of cv will change from 3 to 5 in version 0.22. Specify it explicitly to silence this warning.\n",
      "  warnings.warn(CV_WARNING, FutureWarning)\n"
     ]
    },
    {
     "name": "stdout",
     "output_type": "stream",
     "text": [
      "[('FP2', 'lyap')]\n",
      "Class distribution:  {-1: 65, 1: 55}\n",
      "Accuracy: 0.58 (+/- 0.10)\n",
      "Precision: 0.59 (+/- 0.11)\n",
      "Recall: 0.58 (+/- 0.10)\n",
      "F1: 0.58 (+/- 0.11)\n",
      "0.58 $\\pm$ 0.10 & 0.59 $\\pm$ 0.11 & 0.58 $\\pm$ 0.10 & 0.58 $\\pm$ 0.11 &  \\\\ \\hline\n",
      "{'C': 50, 'gamma': 'scale', 'kernel': 'rbf'}\n",
      "\n",
      "\n",
      "\n",
      "('lyap',)\n",
      "SelectFromModel\n",
      "[('FP2', 'lyap'), ('F4', 'lyap'), ('C4', 'lyap'), ('P4', 'lyap'), ('O1', 'lyap'), ('F7', 'lyap'), ('F8', 'lyap'), ('T4', 'lyap'), ('T6', 'lyap')]\n"
     ]
    },
    {
     "ename": "KeyboardInterrupt",
     "evalue": "",
     "output_type": "error",
     "traceback": [
      "\u001b[0;31m---------------------------------------------------------------------------\u001b[0m",
      "\u001b[0;31mKeyboardInterrupt\u001b[0m                         Traceback (most recent call last)",
      "\u001b[0;32m<ipython-input-4-6502bd538cfe>\u001b[0m in \u001b[0;36m<module>\u001b[0;34m\u001b[0m\n\u001b[1;32m     54\u001b[0m             \u001b[0mprint\u001b[0m\u001b[0;34m(\u001b[0m\u001b[0mselector_name\u001b[0m\u001b[0;34m)\u001b[0m\u001b[0;34m\u001b[0m\u001b[0;34m\u001b[0m\u001b[0m\n\u001b[1;32m     55\u001b[0m             \u001b[0mgs\u001b[0m \u001b[0;34m=\u001b[0m \u001b[0mGridSearchCV\u001b[0m\u001b[0;34m(\u001b[0m\u001b[0mestimator\u001b[0m\u001b[0;34m,\u001b[0m \u001b[0mparams\u001b[0m\u001b[0;34m,\u001b[0m \u001b[0miid\u001b[0m\u001b[0;34m=\u001b[0m\u001b[0;32mFalse\u001b[0m\u001b[0;34m,\u001b[0m \u001b[0mscoring\u001b[0m\u001b[0;34m=\u001b[0m\u001b[0mscorer\u001b[0m\u001b[0;34m,\u001b[0m \u001b[0mcv\u001b[0m\u001b[0;34m=\u001b[0m\u001b[0mgrid_search_cv\u001b[0m\u001b[0;34m)\u001b[0m\u001b[0;34m\u001b[0m\u001b[0;34m\u001b[0m\u001b[0m\n\u001b[0;32m---> 56\u001b[0;31m             \u001b[0mpredict\u001b[0m\u001b[0;34m(\u001b[0m\u001b[0;34m'dep_bef'\u001b[0m\u001b[0;34m,\u001b[0m \u001b[0;34m'a'\u001b[0m\u001b[0;34m,\u001b[0m \u001b[0mcols\u001b[0m\u001b[0;34m,\u001b[0m \u001b[0mestimator\u001b[0m\u001b[0;34m,\u001b[0m \u001b[0mmetapkl\u001b[0m\u001b[0;34m,\u001b[0m \u001b[0mgs\u001b[0m\u001b[0;34m=\u001b[0m\u001b[0mgs\u001b[0m\u001b[0;34m,\u001b[0m \u001b[0mshow_selected\u001b[0m\u001b[0;34m=\u001b[0m\u001b[0;32mTrue\u001b[0m\u001b[0;34m,\u001b[0m \u001b[0mselector\u001b[0m\u001b[0;34m=\u001b[0m\u001b[0mselector\u001b[0m\u001b[0;34m)\u001b[0m\u001b[0;34m\u001b[0m\u001b[0;34m\u001b[0m\u001b[0m\n\u001b[0m\u001b[1;32m     57\u001b[0m             \u001b[0mprint\u001b[0m\u001b[0;34m(\u001b[0m\u001b[0mgs\u001b[0m\u001b[0;34m.\u001b[0m\u001b[0mbest_params_\u001b[0m\u001b[0;34m)\u001b[0m\u001b[0;34m\u001b[0m\u001b[0;34m\u001b[0m\u001b[0m\n\u001b[1;32m     58\u001b[0m             \u001b[0mprint\u001b[0m\u001b[0;34m(\u001b[0m\u001b[0;34m'\\n\\n'\u001b[0m\u001b[0;34m)\u001b[0m\u001b[0;34m\u001b[0m\u001b[0;34m\u001b[0m\u001b[0m\n",
      "\u001b[0;32m~/Source/thesis_project/src/classification/prediction.py\u001b[0m in \u001b[0;36mpredict\u001b[0;34m(lab, ba, cols, estimator, metapkl, gs, evaluate_on_all, channels, selector, print_incorrectly_predicted, show_selected, seed, eval_cv)\u001b[0m\n\u001b[1;32m     33\u001b[0m \u001b[0;34m\u001b[0m\u001b[0m\n\u001b[1;32m     34\u001b[0m     \u001b[0;32mif\u001b[0m \u001b[0mgs\u001b[0m \u001b[0;32mis\u001b[0m \u001b[0;32mnot\u001b[0m \u001b[0;32mNone\u001b[0m\u001b[0;34m:\u001b[0m\u001b[0;34m\u001b[0m\u001b[0;34m\u001b[0m\u001b[0m\n\u001b[0;32m---> 35\u001b[0;31m         \u001b[0mgs\u001b[0m \u001b[0;34m=\u001b[0m \u001b[0mgs\u001b[0m\u001b[0;34m.\u001b[0m\u001b[0mfit\u001b[0m\u001b[0;34m(\u001b[0m\u001b[0mX\u001b[0m\u001b[0;34m,\u001b[0m \u001b[0my\u001b[0m\u001b[0;34m)\u001b[0m\u001b[0;34m\u001b[0m\u001b[0;34m\u001b[0m\u001b[0m\n\u001b[0m\u001b[1;32m     36\u001b[0m         \u001b[0mestimator\u001b[0m \u001b[0;34m=\u001b[0m \u001b[0mgs\u001b[0m\u001b[0;34m.\u001b[0m\u001b[0mbest_estimator_\u001b[0m\u001b[0;34m\u001b[0m\u001b[0;34m\u001b[0m\u001b[0m\n\u001b[1;32m     37\u001b[0m \u001b[0;34m\u001b[0m\u001b[0m\n",
      "\u001b[0;32m~/anaconda3/envs/thesis/lib/python3.6/site-packages/sklearn/model_selection/_search.py\u001b[0m in \u001b[0;36mfit\u001b[0;34m(self, X, y, groups, **fit_params)\u001b[0m\n\u001b[1;32m    685\u001b[0m                 \u001b[0;32mreturn\u001b[0m \u001b[0mresults\u001b[0m\u001b[0;34m\u001b[0m\u001b[0;34m\u001b[0m\u001b[0m\n\u001b[1;32m    686\u001b[0m \u001b[0;34m\u001b[0m\u001b[0m\n\u001b[0;32m--> 687\u001b[0;31m             \u001b[0mself\u001b[0m\u001b[0;34m.\u001b[0m\u001b[0m_run_search\u001b[0m\u001b[0;34m(\u001b[0m\u001b[0mevaluate_candidates\u001b[0m\u001b[0;34m)\u001b[0m\u001b[0;34m\u001b[0m\u001b[0;34m\u001b[0m\u001b[0m\n\u001b[0m\u001b[1;32m    688\u001b[0m \u001b[0;34m\u001b[0m\u001b[0m\n\u001b[1;32m    689\u001b[0m         \u001b[0;31m# For multi-metric evaluation, store the best_index_, best_params_ and\u001b[0m\u001b[0;34m\u001b[0m\u001b[0;34m\u001b[0m\u001b[0;34m\u001b[0m\u001b[0m\n",
      "\u001b[0;32m~/anaconda3/envs/thesis/lib/python3.6/site-packages/sklearn/model_selection/_search.py\u001b[0m in \u001b[0;36m_run_search\u001b[0;34m(self, evaluate_candidates)\u001b[0m\n\u001b[1;32m   1146\u001b[0m     \u001b[0;32mdef\u001b[0m \u001b[0m_run_search\u001b[0m\u001b[0;34m(\u001b[0m\u001b[0mself\u001b[0m\u001b[0;34m,\u001b[0m \u001b[0mevaluate_candidates\u001b[0m\u001b[0;34m)\u001b[0m\u001b[0;34m:\u001b[0m\u001b[0;34m\u001b[0m\u001b[0;34m\u001b[0m\u001b[0m\n\u001b[1;32m   1147\u001b[0m         \u001b[0;34m\"\"\"Search all candidates in param_grid\"\"\"\u001b[0m\u001b[0;34m\u001b[0m\u001b[0;34m\u001b[0m\u001b[0m\n\u001b[0;32m-> 1148\u001b[0;31m         \u001b[0mevaluate_candidates\u001b[0m\u001b[0;34m(\u001b[0m\u001b[0mParameterGrid\u001b[0m\u001b[0;34m(\u001b[0m\u001b[0mself\u001b[0m\u001b[0;34m.\u001b[0m\u001b[0mparam_grid\u001b[0m\u001b[0;34m)\u001b[0m\u001b[0;34m)\u001b[0m\u001b[0;34m\u001b[0m\u001b[0;34m\u001b[0m\u001b[0m\n\u001b[0m\u001b[1;32m   1149\u001b[0m \u001b[0;34m\u001b[0m\u001b[0m\n\u001b[1;32m   1150\u001b[0m \u001b[0;34m\u001b[0m\u001b[0m\n",
      "\u001b[0;32m~/anaconda3/envs/thesis/lib/python3.6/site-packages/sklearn/model_selection/_search.py\u001b[0m in \u001b[0;36mevaluate_candidates\u001b[0;34m(candidate_params)\u001b[0m\n\u001b[1;32m    664\u001b[0m                                \u001b[0;32mfor\u001b[0m \u001b[0mparameters\u001b[0m\u001b[0;34m,\u001b[0m \u001b[0;34m(\u001b[0m\u001b[0mtrain\u001b[0m\u001b[0;34m,\u001b[0m \u001b[0mtest\u001b[0m\u001b[0;34m)\u001b[0m\u001b[0;34m\u001b[0m\u001b[0;34m\u001b[0m\u001b[0m\n\u001b[1;32m    665\u001b[0m                                in product(candidate_params,\n\u001b[0;32m--> 666\u001b[0;31m                                           cv.split(X, y, groups)))\n\u001b[0m\u001b[1;32m    667\u001b[0m \u001b[0;34m\u001b[0m\u001b[0m\n\u001b[1;32m    668\u001b[0m                 \u001b[0;32mif\u001b[0m \u001b[0mlen\u001b[0m\u001b[0;34m(\u001b[0m\u001b[0mout\u001b[0m\u001b[0;34m)\u001b[0m \u001b[0;34m<\u001b[0m \u001b[0;36m1\u001b[0m\u001b[0;34m:\u001b[0m\u001b[0;34m\u001b[0m\u001b[0;34m\u001b[0m\u001b[0m\n",
      "\u001b[0;32m~/anaconda3/envs/thesis/lib/python3.6/site-packages/joblib/parallel.py\u001b[0m in \u001b[0;36m__call__\u001b[0;34m(self, iterable)\u001b[0m\n\u001b[1;32m    922\u001b[0m                 \u001b[0mself\u001b[0m\u001b[0;34m.\u001b[0m\u001b[0m_iterating\u001b[0m \u001b[0;34m=\u001b[0m \u001b[0mself\u001b[0m\u001b[0;34m.\u001b[0m\u001b[0m_original_iterator\u001b[0m \u001b[0;32mis\u001b[0m \u001b[0;32mnot\u001b[0m \u001b[0;32mNone\u001b[0m\u001b[0;34m\u001b[0m\u001b[0;34m\u001b[0m\u001b[0m\n\u001b[1;32m    923\u001b[0m \u001b[0;34m\u001b[0m\u001b[0m\n\u001b[0;32m--> 924\u001b[0;31m             \u001b[0;32mwhile\u001b[0m \u001b[0mself\u001b[0m\u001b[0;34m.\u001b[0m\u001b[0mdispatch_one_batch\u001b[0m\u001b[0;34m(\u001b[0m\u001b[0miterator\u001b[0m\u001b[0;34m)\u001b[0m\u001b[0;34m:\u001b[0m\u001b[0;34m\u001b[0m\u001b[0;34m\u001b[0m\u001b[0m\n\u001b[0m\u001b[1;32m    925\u001b[0m                 \u001b[0;32mpass\u001b[0m\u001b[0;34m\u001b[0m\u001b[0;34m\u001b[0m\u001b[0m\n\u001b[1;32m    926\u001b[0m \u001b[0;34m\u001b[0m\u001b[0m\n",
      "\u001b[0;32m~/anaconda3/envs/thesis/lib/python3.6/site-packages/joblib/parallel.py\u001b[0m in \u001b[0;36mdispatch_one_batch\u001b[0;34m(self, iterator)\u001b[0m\n\u001b[1;32m    757\u001b[0m                 \u001b[0;32mreturn\u001b[0m \u001b[0;32mFalse\u001b[0m\u001b[0;34m\u001b[0m\u001b[0;34m\u001b[0m\u001b[0m\n\u001b[1;32m    758\u001b[0m             \u001b[0;32melse\u001b[0m\u001b[0;34m:\u001b[0m\u001b[0;34m\u001b[0m\u001b[0;34m\u001b[0m\u001b[0m\n\u001b[0;32m--> 759\u001b[0;31m                 \u001b[0mself\u001b[0m\u001b[0;34m.\u001b[0m\u001b[0m_dispatch\u001b[0m\u001b[0;34m(\u001b[0m\u001b[0mtasks\u001b[0m\u001b[0;34m)\u001b[0m\u001b[0;34m\u001b[0m\u001b[0;34m\u001b[0m\u001b[0m\n\u001b[0m\u001b[1;32m    760\u001b[0m                 \u001b[0;32mreturn\u001b[0m \u001b[0;32mTrue\u001b[0m\u001b[0;34m\u001b[0m\u001b[0;34m\u001b[0m\u001b[0m\n\u001b[1;32m    761\u001b[0m \u001b[0;34m\u001b[0m\u001b[0m\n",
      "\u001b[0;32m~/anaconda3/envs/thesis/lib/python3.6/site-packages/joblib/parallel.py\u001b[0m in \u001b[0;36m_dispatch\u001b[0;34m(self, batch)\u001b[0m\n\u001b[1;32m    714\u001b[0m         \u001b[0;32mwith\u001b[0m \u001b[0mself\u001b[0m\u001b[0;34m.\u001b[0m\u001b[0m_lock\u001b[0m\u001b[0;34m:\u001b[0m\u001b[0;34m\u001b[0m\u001b[0;34m\u001b[0m\u001b[0m\n\u001b[1;32m    715\u001b[0m             \u001b[0mjob_idx\u001b[0m \u001b[0;34m=\u001b[0m \u001b[0mlen\u001b[0m\u001b[0;34m(\u001b[0m\u001b[0mself\u001b[0m\u001b[0;34m.\u001b[0m\u001b[0m_jobs\u001b[0m\u001b[0;34m)\u001b[0m\u001b[0;34m\u001b[0m\u001b[0;34m\u001b[0m\u001b[0m\n\u001b[0;32m--> 716\u001b[0;31m             \u001b[0mjob\u001b[0m \u001b[0;34m=\u001b[0m \u001b[0mself\u001b[0m\u001b[0;34m.\u001b[0m\u001b[0m_backend\u001b[0m\u001b[0;34m.\u001b[0m\u001b[0mapply_async\u001b[0m\u001b[0;34m(\u001b[0m\u001b[0mbatch\u001b[0m\u001b[0;34m,\u001b[0m \u001b[0mcallback\u001b[0m\u001b[0;34m=\u001b[0m\u001b[0mcb\u001b[0m\u001b[0;34m)\u001b[0m\u001b[0;34m\u001b[0m\u001b[0;34m\u001b[0m\u001b[0m\n\u001b[0m\u001b[1;32m    717\u001b[0m             \u001b[0;31m# A job can complete so quickly than its callback is\u001b[0m\u001b[0;34m\u001b[0m\u001b[0;34m\u001b[0m\u001b[0;34m\u001b[0m\u001b[0m\n\u001b[1;32m    718\u001b[0m             \u001b[0;31m# called before we get here, causing self._jobs to\u001b[0m\u001b[0;34m\u001b[0m\u001b[0;34m\u001b[0m\u001b[0;34m\u001b[0m\u001b[0m\n",
      "\u001b[0;32m~/anaconda3/envs/thesis/lib/python3.6/site-packages/joblib/_parallel_backends.py\u001b[0m in \u001b[0;36mapply_async\u001b[0;34m(self, func, callback)\u001b[0m\n\u001b[1;32m    180\u001b[0m     \u001b[0;32mdef\u001b[0m \u001b[0mapply_async\u001b[0m\u001b[0;34m(\u001b[0m\u001b[0mself\u001b[0m\u001b[0;34m,\u001b[0m \u001b[0mfunc\u001b[0m\u001b[0;34m,\u001b[0m \u001b[0mcallback\u001b[0m\u001b[0;34m=\u001b[0m\u001b[0;32mNone\u001b[0m\u001b[0;34m)\u001b[0m\u001b[0;34m:\u001b[0m\u001b[0;34m\u001b[0m\u001b[0;34m\u001b[0m\u001b[0m\n\u001b[1;32m    181\u001b[0m         \u001b[0;34m\"\"\"Schedule a func to be run\"\"\"\u001b[0m\u001b[0;34m\u001b[0m\u001b[0;34m\u001b[0m\u001b[0m\n\u001b[0;32m--> 182\u001b[0;31m         \u001b[0mresult\u001b[0m \u001b[0;34m=\u001b[0m \u001b[0mImmediateResult\u001b[0m\u001b[0;34m(\u001b[0m\u001b[0mfunc\u001b[0m\u001b[0;34m)\u001b[0m\u001b[0;34m\u001b[0m\u001b[0;34m\u001b[0m\u001b[0m\n\u001b[0m\u001b[1;32m    183\u001b[0m         \u001b[0;32mif\u001b[0m \u001b[0mcallback\u001b[0m\u001b[0;34m:\u001b[0m\u001b[0;34m\u001b[0m\u001b[0;34m\u001b[0m\u001b[0m\n\u001b[1;32m    184\u001b[0m             \u001b[0mcallback\u001b[0m\u001b[0;34m(\u001b[0m\u001b[0mresult\u001b[0m\u001b[0;34m)\u001b[0m\u001b[0;34m\u001b[0m\u001b[0;34m\u001b[0m\u001b[0m\n",
      "\u001b[0;32m~/anaconda3/envs/thesis/lib/python3.6/site-packages/joblib/_parallel_backends.py\u001b[0m in \u001b[0;36m__init__\u001b[0;34m(self, batch)\u001b[0m\n\u001b[1;32m    547\u001b[0m         \u001b[0;31m# Don't delay the application, to avoid keeping the input\u001b[0m\u001b[0;34m\u001b[0m\u001b[0;34m\u001b[0m\u001b[0;34m\u001b[0m\u001b[0m\n\u001b[1;32m    548\u001b[0m         \u001b[0;31m# arguments in memory\u001b[0m\u001b[0;34m\u001b[0m\u001b[0;34m\u001b[0m\u001b[0;34m\u001b[0m\u001b[0m\n\u001b[0;32m--> 549\u001b[0;31m         \u001b[0mself\u001b[0m\u001b[0;34m.\u001b[0m\u001b[0mresults\u001b[0m \u001b[0;34m=\u001b[0m \u001b[0mbatch\u001b[0m\u001b[0;34m(\u001b[0m\u001b[0;34m)\u001b[0m\u001b[0;34m\u001b[0m\u001b[0;34m\u001b[0m\u001b[0m\n\u001b[0m\u001b[1;32m    550\u001b[0m \u001b[0;34m\u001b[0m\u001b[0m\n\u001b[1;32m    551\u001b[0m     \u001b[0;32mdef\u001b[0m \u001b[0mget\u001b[0m\u001b[0;34m(\u001b[0m\u001b[0mself\u001b[0m\u001b[0;34m)\u001b[0m\u001b[0;34m:\u001b[0m\u001b[0;34m\u001b[0m\u001b[0;34m\u001b[0m\u001b[0m\n",
      "\u001b[0;32m~/anaconda3/envs/thesis/lib/python3.6/site-packages/joblib/parallel.py\u001b[0m in \u001b[0;36m__call__\u001b[0;34m(self)\u001b[0m\n\u001b[1;32m    223\u001b[0m         \u001b[0;32mwith\u001b[0m \u001b[0mparallel_backend\u001b[0m\u001b[0;34m(\u001b[0m\u001b[0mself\u001b[0m\u001b[0;34m.\u001b[0m\u001b[0m_backend\u001b[0m\u001b[0;34m,\u001b[0m \u001b[0mn_jobs\u001b[0m\u001b[0;34m=\u001b[0m\u001b[0mself\u001b[0m\u001b[0;34m.\u001b[0m\u001b[0m_n_jobs\u001b[0m\u001b[0;34m)\u001b[0m\u001b[0;34m:\u001b[0m\u001b[0;34m\u001b[0m\u001b[0;34m\u001b[0m\u001b[0m\n\u001b[1;32m    224\u001b[0m             return [func(*args, **kwargs)\n\u001b[0;32m--> 225\u001b[0;31m                     for func, args, kwargs in self.items]\n\u001b[0m\u001b[1;32m    226\u001b[0m \u001b[0;34m\u001b[0m\u001b[0m\n\u001b[1;32m    227\u001b[0m     \u001b[0;32mdef\u001b[0m \u001b[0m__len__\u001b[0m\u001b[0;34m(\u001b[0m\u001b[0mself\u001b[0m\u001b[0;34m)\u001b[0m\u001b[0;34m:\u001b[0m\u001b[0;34m\u001b[0m\u001b[0;34m\u001b[0m\u001b[0m\n",
      "\u001b[0;32m~/anaconda3/envs/thesis/lib/python3.6/site-packages/joblib/parallel.py\u001b[0m in \u001b[0;36m<listcomp>\u001b[0;34m(.0)\u001b[0m\n\u001b[1;32m    223\u001b[0m         \u001b[0;32mwith\u001b[0m \u001b[0mparallel_backend\u001b[0m\u001b[0;34m(\u001b[0m\u001b[0mself\u001b[0m\u001b[0;34m.\u001b[0m\u001b[0m_backend\u001b[0m\u001b[0;34m,\u001b[0m \u001b[0mn_jobs\u001b[0m\u001b[0;34m=\u001b[0m\u001b[0mself\u001b[0m\u001b[0;34m.\u001b[0m\u001b[0m_n_jobs\u001b[0m\u001b[0;34m)\u001b[0m\u001b[0;34m:\u001b[0m\u001b[0;34m\u001b[0m\u001b[0;34m\u001b[0m\u001b[0m\n\u001b[1;32m    224\u001b[0m             return [func(*args, **kwargs)\n\u001b[0;32m--> 225\u001b[0;31m                     for func, args, kwargs in self.items]\n\u001b[0m\u001b[1;32m    226\u001b[0m \u001b[0;34m\u001b[0m\u001b[0m\n\u001b[1;32m    227\u001b[0m     \u001b[0;32mdef\u001b[0m \u001b[0m__len__\u001b[0m\u001b[0;34m(\u001b[0m\u001b[0mself\u001b[0m\u001b[0;34m)\u001b[0m\u001b[0;34m:\u001b[0m\u001b[0;34m\u001b[0m\u001b[0;34m\u001b[0m\u001b[0m\n",
      "\u001b[0;32m~/anaconda3/envs/thesis/lib/python3.6/site-packages/sklearn/model_selection/_validation.py\u001b[0m in \u001b[0;36m_fit_and_score\u001b[0;34m(estimator, X, y, scorer, train, test, verbose, parameters, fit_params, return_train_score, return_parameters, return_n_test_samples, return_times, return_estimator, error_score)\u001b[0m\n\u001b[1;32m    512\u001b[0m             \u001b[0mestimator\u001b[0m\u001b[0;34m.\u001b[0m\u001b[0mfit\u001b[0m\u001b[0;34m(\u001b[0m\u001b[0mX_train\u001b[0m\u001b[0;34m,\u001b[0m \u001b[0;34m**\u001b[0m\u001b[0mfit_params\u001b[0m\u001b[0;34m)\u001b[0m\u001b[0;34m\u001b[0m\u001b[0;34m\u001b[0m\u001b[0m\n\u001b[1;32m    513\u001b[0m         \u001b[0;32melse\u001b[0m\u001b[0;34m:\u001b[0m\u001b[0;34m\u001b[0m\u001b[0;34m\u001b[0m\u001b[0m\n\u001b[0;32m--> 514\u001b[0;31m             \u001b[0mestimator\u001b[0m\u001b[0;34m.\u001b[0m\u001b[0mfit\u001b[0m\u001b[0;34m(\u001b[0m\u001b[0mX_train\u001b[0m\u001b[0;34m,\u001b[0m \u001b[0my_train\u001b[0m\u001b[0;34m,\u001b[0m \u001b[0;34m**\u001b[0m\u001b[0mfit_params\u001b[0m\u001b[0;34m)\u001b[0m\u001b[0;34m\u001b[0m\u001b[0;34m\u001b[0m\u001b[0m\n\u001b[0m\u001b[1;32m    515\u001b[0m \u001b[0;34m\u001b[0m\u001b[0m\n\u001b[1;32m    516\u001b[0m     \u001b[0;32mexcept\u001b[0m \u001b[0mException\u001b[0m \u001b[0;32mas\u001b[0m \u001b[0me\u001b[0m\u001b[0;34m:\u001b[0m\u001b[0;34m\u001b[0m\u001b[0;34m\u001b[0m\u001b[0m\n",
      "\u001b[0;32m~/anaconda3/envs/thesis/lib/python3.6/site-packages/sklearn/svm/base.py\u001b[0m in \u001b[0;36mfit\u001b[0;34m(self, X, y, sample_weight)\u001b[0m\n\u001b[1;32m    207\u001b[0m \u001b[0;34m\u001b[0m\u001b[0m\n\u001b[1;32m    208\u001b[0m         \u001b[0mseed\u001b[0m \u001b[0;34m=\u001b[0m \u001b[0mrnd\u001b[0m\u001b[0;34m.\u001b[0m\u001b[0mrandint\u001b[0m\u001b[0;34m(\u001b[0m\u001b[0mnp\u001b[0m\u001b[0;34m.\u001b[0m\u001b[0miinfo\u001b[0m\u001b[0;34m(\u001b[0m\u001b[0;34m'i'\u001b[0m\u001b[0;34m)\u001b[0m\u001b[0;34m.\u001b[0m\u001b[0mmax\u001b[0m\u001b[0;34m)\u001b[0m\u001b[0;34m\u001b[0m\u001b[0;34m\u001b[0m\u001b[0m\n\u001b[0;32m--> 209\u001b[0;31m         \u001b[0mfit\u001b[0m\u001b[0;34m(\u001b[0m\u001b[0mX\u001b[0m\u001b[0;34m,\u001b[0m \u001b[0my\u001b[0m\u001b[0;34m,\u001b[0m \u001b[0msample_weight\u001b[0m\u001b[0;34m,\u001b[0m \u001b[0msolver_type\u001b[0m\u001b[0;34m,\u001b[0m \u001b[0mkernel\u001b[0m\u001b[0;34m,\u001b[0m \u001b[0mrandom_seed\u001b[0m\u001b[0;34m=\u001b[0m\u001b[0mseed\u001b[0m\u001b[0;34m)\u001b[0m\u001b[0;34m\u001b[0m\u001b[0;34m\u001b[0m\u001b[0m\n\u001b[0m\u001b[1;32m    210\u001b[0m         \u001b[0;31m# see comment on the other call to np.iinfo in this file\u001b[0m\u001b[0;34m\u001b[0m\u001b[0;34m\u001b[0m\u001b[0;34m\u001b[0m\u001b[0m\n\u001b[1;32m    211\u001b[0m \u001b[0;34m\u001b[0m\u001b[0m\n",
      "\u001b[0;32m~/anaconda3/envs/thesis/lib/python3.6/site-packages/sklearn/svm/base.py\u001b[0m in \u001b[0;36m_dense_fit\u001b[0;34m(self, X, y, sample_weight, solver_type, kernel, random_seed)\u001b[0m\n\u001b[1;32m    266\u001b[0m                 \u001b[0mcache_size\u001b[0m\u001b[0;34m=\u001b[0m\u001b[0mself\u001b[0m\u001b[0;34m.\u001b[0m\u001b[0mcache_size\u001b[0m\u001b[0;34m,\u001b[0m \u001b[0mcoef0\u001b[0m\u001b[0;34m=\u001b[0m\u001b[0mself\u001b[0m\u001b[0;34m.\u001b[0m\u001b[0mcoef0\u001b[0m\u001b[0;34m,\u001b[0m\u001b[0;34m\u001b[0m\u001b[0;34m\u001b[0m\u001b[0m\n\u001b[1;32m    267\u001b[0m                 \u001b[0mgamma\u001b[0m\u001b[0;34m=\u001b[0m\u001b[0mself\u001b[0m\u001b[0;34m.\u001b[0m\u001b[0m_gamma\u001b[0m\u001b[0;34m,\u001b[0m \u001b[0mepsilon\u001b[0m\u001b[0;34m=\u001b[0m\u001b[0mself\u001b[0m\u001b[0;34m.\u001b[0m\u001b[0mepsilon\u001b[0m\u001b[0;34m,\u001b[0m\u001b[0;34m\u001b[0m\u001b[0;34m\u001b[0m\u001b[0m\n\u001b[0;32m--> 268\u001b[0;31m                 max_iter=self.max_iter, random_seed=random_seed)\n\u001b[0m\u001b[1;32m    269\u001b[0m \u001b[0;34m\u001b[0m\u001b[0m\n\u001b[1;32m    270\u001b[0m         \u001b[0mself\u001b[0m\u001b[0;34m.\u001b[0m\u001b[0m_warn_from_fit_status\u001b[0m\u001b[0;34m(\u001b[0m\u001b[0;34m)\u001b[0m\u001b[0;34m\u001b[0m\u001b[0;34m\u001b[0m\u001b[0m\n",
      "\u001b[0;31mKeyboardInterrupt\u001b[0m: "
     ]
    }
   ],
   "source": [
    "from itertools import combinations\n",
    "from sklearn import svm, datasets, metrics\n",
    "from sklearn.feature_selection import (SelectFromModel, RFE, RFECV, SelectKBest, mutual_info_classif, chi2)\n",
    "from sklearn.linear_model import LogisticRegression\n",
    "from sklearn.model_selection import train_test_split, cross_validate, GridSearchCV\n",
    "from sklearn.neighbors import KNeighborsClassifier\n",
    "from genetic_selection import GeneticSelectionCV\n",
    "from sklearn.neural_network import MLPClassifier\n",
    "from sklearn.naive_bayes import GaussianNB\n",
    "\n",
    "estimators = {\n",
    "    svm.SVC(kernel='linear', class_weight='balanced'): {\n",
    "        'C': [0.02, 0.5, 1.0, 1.5, 2, 3, 4, 5, 10, 50],\n",
    "        'kernel': ('linear', 'poly', 'rbf'),\n",
    "        'gamma': ('auto', 'scale'),\n",
    "        # 'decision_function_shape' : ('ovo', 'ovr'),\n",
    "    },\n",
    "    LogisticRegression(class_weight='balanced'): {\n",
    "        'C': [0.02, 0.5, 1.0, 2, 3, 4, 5, 10, 20, 50],\n",
    "        'penalty': ['l2', 'l1'],\n",
    "    },\n",
    "}\n",
    "\n",
    "def get_selectors(estimator):\n",
    "    return {\n",
    "        'RFECV': RFECV(estimator, 5), \n",
    "        'SelectFromModel': SelectFromModel(estimator), \n",
    "        # 'SelectKBest': SelectKBest(chi2, 3),\n",
    "        'Genetic': GeneticSelectionCV(estimator,\n",
    "                                      cv=5,\n",
    "                                      verbose=0,\n",
    "                                      scoring=scorer,\n",
    "                                      n_population=80,\n",
    "                                      crossover_proba=0.8,\n",
    "                                      mutation_proba=0.2,\n",
    "                                      n_generations=80,\n",
    "                                      crossover_independent_proba=0.5,\n",
    "                                      mutation_independent_proba=0.05,\n",
    "                                      tournament_size=5,\n",
    "                                      caching=True,\n",
    "                                      n_jobs=1\n",
    "                                     ),\n",
    "    }\n",
    "\n",
    "scorer = scorer_factory(metrics.roc_auc_score, average='weighted')\n",
    "features = ('corr', 'lyap', 'sampen', 'dfa', 'hurst', 'higu')\n",
    "comb_size = 1\n",
    "grid_search_cv = 5\n",
    "\n",
    "for estimator, params in estimators.items():\n",
    "    for cols in combinations(features, comb_size):\n",
    "        for selector_name, selector in get_selectors(estimator).items():\n",
    "            print(cols)\n",
    "            print(selector_name)\n",
    "            gs = GridSearchCV(estimator, params, iid=False, scoring=scorer, cv=grid_search_cv)\n",
    "            predict('dep_bef', 'a', cols, estimator, metapkl, gs=gs, show_selected=True, selector=selector)\n",
    "            print(gs.best_params_)\n",
    "            print('\\n\\n')"
   ]
  },
  {
   "cell_type": "markdown",
   "metadata": {},
   "source": [
    "# CROSS-VALIDATED"
   ]
  },
  {
   "cell_type": "code",
   "execution_count": 10,
   "metadata": {},
   "outputs": [
    {
     "name": "stdout",
     "output_type": "stream",
     "text": [
      "('dep', None, None, SVC(C=1, cache_size=200, class_weight='balanced', coef0=0.0,\n",
      "    decision_function_shape='ovr', degree=3, gamma='auto_deprecated',\n",
      "    kernel='linear', max_iter=-1, probability=False, random_state=None,\n",
      "    shrinking=True, tol=0.001, verbose=False)) {'channels': [('F3', 'lyap'), ('F7', 'lyap'), ('T6', 'lyap'), ('O1', 'corr'), ('O2', 'corr'), ('T5', 'corr')]}\n",
      "Class distribution:  {-1: 84, 1: 78}\n",
      "Accuracy: 0.55 (+/- 0.09)\n",
      "Precision: 0.55 (+/- 0.10)\n",
      "Recall: 0.55 (+/- 0.09)\n",
      "F1: 0.54 (+/- 0.09)\n",
      "0.55 $\\pm$ 0.09 & 0.55 $\\pm$ 0.10 & 0.55 $\\pm$ 0.09 & 0.54 $\\pm$ 0.09 &  \\\\ \\hline\n"
     ]
    }
   ],
   "source": [
    "estimators = [\n",
    "    # LogisticRegression(class_weight='balanced'),\n",
    "    svm.SVC(C=1, class_weight='balanced', kernel='linear'),\n",
    "]\n",
    "# 74\n",
    "channels = [('C4', 'lyap'), ('T3', 'lyap'), ('T6', 'lyap'), ('Pz', 'lyap'), ('C3', 'dfa'), ('P4', 'dfa')]\n",
    "channels = [('F3', 'lyap'), ('F7', 'lyap'), ('T6', 'lyap'), ('O1', 'corr'), ('O2', 'corr'), ('T5', 'corr')]\n",
    "# 73\n",
    "# channels = [('P3', 'lyap'), ('T3', 'lyap'), ('T6', 'lyap'), ('Pz', 'lyap'), ('C3', 'hurst'), ('T3', 'hurst')] # C=50\n",
    "# channels = [('T6', 'lyap'), ('Fz', 'lyap'), ('O2', 'sampen'), ('T6', 'sampen'), ('P4', 'dfa')]\n",
    "# channels = [('F3', 'corr'), ('Fz', 'corr'), ('P3', 'higu'), ('Cz', 'higu')]\n",
    "\n",
    "for estimator in estimators:\n",
    "    est = predict('dep', None, None, estimator, channels=channels)"
   ]
  },
  {
   "cell_type": "code",
   "execution_count": 6,
   "metadata": {},
   "outputs": [
    {
     "name": "stdout",
     "output_type": "stream",
     "text": [
      "Class distribution:  {-1: 49, 1: 48}\n",
      "Accuracy: 0.72 (+/- 0.04)\n",
      "Precision: 0.73 (+/- 0.04)\n",
      "Recall: 0.72 (+/- 0.04)\n",
      "F1: 0.72 (+/- 0.04)\n",
      "0.72 $\\pm$ 0.04 & 0.73 $\\pm$ 0.04 & 0.72 $\\pm$ 0.04 & 0.72 $\\pm$ 0.04 &  \\\\ \\hline\n"
     ]
    },
    {
     "name": "stderr",
     "output_type": "stream",
     "text": [
      "/home/kovar/miniconda3/envs/thesis/lib/python3.6/site-packages/pandas/core/reshape/merge.py:544: UserWarning: merging between different levels can give an unintended result (2 levels on the left, 1 on the right)\n",
      "  warnings.warn(msg, UserWarning)\n"
     ]
    }
   ],
   "source": [
    "estimators = [\n",
    "    # LogisticRegression(class_weight='balanced'),\n",
    "    svm.SVC(C=0.5, class_weight='balanced', kernel='linear'),\n",
    "]\n",
    "# 72\n",
    "channels = [('T3', 'lyap'), ('T5', 'lyap'), ('T6', 'lyap'), ('Pz', 'lyap')]\n",
    "\n",
    "for estimator in estimators:\n",
    "    est = predict('dep', None, None, estimator, channels=channels)"
   ]
  },
  {
   "cell_type": "code",
   "execution_count": 32,
   "metadata": {},
   "outputs": [
    {
     "name": "stdout",
     "output_type": "stream",
     "text": [
      "Class distribution:  {-1: 49, 1: 48}\n",
      "Accuracy: 0.71 (+/- 0.05)\n",
      "Precision: 0.72 (+/- 0.05)\n",
      "Recall: 0.71 (+/- 0.05)\n",
      "F1: 0.71 (+/- 0.05)\n"
     ]
    },
    {
     "name": "stderr",
     "output_type": "stream",
     "text": [
      "/home/kovar/miniconda3/envs/thesis/lib/python3.6/site-packages/pandas/core/reshape/merge.py:544: UserWarning: merging between different levels can give an unintended result (2 levels on the left, 1 on the right)\n",
      "  warnings.warn(msg, UserWarning)\n"
     ]
    }
   ],
   "source": [
    "estimators = [\n",
    "    # LogisticRegression(class_weight='balanced'),\n",
    "    svm.SVC(C=1, class_weight='balanced', kernel='linear'),\n",
    "]\n",
    "# 71\n",
    "channels = [('F3', 'corr'), ('C4', 'corr'), ('P3', 'corr'), \n",
    "            ('F8', 'corr'), ('T5', 'corr'), ('T6', 'corr'), ('Fz', 'corr'), ('Cz', 'corr')]\n",
    "\n",
    "for estimator in estimators:\n",
    "    est = predict('dep', None, None, estimator, show_selected=True, channels=channels)"
   ]
  },
  {
   "cell_type": "code",
   "execution_count": 32,
   "metadata": {},
   "outputs": [
    {
     "name": "stdout",
     "output_type": "stream",
     "text": [
      "Class distribution:  {-1: 49, 1: 48}\n",
      "Accuracy: 0.67 (+/- 0.16)\n",
      "Precision: 0.68 (+/- 0.17)\n",
      "Recall: 0.67 (+/- 0.16)\n",
      "F1: 0.67 (+/- 0.16)\n",
      "0.67 $\\pm$ 0.16 & 0.68 $\\pm$ 0.17 & 0.67 $\\pm$ 0.16 & 0.67 $\\pm$ 0.16 &  \\\\ \\hline\n"
     ]
    },
    {
     "name": "stderr",
     "output_type": "stream",
     "text": [
      "/home/kovar/miniconda3/envs/thesis/lib/python3.6/site-packages/pandas/core/reshape/merge.py:544: UserWarning: merging between different levels can give an unintended result (2 levels on the left, 1 on the right)\n",
      "  warnings.warn(msg, UserWarning)\n"
     ]
    }
   ],
   "source": [
    "estimators = [\n",
    "    LogisticRegression(C=2, penalty='l2', class_weight='balanced'),\n",
    "    # svm.SVC(C=1, class_weight='balanced', kernel='linear'),\n",
    "]\n",
    "\n",
    "# 67\n",
    "channels = [('F8', 'dfa'), ('O2', 'dfa'),]\n",
    "\n",
    "for estimator in estimators:\n",
    "    est = predict('dep', None, None, estimator, channels=channels)"
   ]
  },
  {
   "cell_type": "code",
   "execution_count": 31,
   "metadata": {},
   "outputs": [
    {
     "name": "stdout",
     "output_type": "stream",
     "text": [
      "Class distribution:  {-1: 49, 1: 48}\n",
      "Accuracy: 0.67 (+/- 0.11)\n",
      "Precision: 0.67 (+/- 0.12)\n",
      "Recall: 0.67 (+/- 0.11)\n",
      "F1: 0.67 (+/- 0.11)\n",
      "0.67 $\\pm$ 0.11 & 0.67 $\\pm$ 0.12 & 0.67 $\\pm$ 0.11 & 0.67 $\\pm$ 0.11 &  \\\\ \\hline\n"
     ]
    },
    {
     "name": "stderr",
     "output_type": "stream",
     "text": [
      "/home/kovar/miniconda3/envs/thesis/lib/python3.6/site-packages/pandas/core/reshape/merge.py:544: UserWarning: merging between different levels can give an unintended result (2 levels on the left, 1 on the right)\n",
      "  warnings.warn(msg, UserWarning)\n"
     ]
    }
   ],
   "source": [
    "estimators = [\n",
    "    # LogisticRegression(C=2, penalty='l2', class_weight='balanced'),\n",
    "    svm.SVC(C=3, class_weight='balanced', kernel='rbf'),\n",
    "]\n",
    "\n",
    "# 67\n",
    "channels = [('C3', 'higu'), ('C4', 'higu'), ('P4', 'higu'), ('T6', 'higu'), ('Cz', 'higu')]\n",
    "\n",
    "for estimator in estimators:\n",
    "    est = predict('dep', None, None, estimator, channels=channels)"
   ]
  },
  {
   "cell_type": "code",
   "execution_count": 30,
   "metadata": {},
   "outputs": [
    {
     "name": "stdout",
     "output_type": "stream",
     "text": [
      "Class distribution:  {-1: 49, 1: 48}\n",
      "Accuracy: 0.68 (+/- 0.12)\n",
      "Precision: 0.69 (+/- 0.12)\n",
      "Recall: 0.68 (+/- 0.12)\n",
      "F1: 0.68 (+/- 0.12)\n",
      "0.68 $\\pm$ 0.12 & 0.69 $\\pm$ 0.12 & 0.68 $\\pm$ 0.12 & 0.68 $\\pm$ 0.12 &  \\\\ \\hline\n"
     ]
    },
    {
     "name": "stderr",
     "output_type": "stream",
     "text": [
      "/home/kovar/miniconda3/envs/thesis/lib/python3.6/site-packages/pandas/core/reshape/merge.py:544: UserWarning: merging between different levels can give an unintended result (2 levels on the left, 1 on the right)\n",
      "  warnings.warn(msg, UserWarning)\n"
     ]
    }
   ],
   "source": [
    "estimators = [\n",
    "    LogisticRegression(C=1, penalty='l2', class_weight='balanced'),\n",
    "    # svm.SVC(C=1, class_weight='balanced', kernel='linear'),\n",
    "]\n",
    "\n",
    "# 68\n",
    "channels = [('C4', 'sampen'), ('O2', 'sampen'), ('T6', 'sampen'),]\n",
    "\n",
    "for estimator in estimators:\n",
    "    est = predict('dep', None, None, estimator, channels=channels)"
   ]
  },
  {
   "cell_type": "code",
   "execution_count": 33,
   "metadata": {},
   "outputs": [
    {
     "name": "stdout",
     "output_type": "stream",
     "text": [
      "Class distribution:  {-1: 49, 1: 48}\n",
      "Accuracy: 0.67 (+/- 0.17)\n",
      "Precision: 0.68 (+/- 0.18)\n",
      "Recall: 0.67 (+/- 0.17)\n",
      "F1: 0.67 (+/- 0.17)\n",
      "0.67 $\\pm$ 0.17 & 0.68 $\\pm$ 0.18 & 0.67 $\\pm$ 0.17 & 0.67 $\\pm$ 0.17 &  \\\\ \\hline\n"
     ]
    },
    {
     "name": "stderr",
     "output_type": "stream",
     "text": [
      "/home/kovar/miniconda3/envs/thesis/lib/python3.6/site-packages/pandas/core/reshape/merge.py:544: UserWarning: merging between different levels can give an unintended result (2 levels on the left, 1 on the right)\n",
      "  warnings.warn(msg, UserWarning)\n"
     ]
    }
   ],
   "source": [
    "estimators = [\n",
    "    LogisticRegression(C=4, penalty='l2', class_weight='balanced'),\n",
    "    # svm.SVC(C=1, class_weight='balanced', kernel='linear'),\n",
    "]\n",
    "\n",
    "# 67\n",
    "channels = [('O2', 'hurst'), ('T4', 'hurst'),]\n",
    "\n",
    "for estimator in estimators:\n",
    "    est = predict('dep', None, None, estimator, channels=channels)"
   ]
  },
  {
   "cell_type": "code",
   "execution_count": 29,
   "metadata": {},
   "outputs": [
    {
     "name": "stderr",
     "output_type": "stream",
     "text": [
      "/home/kovar/miniconda3/envs/thesis/lib/python3.6/site-packages/pandas/core/reshape/merge.py:544: UserWarning: merging between different levels can give an unintended result (2 levels on the left, 1 on the right)\n",
      "  warnings.warn(msg, UserWarning)\n"
     ]
    },
    {
     "name": "stdout",
     "output_type": "stream",
     "text": [
      "[('F3', 'corr'), ('C4', 'corr'), ('P3', 'corr'), ('F8', 'corr'), ('T5', 'corr'), ('T6', 'corr'), ('Fz', 'corr'), ('Cz', 'corr')]\n",
      "Class distribution:  {-1: 49, 1: 48}\n",
      "Accuracy: 0.71 (+/- 0.05)\n",
      "Precision: 0.72 (+/- 0.05)\n",
      "Recall: 0.71 (+/- 0.05)\n",
      "F1: 0.71 (+/- 0.05)\n",
      "0.71 $\\pm$ 0.05 & 0.72 $\\pm$ 0.05 & 0.71 $\\pm$ 0.05 & 0.71 $\\pm$ 0.05 &  \\\\ \\hline\n",
      "{'C': 1.0, 'kernel': 'linear'}\n"
     ]
    },
    {
     "name": "stderr",
     "output_type": "stream",
     "text": [
      "/home/kovar/miniconda3/envs/thesis/lib/python3.6/site-packages/pandas/core/reshape/merge.py:544: UserWarning: merging between different levels can give an unintended result (2 levels on the left, 1 on the right)\n",
      "  warnings.warn(msg, UserWarning)\n"
     ]
    },
    {
     "name": "stdout",
     "output_type": "stream",
     "text": [
      "[('F3', 'corr'), ('C4', 'corr'), ('F8', 'corr'), ('T5', 'corr'), ('Fz', 'corr'), ('Cz', 'corr')]\n",
      "Class distribution:  {-1: 49, 1: 48}\n",
      "Accuracy: 0.69 (+/- 0.07)\n",
      "Precision: 0.70 (+/- 0.08)\n",
      "Recall: 0.69 (+/- 0.07)\n",
      "F1: 0.69 (+/- 0.07)\n",
      "0.69 $\\pm$ 0.07 & 0.70 $\\pm$ 0.08 & 0.69 $\\pm$ 0.07 & 0.69 $\\pm$ 0.07 &  \\\\ \\hline\n",
      "{'C': 3, 'penalty': 'l2'}\n"
     ]
    }
   ],
   "source": [
    "channels = [('T3', 'lyap'), ('F4', 'lyap'), ('T6', 'lyap'), ('P3', 'lyap'), ('O2', 'lyap'), ('Pz', 'lyap')]\n",
    "channels = [('F3', 'higu'), ('C3', 'higu'), ('C3', 'higu'), ('C4', 'higu'), ('P4', 'higu'), ('T6', 'higu'), ('Cz', 'higu'),]\n",
    "channels = [('C4', 'sampen'), ('O2', 'sampen'), ('T6', 'sampen'),]\n",
    "channels = [('F8', 'hurst'), ('O2', 'hurst'), ('T6', 'hurst'), ('T4', 'hurst'),]\n",
    "\n",
    "channels = [('P3', 'lyap'), ('T3', 'lyap'), ('T6', 'lyap'), ('Pz', 'lyap'), ('C3', 'hurst'), ('T3', 'hurst')]\n",
    "channels = [('T6', 'lyap'), ('Fz', 'lyap'), ('O2', 'sampen'), ('T6', 'sampen'), ('P4', 'dfa')]\n",
    "channels = [('F3', 'corr'), ('Fz', 'corr'), ('P3', 'higu'), ('Cz', 'higu')]\n",
    "channels = [('F3', 'corr'), ('C4', 'corr'), ('P3', 'corr'), \n",
    "            ('F8', 'corr'), ('T5', 'corr'), ('T6', 'corr'), ('Fz', 'corr'), ('Cz', 'corr')]\n",
    "\n",
    "estimators = {\n",
    "    svm.SVC(kernel='linear', class_weight='balanced'): {\n",
    "        'C': [0.02, 0.5, 1.0, 1.5, 2, 3, 4, 5, 10, 50],\n",
    "        'kernel': ('linear', 'poly', 'rbf'),\n",
    "        # 'decision_function_shape' : ('ovo', 'ovr'),\n",
    "    },\n",
    "    LogisticRegression(class_weight='balanced'): {\n",
    "        'C': [0.02, 0.5, 1.0, 2, 3, 4, 5, 10, 20, 50],\n",
    "        'penalty': ['l2', 'l1'],\n",
    "    },\n",
    "}\n",
    "\n",
    "for estimator, params in estimators.items():\n",
    "    gs = grid_search.GridSearchCV(estimator, params, iid=False, scoring=scorer, cv=5)\n",
    "    selector = GeneticSelectionCV(estimator,\n",
    "                                      cv=5,\n",
    "                                      verbose=0,\n",
    "                                      scoring=scorer,\n",
    "                                      n_population=80,\n",
    "                                      crossover_proba=0.8,\n",
    "                                      mutation_proba=0.2,\n",
    "                                      n_generations=80,\n",
    "                                      crossover_independent_proba=0.5,\n",
    "                                      mutation_independent_proba=0.05,\n",
    "                                      tournament_size=5,\n",
    "                                      caching=True,\n",
    "                                      n_jobs=-1)\n",
    "    est = predict('dep', None, None, estimator, show_selected=True, channels=channels, gs=gs, selector=selector)\n",
    "    print(gs.best_params_)"
   ]
  },
  {
   "cell_type": "markdown",
   "metadata": {},
   "source": [
    "# Healthy below 10, depressed above 30 (26 / 30)"
   ]
  },
  {
   "cell_type": "markdown",
   "metadata": {},
   "source": [
    "## Hurst exponent"
   ]
  },
  {
   "cell_type": "code",
   "execution_count": 69,
   "metadata": {
    "collapsed": true
   },
   "outputs": [
    {
     "name": "stdout",
     "output_type": "stream",
     "text": [
      "Training distribution:  {-1: 20, 1: 19}\n",
      "Testing distribution:  {-1: 6, 1: 11}\n",
      "Accuracy score: 0.53\n",
      "Confusion matrix:\n",
      " [[5 1]\n",
      " [7 4]]\n",
      "Precision score:  0.6647058823529413\n",
      "Recall score:  0.5294117647058824\n",
      "f1 score:  0.5196078431372549\n",
      "ROC AUC score:  0.5984848484848485\n",
      "Accuracy: 0.65 (+/- 0.28)\n"
     ]
    },
    {
     "data": {
      "text/plain": [
       "LogisticRegression(C=3.5, class_weight='balanced', dual=False,\n",
       "          fit_intercept=True, intercept_scaling=1, max_iter=100,\n",
       "          multi_class='ovr', n_jobs=1, penalty='l2', random_state=None,\n",
       "          solver='liblinear', tol=0.0001, verbose=0, warm_start=False)"
      ]
     },
     "execution_count": 69,
     "metadata": {},
     "output_type": "execute_result"
    }
   ],
   "source": [
    "estimator = LogisticRegression(C=3.5, penalty='l2', class_weight='balanced')\n",
    "predict('dep', None, ('hurst',), estimator, channels=('O1', 'T4'))"
   ]
  },
  {
   "cell_type": "markdown",
   "metadata": {},
   "source": [
    "## DFA"
   ]
  },
  {
   "cell_type": "code",
   "execution_count": 70,
   "metadata": {
    "collapsed": true
   },
   "outputs": [
    {
     "name": "stdout",
     "output_type": "stream",
     "text": [
      "Training distribution:  {-1: 20, 1: 19}\n",
      "Testing distribution:  {-1: 6, 1: 11}\n",
      "Accuracy score: 0.53\n",
      "Confusion matrix:\n",
      " [[5 1]\n",
      " [7 4]]\n",
      "Precision score:  0.6647058823529413\n",
      "Recall score:  0.5294117647058824\n",
      "f1 score:  0.5196078431372549\n",
      "ROC AUC score:  0.5984848484848485\n",
      "Accuracy: 0.72 (+/- 0.34)\n"
     ]
    },
    {
     "data": {
      "text/plain": [
       "LogisticRegression(C=3.5, class_weight='balanced', dual=False,\n",
       "          fit_intercept=True, intercept_scaling=1, max_iter=100,\n",
       "          multi_class='ovr', n_jobs=1, penalty='l2', random_state=None,\n",
       "          solver='liblinear', tol=0.0001, verbose=0, warm_start=False)"
      ]
     },
     "execution_count": 70,
     "metadata": {},
     "output_type": "execute_result"
    }
   ],
   "source": [
    "estimator = LogisticRegression(C=3.5, penalty='l2', class_weight='balanced')\n",
    "# predict('dep', None, ('dfa',), estimator, channels=('O1', 'T4')) # DFA_4_300_11\n",
    "# predict('dep', None, ('dfa',), estimator, channels=('F3', 'C3', 'C4', 'O1', 'T4', 'Pz')) # DFA_4_300_11_offset\n",
    "predict('dep', None, ('dfa',), estimator, channels=('C3', 'C4', 'O1', 'T4')) # DFA_4_300_11_offset"
   ]
  },
  {
   "cell_type": "markdown",
   "metadata": {},
   "source": [
    "## Correlation dimension"
   ]
  },
  {
   "cell_type": "code",
   "execution_count": 71,
   "metadata": {
    "collapsed": true
   },
   "outputs": [
    {
     "name": "stdout",
     "output_type": "stream",
     "text": [
      "Training distribution:  {-1: 20, 1: 19}\n",
      "Testing distribution:  {-1: 6, 1: 11}\n",
      "Accuracy score: 0.35\n",
      "Confusion matrix:\n",
      " [[4 2]\n",
      " [9 2]]\n",
      "Precision score:  0.4321266968325792\n",
      "Recall score:  0.35294117647058826\n",
      "f1 score:  0.3211558307533539\n",
      "ROC AUC score:  0.4242424242424243\n",
      "Accuracy: 0.62 (+/- 0.22)\n"
     ]
    },
    {
     "data": {
      "text/plain": [
       "SVC(C=0.02, cache_size=200, class_weight='balanced', coef0=0.0,\n",
       "  decision_function_shape='ovo', degree=3, gamma='auto', kernel='poly',\n",
       "  max_iter=-1, probability=False, random_state=None, shrinking=True,\n",
       "  tol=0.001, verbose=False)"
      ]
     },
     "execution_count": 71,
     "metadata": {},
     "output_type": "execute_result"
    }
   ],
   "source": [
    "estimator = svm.SVC(C=0.02, kernel='poly', decision_function_shape='ovo', class_weight='balanced', shrinking=True)\n",
    "predict('dep', None, ('corr',), estimator, channels=('F3', 'F4', 'P3', 'O1', 'T4', 'T5', 'Cz', 'Pz'))"
   ]
  },
  {
   "cell_type": "markdown",
   "metadata": {},
   "source": [
    "## Lyapunov exponent\n",
    "I was unable to create a classifier with better than 65% acc., although the depression scores and LLE are clearly correlated."
   ]
  },
  {
   "cell_type": "code",
   "execution_count": 72,
   "metadata": {
    "collapsed": true
   },
   "outputs": [
    {
     "name": "stdout",
     "output_type": "stream",
     "text": [
      "Training distribution:  {-1: 20, 1: 19}\n",
      "Testing distribution:  {-1: 6, 1: 11}\n",
      "Accuracy score: 0.53\n",
      "Confusion matrix:\n",
      " [[2 4]\n",
      " [4 7]]\n",
      "Precision score:  0.5294117647058824\n",
      "Recall score:  0.5294117647058824\n",
      "f1 score:  0.5294117647058824\n",
      "ROC AUC score:  0.48484848484848486\n",
      "Accuracy: 0.64 (+/- 0.22)\n"
     ]
    },
    {
     "data": {
      "text/plain": [
       "SVC(C=50, cache_size=200, class_weight='balanced', coef0=0.0,\n",
       "  decision_function_shape='ovo', degree=3, gamma='auto', kernel='linear',\n",
       "  max_iter=-1, probability=False, random_state=None, shrinking=True,\n",
       "  tol=0.001, verbose=False)"
      ]
     },
     "execution_count": 72,
     "metadata": {},
     "output_type": "execute_result"
    }
   ],
   "source": [
    "estimator = svm.SVC(C=50, kernel='linear', decision_function_shape='ovo', class_weight='balanced')\n",
    "predict('dep', None, ('lyap',), estimator, channels=('FP1', 'FP2', 'F4', 'C3', 'O1', 'T3', 'T6'))"
   ]
  },
  {
   "cell_type": "code",
   "execution_count": 73,
   "metadata": {
    "collapsed": true
   },
   "outputs": [
    {
     "name": "stdout",
     "output_type": "stream",
     "text": [
      "Training distribution:  {-1: 20, 1: 19}\n",
      "Testing distribution:  {-1: 6, 1: 11}\n",
      "Accuracy score: 0.47\n",
      "Confusion matrix:\n",
      " [[3 3]\n",
      " [6 5]]\n",
      "Precision score:  0.5220588235294118\n",
      "Recall score:  0.47058823529411764\n",
      "f1 score:  0.48173374613003095\n",
      "ROC AUC score:  0.4772727272727273\n",
      "Accuracy: 0.66 (+/- 0.24)\n"
     ]
    },
    {
     "data": {
      "text/plain": [
       "SVC(C=1, cache_size=200, class_weight='balanced', coef0=0.0,\n",
       "  decision_function_shape='ovo', degree=3, gamma='auto', kernel='rbf',\n",
       "  max_iter=-1, probability=False, random_state=None, shrinking=True,\n",
       "  tol=0.001, verbose=False)"
      ]
     },
     "execution_count": 73,
     "metadata": {},
     "output_type": "execute_result"
    }
   ],
   "source": [
    "estimator = svm.SVC(C=1, kernel='rbf', decision_function_shape='ovo', class_weight='balanced')\n",
    "predict('dep', None, ('lyap',), estimator, channels=('T6',))"
   ]
  },
  {
   "cell_type": "markdown",
   "metadata": {},
   "source": [
    "## Sample entropy"
   ]
  },
  {
   "cell_type": "code",
   "execution_count": 74,
   "metadata": {
    "collapsed": true
   },
   "outputs": [
    {
     "name": "stdout",
     "output_type": "stream",
     "text": [
      "Training distribution:  {-1: 20, 1: 19}\n",
      "Testing distribution:  {-1: 6, 1: 11}\n",
      "Accuracy score: 0.53\n",
      "Confusion matrix:\n",
      " [[4 2]\n",
      " [6 5]]\n",
      "Precision score:  0.6033613445378152\n",
      "Recall score:  0.5294117647058824\n",
      "f1 score:  0.5359477124183006\n",
      "ROC AUC score:  0.5606060606060607\n",
      "Accuracy: 0.66 (+/- 0.16)\n"
     ]
    },
    {
     "data": {
      "text/plain": [
       "LogisticRegression(C=2, class_weight='balanced', dual=False,\n",
       "          fit_intercept=True, intercept_scaling=1, max_iter=100,\n",
       "          multi_class='ovr', n_jobs=1, penalty='l2', random_state=None,\n",
       "          solver='liblinear', tol=0.0001, verbose=0, warm_start=False)"
      ]
     },
     "execution_count": 74,
     "metadata": {},
     "output_type": "execute_result"
    }
   ],
   "source": [
    "estimator = LogisticRegression(C=2, penalty='l2', class_weight='balanced')\n",
    "predict('dep', None, ('sampen',), estimator, channels=('P3', 'P4', 'T5', 'T6'))"
   ]
  },
  {
   "cell_type": "markdown",
   "metadata": {},
   "source": [
    "## Higuchi dimension\n",
    "Bad, although, again, correlated"
   ]
  },
  {
   "cell_type": "markdown",
   "metadata": {},
   "source": [
    "# Healthy below 12, depressed above 28 (56 / 51)\n",
    "Correlation, DFA, Hurst preserve their performance to some extent. Hurst only 67%."
   ]
  },
  {
   "cell_type": "markdown",
   "metadata": {},
   "source": [
    "## Correlation dimension"
   ]
  },
  {
   "cell_type": "code",
   "execution_count": 7,
   "metadata": {
    "collapsed": true
   },
   "outputs": [
    {
     "name": "stdout",
     "output_type": "stream",
     "text": [
      "Training distribution:  {-1: 31, 1: 29}\n",
      "Testing distribution:  {-1: 8, 1: 19}\n",
      "Accuracy score: 0.70\n",
      "Confusion matrix:\n",
      " [[ 7  1]\n",
      " [ 7 12]]\n",
      "Precision score:  0.7977207977207977\n",
      "Recall score:  0.7037037037037037\n",
      "f1 score:  0.7163299663299663\n",
      "ROC AUC score:  0.7532894736842105\n",
      "Accuracy: 0.63 (+/- 0.12)\n"
     ]
    },
    {
     "data": {
      "text/plain": [
       "LogisticRegression(C=0.5, class_weight='balanced', dual=False,\n",
       "          fit_intercept=True, intercept_scaling=1, max_iter=100,\n",
       "          multi_class='ovr', n_jobs=1, penalty='l2', random_state=None,\n",
       "          solver='liblinear', tol=0.0001, verbose=0, warm_start=False)"
      ]
     },
     "execution_count": 7,
     "metadata": {},
     "output_type": "execute_result"
    }
   ],
   "source": [
    "estimator = LogisticRegression(C=0.5, penalty='l2', class_weight='balanced')\n",
    "predict('dep', None, ('corr',), estimator, channels=('F3', 'F4', 'T3', 'T5', 'Fz', 'Cz'))"
   ]
  },
  {
   "cell_type": "markdown",
   "metadata": {},
   "source": [
    "## DFA"
   ]
  },
  {
   "cell_type": "code",
   "execution_count": 8,
   "metadata": {
    "collapsed": true
   },
   "outputs": [
    {
     "name": "stdout",
     "output_type": "stream",
     "text": [
      "Training distribution:  {-1: 31, 1: 29}\n",
      "Testing distribution:  {-1: 8, 1: 19}\n",
      "Accuracy score: 0.52\n",
      "Confusion matrix:\n",
      " [[ 6  2]\n",
      " [11  8]]\n",
      "Precision score:  0.6675381263616558\n",
      "Recall score:  0.5185185185185185\n",
      "f1 score:  0.5304725415070243\n",
      "ROC AUC score:  0.5855263157894737\n",
      "Accuracy: 0.44 (+/- 0.16)\n"
     ]
    },
    {
     "data": {
      "text/plain": [
       "SVC(C=1.5, cache_size=200, class_weight='balanced', coef0=0.0,\n",
       "  decision_function_shape='ovo', degree=3, gamma='auto', kernel='rbf',\n",
       "  max_iter=-1, probability=False, random_state=None, shrinking=True,\n",
       "  tol=0.001, verbose=False)"
      ]
     },
     "execution_count": 8,
     "metadata": {},
     "output_type": "execute_result"
    }
   ],
   "source": [
    "estimator = svm.SVC(C=1.5, kernel='rbf', decision_function_shape='ovo', class_weight='balanced')\n",
    "predict('dep', None, ('dfa',), estimator, channels=('O1', 'T5', 'T6'))"
   ]
  },
  {
   "cell_type": "markdown",
   "metadata": {},
   "source": [
    "## Hurst exponent"
   ]
  },
  {
   "cell_type": "code",
   "execution_count": 9,
   "metadata": {
    "collapsed": true
   },
   "outputs": [
    {
     "name": "stdout",
     "output_type": "stream",
     "text": [
      "Training distribution:  {-1: 31, 1: 29}\n",
      "Testing distribution:  {-1: 8, 1: 19}\n",
      "Accuracy score: 0.67\n",
      "Confusion matrix:\n",
      " [[ 3  5]\n",
      " [ 4 15]]\n",
      "Precision score:  0.6547619047619047\n",
      "Recall score:  0.6666666666666666\n",
      "f1 score:  0.6598290598290597\n",
      "ROC AUC score:  0.5822368421052632\n",
      "Accuracy: 0.43 (+/- 0.39)\n"
     ]
    },
    {
     "data": {
      "text/plain": [
       "SVC(C=1.5, cache_size=200, class_weight='balanced', coef0=0.0,\n",
       "  decision_function_shape='ovo', degree=3, gamma='auto', kernel='rbf',\n",
       "  max_iter=-1, probability=False, random_state=None, shrinking=True,\n",
       "  tol=0.001, verbose=False)"
      ]
     },
     "execution_count": 9,
     "metadata": {},
     "output_type": "execute_result"
    }
   ],
   "source": [
    "estimator = svm.SVC(C=1.5, kernel='rbf', decision_function_shape='ovo', class_weight='balanced', shrinking=True)\n",
    "predict('dep', None, ('hurst',), estimator, channels=('C4', 'P4', 'T4', 'T6', 'Cz'))"
   ]
  },
  {
   "cell_type": "markdown",
   "metadata": {},
   "source": [
    "# Manual selection"
   ]
  },
  {
   "cell_type": "markdown",
   "metadata": {},
   "source": [
    "## LLE"
   ]
  },
  {
   "cell_type": "markdown",
   "metadata": {},
   "source": [
    "## Higuchi fractal dimension"
   ]
  },
  {
   "cell_type": "code",
   "execution_count": 44,
   "metadata": {},
   "outputs": [
    {
     "name": "stderr",
     "output_type": "stream",
     "text": [
      "/home/kovar/miniconda3/envs/thesis/lib/python3.6/site-packages/pandas/core/reshape/merge.py:544: UserWarning: merging between different levels can give an unintended result (2 levels on the left, 1 on the right)\n",
      "  warnings.warn(msg, UserWarning)\n"
     ]
    },
    {
     "name": "stdout",
     "output_type": "stream",
     "text": [
      "Training distribution:  {-1: 51, 1: 48}\n",
      "Testing distribution:  {-1: 22, 1: 21}\n",
      "Accuracy score: 0.56\n",
      "Confusion matrix:\n",
      " [[11 11]\n",
      " [ 8 13]]\n",
      "Precision score:  0.5607405140758874\n",
      "Recall score:  0.5581395348837209\n",
      "f1 score:  0.5567025902817168\n",
      "ROC AUC score:  0.5595238095238095\n"
     ]
    }
   ],
   "source": [
    "estimators = {\n",
    "    # svm.SVC(kernel='linear', class_weight='balanced'): {\n",
    "    #     'C': [0.02, 0.5, 1.0, 1.5, 2, 3, 4, 5, 10, 50],\n",
    "    #     'kernel': ('linear', 'poly', 'rbf'),\n",
    "    #     # 'decision_function_shape' : ('ovo', 'ovr'),\n",
    "    # },\n",
    "    LogisticRegression(class_weight='balanced'): {\n",
    "        'C': [0.02, 0.5, 1.0, 2, 3, 4, 5, 10, 20, 50],\n",
    "        'penalty': ['l2', 'l1'],\n",
    "    },\n",
    "}\n",
    "channels = ['T6']\n",
    "for estimator, params in estimators.items():\n",
    "    est = grid_search.GridSearchCV(estimator, params, iid=False, scoring=scorer, cv=4)\n",
    "    est = predict('dep', None, ('higu',), est, show_selected=True, channels=channels, seed=213, eval_cv=False)"
   ]
  },
  {
   "cell_type": "markdown",
   "metadata": {},
   "source": [
    "# # DFA"
   ]
  },
  {
   "cell_type": "code",
   "execution_count": 63,
   "metadata": {},
   "outputs": [
    {
     "name": "stdout",
     "output_type": "stream",
     "text": [
      "Seed: 14411\n",
      "Training distribution:  {-1: 36, 1: 31}\n",
      "Testing distribution:  {-1: 13, 1: 17}\n",
      "Accuracy score: 0.70\n",
      "Confusion matrix:\n",
      " [[ 8  5]\n",
      " [ 4 13]]\n",
      "Precision score:  0.6981481481481481\n",
      "Recall score:  0.7\n",
      "f1 score:  0.6982857142857142\n",
      "ROC AUC score:  0.6900452488687784\n"
     ]
    }
   ],
   "source": [
    "estimators = {\n",
    "    # svm.SVC(kernel='linear', class_weight='balanced'): {\n",
    "    #     'C': [0.02, 0.5, 1.0, 1.5, 2, 3, 4, 5, 10, 50],\n",
    "    #     'kernel': ('linear', 'poly', 'rbf'),\n",
    "    #     'decision_function_shape' : ('ovo', 'ovr'),\n",
    "    # },\n",
    "    LogisticRegression(class_weight='balanced'): {\n",
    "        'C': [0.02, 0.5, 1.0, 2, 3, 4, 5, 10, 20, 50],\n",
    "        'penalty': ['l2', 'l1'],\n",
    "    },\n",
    "}\n",
    "seed = randint(0, 100000)\n",
    "print('Seed: %s' % seed)\n",
    "channels = ['T4']\n",
    "for estimator, params in estimators.items():\n",
    "    est = grid_search.GridSearchCV(estimator, params, iid=False, scoring=scorer, cv=4)\n",
    "    est = predict('dep', None, ('dfa',), est, show_selected=True, channels=channels, seed=seed)"
   ]
  },
  {
   "cell_type": "markdown",
   "metadata": {},
   "source": [
    "## Sample entropy"
   ]
  },
  {
   "cell_type": "code",
   "execution_count": 65,
   "metadata": {},
   "outputs": [
    {
     "name": "stdout",
     "output_type": "stream",
     "text": [
      "Seed: 67493\n",
      "Training distribution:  {-1: 33, 1: 34}\n",
      "Testing distribution:  {-1: 16, 1: 14}\n",
      "Accuracy score: 0.77\n",
      "Confusion matrix:\n",
      " [[12  4]\n",
      " [ 3 11]]\n",
      "Precision score:  0.7688888888888888\n",
      "Recall score:  0.7666666666666667\n",
      "f1 score:  0.7669262143121988\n",
      "ROC AUC score:  0.7678571428571428\n"
     ]
    }
   ],
   "source": [
    "estimators = {\n",
    "    # svm.SVC(kernel='linear', class_weight='balanced'): {\n",
    "    #     'C': [0.02, 0.5, 1.0, 1.5, 2, 3, 4, 5, 10, 50],\n",
    "    #     'kernel': ('linear', 'poly', 'rbf'),\n",
    "    #     'decision_function_shape' : ('ovo', 'ovr'),\n",
    "    # },\n",
    "    LogisticRegression(class_weight='balanced'): {\n",
    "        'C': [0.02, 0.5, 1.0, 2, 3, 4, 5, 10, 20, 50],\n",
    "        'penalty': ['l2', 'l1'],\n",
    "    },\n",
    "}\n",
    "seed = randint(0, 100000)\n",
    "print('Seed: %s' % seed)\n",
    "channels = ['T6']\n",
    "for estimator, params in estimators.items():\n",
    "    est = grid_search.GridSearchCV(estimator, params, iid=False, scoring=scorer, cv=4)\n",
    "    est = predict('dep', None, ('sampen',), est, show_selected=True, channels=channels, seed=seed)"
   ]
  },
  {
   "cell_type": "markdown",
   "metadata": {},
   "source": [
    "## Hurst exponent"
   ]
  },
  {
   "cell_type": "code",
   "execution_count": 69,
   "metadata": {},
   "outputs": [
    {
     "name": "stdout",
     "output_type": "stream",
     "text": [
      "Seed: 32420\n",
      "Training distribution:  {-1: 36, 1: 31}\n",
      "Testing distribution:  {-1: 13, 1: 17}\n",
      "Accuracy score: 0.70\n",
      "Confusion matrix:\n",
      " [[ 8  5]\n",
      " [ 4 13]]\n",
      "Precision score:  0.6981481481481481\n",
      "Recall score:  0.7\n",
      "f1 score:  0.6982857142857142\n",
      "ROC AUC score:  0.6900452488687784\n"
     ]
    }
   ],
   "source": [
    "estimators = {\n",
    "    # svm.SVC(kernel='linear', class_weight='balanced'): {\n",
    "    #     'C': [0.02, 0.5, 1.0, 1.5, 2, 3, 4, 5, 10, 50],\n",
    "    #     'kernel': ('linear', 'poly', 'rbf'),\n",
    "    #     'decision_function_shape' : ('ovo', 'ovr'),\n",
    "    # },\n",
    "    LogisticRegression(class_weight='balanced'): {\n",
    "        'C': [0.02, 0.5, 1.0, 2, 3, 4, 5, 10, 20, 50],\n",
    "        'penalty': ['l2', 'l1'],\n",
    "    },\n",
    "}\n",
    "seed = randint(0, 100000)\n",
    "print('Seed: %s' % seed)\n",
    "channels = ['T4']\n",
    "for estimator, params in estimators.items():\n",
    "    est = grid_search.GridSearchCV(estimator, params, iid=False, scoring=scorer, cv=4)\n",
    "    est = predict('dep', None, ('hurst',), est, show_selected=True, channels=channels, seed=seed)"
   ]
  },
  {
   "cell_type": "markdown",
   "metadata": {},
   "source": [
    "## Correlation dimension"
   ]
  },
  {
   "cell_type": "code",
   "execution_count": 34,
   "metadata": {
    "scrolled": true
   },
   "outputs": [
    {
     "name": "stdout",
     "output_type": "stream",
     "text": [
      "Seed: 5648\n",
      "Accuracy: 0.58 (+/- 0.14)\n",
      "Precision: 0.59 (+/- 0.15)\n",
      "Recall: 0.58 (+/- 0.14)\n",
      "F1: 0.58 (+/- 0.15)\n"
     ]
    },
    {
     "name": "stderr",
     "output_type": "stream",
     "text": [
      "/home/kovar/miniconda3/envs/thesis/lib/python3.6/site-packages/pandas/core/reshape/merge.py:544: UserWarning: merging between different levels can give an unintended result (2 levels on the left, 1 on the right)\n",
      "  warnings.warn(msg, UserWarning)\n"
     ]
    }
   ],
   "source": [
    "estimators = {\n",
    "    # svm.SVC(kernel='linear', class_weight='balanced'): {\n",
    "    #     'C': [0.02, 0.5, 1.0, 1.5, 2, 3, 4, 5, 10, 50],\n",
    "    #     'kernel': ('linear', 'poly', 'rbf'),\n",
    "    #     'decision_function_shape' : ('ovo', 'ovr'),\n",
    "    # },\n",
    "    LogisticRegression(class_weight='balanced'): {\n",
    "        'C': [0.02, 0.5, 1.0, 2, 3, 4, 5, 10, 20, 50],\n",
    "        'penalty': ['l2', 'l1'],\n",
    "    },\n",
    "}\n",
    "# 36622\n",
    "channels = ['C3']\n",
    "for estimator, params in estimators.items():\n",
    "    # est = grid_search.GridSearchCV(estimator, params, iid=False, scoring=scorer, cv=4)\n",
    "    est = predict('dep', None, ('corr',), estimator, show_selected=True, channels=channels)"
   ]
  },
  {
   "cell_type": "code",
   "execution_count": null,
   "metadata": {},
   "outputs": [],
   "source": []
  }
 ],
 "metadata": {
  "kernelspec": {
   "display_name": "Python 3",
   "language": "python",
   "name": "python3"
  },
  "language_info": {
   "codemirror_mode": {
    "name": "ipython",
    "version": 3
   },
   "file_extension": ".py",
   "mimetype": "text/x-python",
   "name": "python",
   "nbconvert_exporter": "python",
   "pygments_lexer": "ipython3",
   "version": "3.6.8"
  },
  "toc": {
   "base_numbering": 1,
   "nav_menu": {},
   "number_sections": true,
   "sideBar": true,
   "skip_h1_title": false,
   "title_cell": "Table of Contents",
   "title_sidebar": "Contents",
   "toc_cell": false,
   "toc_position": {},
   "toc_section_display": true,
   "toc_window_display": true
  }
 },
 "nbformat": 4,
 "nbformat_minor": 2
}
